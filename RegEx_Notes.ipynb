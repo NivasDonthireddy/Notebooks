{
 "cells": [
  {
   "cell_type": "markdown",
   "id": "cultural-vision",
   "metadata": {},
   "source": [
    "`@NivasDonthireddy -- github pages`"
   ]
  },
  {
   "cell_type": "markdown",
   "id": "manufactured-clearing",
   "metadata": {},
   "source": [
    "`@Durgasoft Tutorials`"
   ]
  },
  {
   "cell_type": "markdown",
   "id": "enhanced-flesh",
   "metadata": {},
   "source": [
    "`Applications of RegEx`\n",
    "\n",
    "1. Implementing Validation Framework \n",
    "2. Pattern Matching Applications\n",
    "3. Designing of Translators etc Compiler,Assemblers\n",
    "4. Designing Digital Circuits.\n",
    "5. Communication of Protocols developing"
   ]
  },
  {
   "cell_type": "markdown",
   "id": "restricted-parker",
   "metadata": {},
   "source": [
    "`xxx`\n",
    "`Different phases of Compiler Design`\n",
    "\n",
    "1. Lexical Analysis  (scanning or tokenization) - this is implemented by RegEx\n",
    "2. Syntax Analysis\n",
    "3. Symantic Analysis\n",
    "4. Intermediate Code Generation\n",
    "5. Code Optimization\n",
    "6. Target code Generation"
   ]
  },
  {
   "cell_type": "markdown",
   "id": "cheap-chassis",
   "metadata": {},
   "source": [
    "`Pattern Matching Application Example`"
   ]
  },
  {
   "cell_type": "code",
   "execution_count": 609,
   "id": "supposed-checklist",
   "metadata": {},
   "outputs": [
    {
     "name": "stdout",
     "output_type": "stream",
     "text": [
      "0 2 ab\n",
      "2 4 ab\n",
      "5 7 ab\n",
      "No. of occurances: 3\n"
     ]
    }
   ],
   "source": [
    "import java.util.regex.*;\n",
    "//inside main\n",
    "int count=0;\n",
    "Pattern p = Pattern.compile(\"ab\");\n",
    "// compile method is a static  method of Pattern Class\n",
    "\n",
    "Matcher m = p.matcher(\"ababbaba\");\n",
    "\n",
    "while(m.find()){\n",
    "    count++;\n",
    "    System.out.println(m.start()+\" \"+m.end()+\" \"+m.group());\n",
    "}\n",
    "System.out.println(\"No. of occurances: \"+count);"
   ]
  },
  {
   "cell_type": "code",
   "execution_count": 81,
   "id": "hybrid-genome",
   "metadata": {},
   "outputs": [
    {
     "data": {
      "text/plain": [
       "true"
      ]
     },
     "execution_count": 81,
     "metadata": {},
     "output_type": "execute_result"
    }
   ],
   "source": [
    "String regex1 = \"ni(v|w)as\";\n",
    "String str1 = \"niwas\";\n",
    "str1.matches(regex1);"
   ]
  },
  {
   "cell_type": "code",
   "execution_count": 88,
   "id": "boolean-diana",
   "metadata": {},
   "outputs": [
    {
     "data": {
      "text/plain": [
       "true"
      ]
     },
     "execution_count": 88,
     "metadata": {},
     "output_type": "execute_result"
    }
   ],
   "source": [
    "String regex1 = \"[^a-z]\";\n",
    "String str1 = \"9\";\n",
    "str1.matches(regex1);"
   ]
  },
  {
   "cell_type": "code",
   "execution_count": 208,
   "id": "associate-controversy",
   "metadata": {},
   "outputs": [
    {
     "data": {
      "text/plain": [
       "true"
      ]
     },
     "execution_count": 208,
     "metadata": {},
     "output_type": "execute_result"
    }
   ],
   "source": [
    "String regex1 = \"[A-Za-z0-9]+@[A-Za-z]+(.com|.in)\";\n",
    "String str1 = \"dlnivas@hotmail.com\";\n",
    "str1.matches(regex1);"
   ]
  },
  {
   "cell_type": "code",
   "execution_count": 374,
   "id": "sensitive-douglas",
   "metadata": {},
   "outputs": [
    {
     "name": "stdout",
     "output_type": "stream",
     "text": [
      "Invalid password\n"
     ]
    }
   ],
   "source": [
    "public static boolean isValidPassword(String password){\n",
    "    if(password.matches(regex)){\n",
    "        return true;\n",
    "    }\n",
    "    else{\n",
    "        return false;\n",
    "    }\n",
    "}\n",
    "\n",
    "String password = \"Nivasre1234\";\n",
    "String regex = \"[a-zA-z]{8,10}[0-9]{4}\";\n",
    "\n",
    "if(isValidPassword(password)){\n",
    "    System.out.println(str1+\" is a valid password\");\n",
    "}\n",
    "else{\n",
    "    System.out.println(\"Invalid password\");\n",
    "}"
   ]
  },
  {
   "cell_type": "code",
   "execution_count": 388,
   "id": "documentary-knife",
   "metadata": {},
   "outputs": [
    {
     "data": {
      "text/plain": [
       "false"
      ]
     },
     "execution_count": 388,
     "metadata": {},
     "output_type": "execute_result"
    }
   ],
   "source": [
    "String regex = \"([A-Z][a-z]+\\\\s[A-Z][a-z]+){2,30}\";\n",
    "String str = \"\";\n",
    "str.matches(regex);"
   ]
  },
  {
   "cell_type": "code",
   "execution_count": 429,
   "id": "hungry-burlington",
   "metadata": {},
   "outputs": [
    {
     "data": {
      "text/plain": [
       "true"
      ]
     },
     "execution_count": 429,
     "metadata": {},
     "output_type": "execute_result"
    }
   ],
   "source": [
    "String regex1=\"[A-Z][a-z]{2,32}\";\n",
    "String str1=\"Nivas Donthireddy\";\n",
    "str1.matches(regex1);"
   ]
  },
  {
   "cell_type": "markdown",
   "id": "happy-basket",
   "metadata": {},
   "source": [
    "`To get 10 digit mobile numbers`"
   ]
  },
  {
   "cell_type": "code",
   "execution_count": 440,
   "id": "lesbian-crack",
   "metadata": {},
   "outputs": [
    {
     "data": {
      "text/plain": [
       "true"
      ]
     },
     "execution_count": 440,
     "metadata": {},
     "output_type": "execute_result"
    }
   ],
   "source": [
    "String regex1=\"([7-9][0-9]{9})|(0[7-9][0-9]{9})\";\n",
    "String str1=\"07252952909\";\n",
    "str1.matches(regex1);"
   ]
  },
  {
   "cell_type": "markdown",
   "id": "charitable-utilization",
   "metadata": {},
   "source": [
    "`To get 10 digit and 11 digit mobile numbers`"
   ]
  },
  {
   "cell_type": "code",
   "execution_count": 441,
   "id": "christian-sacrifice",
   "metadata": {},
   "outputs": [
    {
     "data": {
      "text/plain": [
       "true"
      ]
     },
     "execution_count": 441,
     "metadata": {},
     "output_type": "execute_result"
    }
   ],
   "source": [
    "String regex1=\"0?[7-9][0-9]{9}\";\n",
    "String str1=\"07252952909\";\n",
    "str1.matches(regex1);"
   ]
  },
  {
   "cell_type": "markdown",
   "id": "violent-characterization",
   "metadata": {},
   "source": [
    "`To get 10 digit or 11 digit or 12 digit mobile numbers`"
   ]
  },
  {
   "cell_type": "code",
   "execution_count": 483,
   "id": "sharing-boards",
   "metadata": {},
   "outputs": [
    {
     "data": {
      "text/plain": [
       "true"
      ]
     },
     "execution_count": 483,
     "metadata": {},
     "output_type": "execute_result"
    }
   ],
   "source": [
    "String regex1=\"(0|91)?[7-9][0-9]{9}\";\n",
    "String str1=\"917252952909\";\n",
    "str1.matches(regex1);"
   ]
  },
  {
   "cell_type": "code",
   "execution_count": 486,
   "id": "unexpected-block",
   "metadata": {},
   "outputs": [
    {
     "data": {
      "text/plain": [
       "true"
      ]
     },
     "execution_count": 486,
     "metadata": {},
     "output_type": "execute_result"
    }
   ],
   "source": [
    "String regex1=\"[a-k][0369][a-zA-Z0-9$#]*\";\n",
    "String str1=\"a0$\";\n",
    "str1.matches(regex1);"
   ]
  },
  {
   "cell_type": "markdown",
   "id": "medieval-agenda",
   "metadata": {},
   "source": [
    "`To fetch all the names that start with A or a`"
   ]
  },
  {
   "cell_type": "code",
   "execution_count": 489,
   "id": "worse-finger",
   "metadata": {},
   "outputs": [
    {
     "data": {
      "text/plain": [
       "true"
      ]
     },
     "execution_count": 489,
     "metadata": {},
     "output_type": "execute_result"
    }
   ],
   "source": [
    "String regex1=\"[aA][a-zA-Z]*\";\n",
    "String str1=\"Akhil\";\n",
    "str1.matches(regex1);"
   ]
  },
  {
   "cell_type": "markdown",
   "id": "employed-necklace",
   "metadata": {},
   "source": [
    "`all names that ends with 'l'`"
   ]
  },
  {
   "cell_type": "code",
   "execution_count": 495,
   "id": "primary-tokyo",
   "metadata": {},
   "outputs": [
    {
     "data": {
      "text/plain": [
       "true"
      ]
     },
     "execution_count": 495,
     "metadata": {},
     "output_type": "execute_result"
    }
   ],
   "source": [
    "String regex1=\"[a-zA-Z]*[lL]\";\n",
    "String str1=\"Akhil\";\n",
    "str1.matches(regex1);"
   ]
  },
  {
   "cell_type": "code",
   "execution_count": 608,
   "id": "activated-grammar",
   "metadata": {},
   "outputs": [
    {
     "data": {
      "text/plain": [
       "true"
      ]
     },
     "execution_count": 608,
     "metadata": {},
     "output_type": "execute_result"
    }
   ],
   "source": [
    "String regex1=\"^([A-Z][a-zA-Z ]*){2,30}$\";\n",
    "String str1=\"Nivas Donthireddy Vijay\";\n",
    "str1.matches(regex1);"
   ]
  },
  {
   "cell_type": "markdown",
   "id": "happy-yorkshire",
   "metadata": {},
   "source": [
    "`RegEx -  A-02`"
   ]
  },
  {
   "cell_type": "code",
   "execution_count": 628,
   "id": "amateur-rally",
   "metadata": {},
   "outputs": [
    {
     "name": "stdout",
     "output_type": "stream",
     "text": [
      "The web address is valid!\n"
     ]
    }
   ],
   "source": [
    "class Tester {\n",
    "\n",
    "    public static boolean checkWebAddressValidity(String webAddress) {\n",
    "        String regex = \"(http|https):(//)(www.)?[a-zA-Z0-9_]*[.](com|org|net)\";\n",
    "        return webAddress.matches(regex);\n",
    "\n",
    "    }\n",
    "      \n",
    "    public static void main(String[] args) {\n",
    "        \n",
    "        //Change the value of webAddress for testing your code with different web addresses\n",
    "        String webAddress = \"http://www.company.com\";\n",
    "        System.out.println(\"The web address is \"+ (checkWebAddressValidity(webAddress) ? \"valid!\" : \"invalid!\"));\n",
    "    }\n",
    "}\n"
   ]
  },
  {
   "cell_type": "code",
   "execution_count": null,
   "id": "sixth-rendering",
   "metadata": {},
   "outputs": [],
   "source": []
  }
 ],
 "metadata": {
  "kernelspec": {
   "display_name": "Java",
   "language": "java",
   "name": "java"
  },
  "language_info": {
   "codemirror_mode": "java",
   "file_extension": ".jshell",
   "mimetype": "text/x-java-source",
   "name": "Java",
   "pygments_lexer": "java",
   "version": "15.0.2+7-27"
  }
 },
 "nbformat": 4,
 "nbformat_minor": 5
}
