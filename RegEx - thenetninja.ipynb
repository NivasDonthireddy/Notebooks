{
 "cells": [
  {
   "cell_type": "markdown",
   "id": "mediterranean-supplier",
   "metadata": {},
   "source": [
    "`@NivasDonthireddy - GithubPages`\n",
    "\n",
    "`RegEx`\n",
    "--TheNetNinja Youtube Playlist"
   ]
  },
  {
   "cell_type": "markdown",
   "id": "cardiovascular-flash",
   "metadata": {},
   "source": [
    "`Resources`\n",
    "\n",
    "1. https://github.com/iamshaunjp/regex-playlist     -- source files for course\n",
    "\n",
    "2. https://regex101.com/  -- online execution of code"
   ]
  },
  {
   "cell_type": "markdown",
   "id": "afraid-namibia",
   "metadata": {},
   "source": [
    "`Regex Lex- Exercise`"
   ]
  },
  {
   "cell_type": "code",
   "execution_count": 71,
   "id": "color-humanitarian",
   "metadata": {},
   "outputs": [
    {
     "data": {
      "text/plain": [
       "true"
      ]
     },
     "execution_count": 71,
     "metadata": {},
     "output_type": "execute_result"
    }
   ],
   "source": [
    "String regex1 = \"^(?=.{2,32}$)[A-Z][a-zA-Z ]*[a-zA-Z]$\";\n",
    "String url = \"Sterling sdfdf\";\n",
    "url.matches(regex1);"
   ]
  },
  {
   "cell_type": "markdown",
   "id": "cardiac-fabric",
   "metadata": {},
   "source": [
    "`Regex Assignment - 01`"
   ]
  },
  {
   "cell_type": "code",
   "execution_count": null,
   "id": "moved-sellers",
   "metadata": {},
   "outputs": [],
   "source": [
    "^(?=.*[0-9])(?=.*[a-z])(?=.*[A-Z])(?=\\\\S+$)(?=.*[!@#$%&*_]).{8,20}$"
   ]
  },
  {
   "cell_type": "markdown",
   "id": "opponent-planner",
   "metadata": {},
   "source": [
    "`Regex Assignment - 02`"
   ]
  },
  {
   "cell_type": "code",
   "execution_count": 105,
   "id": "specialized-passenger",
   "metadata": {},
   "outputs": [],
   "source": [
    "class Tester {\n",
    "\n",
    "    public static boolean checkWebAddressValidity(String webAddress) {\n",
    "        //Implement your code here and change the return value accordingly\n",
    "        String regex1 = \"^(https|http)://(w{3}\\\\.)?[a-zA-Z0-9]+\\\\.(com|org|net)$\";\n",
    "        return webAddress.matches(regex1);\n",
    "    }\n",
    "      \n",
    "    public static void main(String[] args) {\n",
    "        \n",
    "        //Change the value of webAddress for testing your code with different web addresses\n",
    "        String webAddress = \"http://www.company.com\";\n",
    "        System.out.println(\"The web address is \"+ (checkWebAddressValidity(webAddress) ? \"valid!\" : \"invalid!\"));\n",
    "    }\n",
    "}\n"
   ]
  },
  {
   "cell_type": "code",
   "execution_count": 95,
   "id": "civilian-determination",
   "metadata": {},
   "outputs": [
    {
     "data": {
      "text/plain": [
       "true"
      ]
     },
     "execution_count": 95,
     "metadata": {},
     "output_type": "execute_result"
    }
   ],
   "source": [
    "String regex1 = \"^(https|http)://(w{3}\\\\.)?[a-zA-Z0-9]+\\\\.(com|org|net)$\";\n",
    "String url = \"https://www.energyreflux.org\";\n",
    "url.matches(regex1);"
   ]
  },
  {
   "cell_type": "markdown",
   "id": "vietnamese-jenny",
   "metadata": {},
   "source": [
    "`Regex Assignment - 02`"
   ]
  },
  {
   "cell_type": "code",
   "execution_count": 70,
   "id": "incorporate-hello",
   "metadata": {
    "tags": []
   },
   "outputs": [
    {
     "name": "stdout",
     "output_type": "stream",
     "text": [
      "The product name is valid!\n",
      "The product Id is valid!\n",
      "The tracker Id is valid!\n"
     ]
    }
   ],
   "source": [
    "class Shipment{\n",
    "\n",
    "    public boolean checkProductNameValidity(String productName) {\n",
    "        //Implement your code here and change the return value accordingly\n",
    "        String regex1 = \"[a-zA-Z]+(\\\\s[a-zA-Z]+){1,2}\";\n",
    "        return productName.matches(regex1); \n",
    "    }\n",
    "\n",
    "    public boolean checkProductIdValidity(String productId) {\n",
    "        //Implement your code here and change the return value accordingly\n",
    "        String regex1 = \"^(?=.{2,20}$)[a-zA-Z0-9]+$\";\n",
    "        return productId.matches(regex1); \n",
    "    }\n",
    "\n",
    "    public boolean checkTrackerIdValidity(String trackerId) {\n",
    "        //Implement your code here and change the return value accordingly\n",
    "        String regex1 = \"^[A-Z]:[A-Z]{4}:[a-z]{3}:[0-9]{2}\";\n",
    "        return trackerId.matches(regex1); \n",
    "    }\n",
    "\n",
    "}\n",
    "\n",
    "// inside main\n",
    "Shipment shipment = new Shipment();\n",
    "\n",
    "//Change the values for testing your code with different values\n",
    "\n",
    "String productName = \"Digital Camera\";\n",
    "System.out.println(\"The product name is \"+ (shipment.checkProductNameValidity(productName) ? \"valid!\" : \"invalid!\"));\n",
    "\n",
    "String productId = \"DC1911\";\n",
    "System.out.println(\"The product Id is \"+ (shipment.checkProductIdValidity(productId) ? \"valid!\" : \"invalid!\"));\n",
    "\n",
    "String trackerId = \"D:CMDC:cmd:23\";\n",
    "System.out.println(\"The tracker Id is \"+ (shipment.checkTrackerIdValidity(trackerId) ? \"valid!\" : \"invalid!\"));"
   ]
  },
  {
   "cell_type": "markdown",
   "id": "suited-happening",
   "metadata": {},
   "source": [
    "`Recursion Assignments`"
   ]
  },
  {
   "cell_type": "markdown",
   "id": "electoral-internet",
   "metadata": {},
   "source": [
    "`Recursion - A-01`"
   ]
  },
  {
   "cell_type": "code",
   "execution_count": 83,
   "id": "certain-traffic",
   "metadata": {},
   "outputs": [
    {
     "data": {
      "text/plain": [
       "720"
      ]
     },
     "execution_count": 83,
     "metadata": {},
     "output_type": "execute_result"
    }
   ],
   "source": [
    "class Tester{\n",
    "    public static int factorial(int n){\n",
    "        if (n==1){\n",
    "            return 1;\n",
    "        }\n",
    "        else{\n",
    "            return n*factorial(n-1);\n",
    "        }\n",
    "    }\n",
    "}\n",
    "\n",
    "Tester.factorial(6);"
   ]
  },
  {
   "cell_type": "code",
   "execution_count": 90,
   "id": "stupid-spectacular",
   "metadata": {},
   "outputs": [
    {
     "name": "stdout",
     "output_type": "stream",
     "text": [
      "0 1 1 2 3 5 8 "
     ]
    }
   ],
   "source": [
    "int n=7;\n",
    "int arr[] = new int[n];\n",
    "arr[0]=0;\n",
    "arr[1]=1;\n",
    "for(int i=2;i<n;i++){\n",
    "    arr[i] = arr[i-1]+arr[i-2];\n",
    "}\n",
    "for(int i:arr){\n",
    "    System.out.print(i+\" \");\n",
    "}"
   ]
  },
  {
   "cell_type": "code",
   "execution_count": null,
   "id": "lucky-trout",
   "metadata": {},
   "outputs": [],
   "source": [
    "class Tester{\n",
    "    int arr[];\n",
    "    public static void fibonacci(int n){\n",
    "        if(n==1){\n",
    "            return 0;\n",
    "        }\n",
    "        else if(n==2){\n",
    "            return 1;\n",
    "        }\n",
    "        else{\n",
    "            fibonacci\n",
    "        }\n",
    "    }\n",
    "}"
   ]
  }
 ],
 "metadata": {
  "kernelspec": {
   "display_name": "Java",
   "language": "java",
   "name": "java"
  },
  "language_info": {
   "codemirror_mode": "java",
   "file_extension": ".jshell",
   "mimetype": "text/x-java-source",
   "name": "Java",
   "pygments_lexer": "java",
   "version": "15.0.2+7-27"
  }
 },
 "nbformat": 4,
 "nbformat_minor": 5
}
