{
 "cells": [
  {
   "cell_type": "markdown",
   "id": "figured-resolution",
   "metadata": {},
   "source": [
    "@www.youtube.com/telusko\n",
    "\n",
    "`Navin Reddy | Java Complete Tutorial for Beginners |`"
   ]
  },
  {
   "cell_type": "markdown",
   "id": "amino-twelve",
   "metadata": {},
   "source": [
    "`Hello World Program`"
   ]
  },
  {
   "cell_type": "code",
   "execution_count": 41,
   "id": "behind-trance",
   "metadata": {},
   "outputs": [
    {
     "name": "stdout",
     "output_type": "stream",
     "text": [
      "Hello"
     ]
    }
   ],
   "source": [
    "//Sytem(Class).out(Object).print(Method)\n",
    "System.out.print(\"Hello\");\n",
    "\n",
    "//In java everything should be in class"
   ]
  },
  {
   "cell_type": "markdown",
   "id": "considerable-miniature",
   "metadata": {},
   "source": [
    "For the java program to execute - `javac ` & `java`"
   ]
  },
  {
   "cell_type": "markdown",
   "id": "guided-council",
   "metadata": {},
   "source": [
    "`Variables & different Data Types`"
   ]
  },
  {
   "cell_type": "markdown",
   "id": "august-scholarship",
   "metadata": {},
   "source": [
    "<pre>int - 4 bytes\n",
    "float - 4 bytes\n",
    "double - 8 bytes\n",
    "char - 2 bytes\n",
    "\n",
    "short int - 2 bytes\n",
    "long int - 8 bytes\n",
    "byte -1 byte</pre>"
   ]
  },
  {
   "cell_type": "markdown",
   "id": "resident-museum",
   "metadata": {},
   "source": [
    "By default in java any real number is double so you need to convert the double to float by adding f at the end of the double number passed.(To save memory)"
   ]
  },
  {
   "cell_type": "code",
   "execution_count": 38,
   "id": "raising-telescope",
   "metadata": {},
   "outputs": [],
   "source": [
    "char c = ' ';\n",
    "//characters should be in single quote\n",
    "// The char is converted to binary with the help of ASCII Code\n",
    "// ASCII is equivalent integer representation of character."
   ]
  },
  {
   "cell_type": "code",
   "execution_count": 39,
   "id": "further-panama",
   "metadata": {},
   "outputs": [
    {
     "data": {
      "text/plain": [
       "32"
      ]
     },
     "execution_count": 39,
     "metadata": {},
     "output_type": "execute_result"
    }
   ],
   "source": [
    "(int)c\n",
    "// When you type cast character with int you will get ASCII Code."
   ]
  },
  {
   "cell_type": "code",
   "execution_count": 40,
   "id": "careful-oxygen",
   "metadata": {},
   "outputs": [
    {
     "data": {
      "text/plain": [
       "D"
      ]
     },
     "execution_count": 40,
     "metadata": {},
     "output_type": "execute_result"
    }
   ],
   "source": [
    "(char)68;\n",
    "// we cam type cast integer value to see the equivalent ASCII char."
   ]
  },
  {
   "cell_type": "markdown",
   "id": "confident-parish",
   "metadata": {},
   "source": [
    "`Naming Conventions in Java` - refer earlier notes"
   ]
  },
  {
   "cell_type": "markdown",
   "id": "inner-subcommittee",
   "metadata": {},
   "source": [
    "`How java Works`"
   ]
  },
  {
   "cell_type": "markdown",
   "id": "comic-parliament",
   "metadata": {},
   "source": [
    "Source file(`.java`) --> Compiler(`javac`) --> byte code(`.class`file) -->JVM(`java`) ---> output"
   ]
  },
  {
   "cell_type": "markdown",
   "id": "threaded-anthropology",
   "metadata": {},
   "source": [
    "`print statements in Java`"
   ]
  },
  {
   "cell_type": "code",
   "execution_count": 48,
   "id": "legal-florence",
   "metadata": {},
   "outputs": [
    {
     "name": "stdout",
     "output_type": "stream",
     "text": [
      "The addition of 5 and 4 is 9\n",
      "The addition of 5 and 4 is 9"
     ]
    },
    {
     "data": {
      "text/plain": [
       "java.io.PrintStream@696920a5"
      ]
     },
     "execution_count": 48,
     "metadata": {},
     "output_type": "execute_result"
    }
   ],
   "source": [
    "int i = 5;\n",
    "int j= 4;\n",
    "int k = i+j;\n",
    "System.out.println(\"The addition of \"+i+\" and \"+j+\" is \"+k);\n",
    "// println returns nothing\n",
    "System.out.printf(\"The addition of %d and %d is %d\",i,j,k);\n",
    "// printf returns object of PrintStream"
   ]
  },
  {
   "cell_type": "markdown",
   "id": "northern-calculation",
   "metadata": {},
   "source": [
    "`Shorthand operators in Java`"
   ]
  },
  {
   "cell_type": "code",
   "execution_count": 62,
   "id": "neural-reynolds",
   "metadata": {},
   "outputs": [
    {
     "data": {
      "text/plain": [
       "20"
      ]
     },
     "execution_count": 62,
     "metadata": {},
     "output_type": "execute_result"
    }
   ],
   "source": [
    "// += , -=,*= ....\n",
    "int i;\n",
    "i += 2; //i = i+2\n",
    "i -= 2; //i = i-2\n",
    "i *= 2; //i = i*2\n",
    "\n",
    "byte b =8;\n",
    "// b = b*2.5;\n",
    "// the above statement throws error.\n",
    "b*=2.5;\n",
    "// This statement will be executed becoz\n",
    "// T(E1) op E2 . answer will of type E1 always.\n",
    "// so Both statements are not exactly same."
   ]
  },
  {
   "cell_type": "markdown",
   "id": "graduate-company",
   "metadata": {},
   "source": [
    "`Binary Literal in Java`"
   ]
  },
  {
   "cell_type": "code",
   "execution_count": 72,
   "id": "brave-beast",
   "metadata": {},
   "outputs": [
    {
     "name": "stdout",
     "output_type": "stream",
     "text": [
      "5\n",
      "1024\n"
     ]
    }
   ],
   "source": [
    "// to convert the binary input to decimal output\n",
    "// '0B' Binary number\n",
    "int i = 0B101;\n",
    "System.out.println(i);\n",
    "\n",
    "// We can use Underscores for readablity of zeroes.\n",
    "i = 0b100_00_00_00_00;\n",
    "System.out.println(i);"
   ]
  },
  {
   "cell_type": "markdown",
   "id": "therapeutic-circular",
   "metadata": {},
   "source": [
    "`Pre & Post Increment in Java`"
   ]
  },
  {
   "cell_type": "code",
   "execution_count": 83,
   "id": "guilty-meter",
   "metadata": {},
   "outputs": [
    {
     "name": "stdout",
     "output_type": "stream",
     "text": [
      "i++ --> j : 5 & i : 6\n",
      "++i --> j : 6 & i : 6\n"
     ]
    }
   ],
   "source": [
    "int i = 5;\n",
    "j = i++;// i++ --> i = i+1\n",
    "System.out.println(\"i++ --> j : \"+j+\" & i : \"+i);\n",
    "// i++ is post increment operator.\n",
    "// First assigns then increments the value of i\n",
    "\n",
    "int i = 5;\n",
    "j = ++i;\n",
    "    \n",
    "System.out.println(\"++i --> j : \"+j+\" & i : \"+i);\n",
    "// ++i is pre increment operator\n",
    "// First increments i then assigns the value of i"
   ]
  },
  {
   "cell_type": "code",
   "execution_count": 86,
   "id": "resistant-province",
   "metadata": {},
   "outputs": [
    {
     "name": "stdout",
     "output_type": "stream",
     "text": [
      "5\n",
      "5\n"
     ]
    }
   ],
   "source": [
    "// Guess output\n",
    "int i=5;\n",
    "i = i++;\n",
    "System.out.println(i);\n",
    "\n",
    "// The above code goes this way\n",
    "int temp;\n",
    "temp = i;\n",
    "i++;\n",
    "i = temp;\n",
    "System.out.println(i);"
   ]
  },
  {
   "cell_type": "markdown",
   "id": "collective-middle",
   "metadata": {},
   "source": [
    "`Bitwise Operators - AND & OR`"
   ]
  },
  {
   "cell_type": "code",
   "execution_count": 91,
   "id": "aerial-mouth",
   "metadata": {},
   "outputs": [
    {
     "name": "stdout",
     "output_type": "stream",
     "text": [
      "a&b --> 9\n",
      "a|c --> 31\n"
     ]
    }
   ],
   "source": [
    "// to use bitwise operator need to convert the number to binary\n",
    "int a = 25; // 1 1 0 0 1\n",
    "int b = 15; // 0 1 1 1 1\n",
    "\n",
    "// & 1 1 -> 1\n",
    "// | 1 0 -> 1\n",
    "// | 0 0 -> 0\n",
    "// | 0 1 -> 1\n",
    "\n",
    "int c = a & b; //0 1 0 0 1 -->9\n",
    "int d = a | b; //1 1 1 1 1 -->31\n",
    "System.out.println(\"a&b --> \"+c);\n",
    "System.out.println(\"a|c --> \"+d);"
   ]
  },
  {
   "cell_type": "markdown",
   "id": "comic-timber",
   "metadata": {},
   "source": [
    "`Left shift and Right shift Operator - << >>`"
   ]
  },
  {
   "cell_type": "code",
   "execution_count": 95,
   "id": "interpreted-eagle",
   "metadata": {},
   "outputs": [
    {
     "name": "stdout",
     "output_type": "stream",
     "text": [
      "a << 2 --> 32\n",
      "a >> 2 --> 2\n"
     ]
    }
   ],
   "source": [
    "int a =8; //1 0 0 0\n",
    "\n",
    "int b = a << 2; // 1 0 0 0.0 0 --> 1 0 0 0 0 0 -->32\n",
    "int c = a >> 2; // 1 0 0 0.0 0 --> 1 0 -->2\n",
    "System.out.println(\"a << 2 --> \"+b);\n",
    "System.out.println(\"a >> 2 --> \"+c);"
   ]
  },
  {
   "cell_type": "markdown",
   "id": "sealed-chicken",
   "metadata": {},
   "source": [
    "`Booleans in Java`"
   ]
  },
  {
   "cell_type": "code",
   "execution_count": 8,
   "id": "crazy-funeral",
   "metadata": {},
   "outputs": [
    {
     "data": {
      "text/plain": [
       "false"
      ]
     },
     "execution_count": 8,
     "metadata": {},
     "output_type": "execute_result"
    }
   ],
   "source": [
    "// boolean - primitive data type\n",
    "// Boolean - Class\n",
    "\n",
    "boolean b=true;\n",
    "\n",
    "// inverting the boolean\n",
    "b = !b;\n",
    "b"
   ]
  },
  {
   "cell_type": "markdown",
   "id": "heated-documentation",
   "metadata": {},
   "source": [
    "`If-else` - refer notes"
   ]
  },
  {
   "cell_type": "markdown",
   "id": "secure-footwear",
   "metadata": {},
   "source": [
    "`Ternary operator`  - we can replace if -else with ternary"
   ]
  },
  {
   "cell_type": "code",
   "execution_count": 25,
   "id": "generic-municipality",
   "metadata": {},
   "outputs": [
    {
     "name": "stdout",
     "output_type": "stream",
     "text": [
      "10 ; 10.0\n"
     ]
    }
   ],
   "source": [
    "Object obj1;\n",
    "Object obj2;\n",
    "if (true){\n",
    "    obj1 = new Integer(10);\n",
    "}\n",
    "else{\n",
    "    obj1 = new Double(15.0);\n",
    "}\n",
    "\n",
    "\n",
    "// Using Ternary operator.\n",
    "\n",
    "obj2 = true?new Integer(10):new Double(15.0);\n",
    "System.out.println(obj1+\" ; \"+obj2);\n",
    "    \n",
    "// Ternary operator checks for the type of both the values and\n",
    "// whichever is max it will assign that value."
   ]
  },
  {
   "cell_type": "markdown",
   "id": "adequate-indianapolis",
   "metadata": {},
   "source": [
    "`Some tricks in Java`"
   ]
  },
  {
   "cell_type": "code",
   "execution_count": 30,
   "id": "coastal-birmingham",
   "metadata": {},
   "outputs": [
    {
     "name": "stdout",
     "output_type": "stream",
     "text": [
      "Hello World"
     ]
    }
   ],
   "source": [
    "// Print hello world without using Semicolon at end of println.\n",
    "// System.out.println(\"Hello World\");\n",
    "if(System.out.printf(\"Hello World\") == null){\n",
    "    \n",
    "}\n",
    "\n",
    "// println - returns void\n",
    "// printf - returns PrintStream."
   ]
  },
  {
   "cell_type": "markdown",
   "id": "suffering-oxygen",
   "metadata": {},
   "source": [
    "`Different ways of writing main method in Java Class`"
   ]
  },
  {
   "cell_type": "markdown",
   "id": "searching-settle",
   "metadata": {},
   "source": [
    "`switch - in java`"
   ]
  },
  {
   "cell_type": "markdown",
   "id": "varied-roads",
   "metadata": {},
   "source": [
    "`For & While loops`"
   ]
  },
  {
   "cell_type": "code",
   "execution_count": 1,
   "id": "union-perception",
   "metadata": {},
   "outputs": [
    {
     "name": "stdout",
     "output_type": "stream",
     "text": [
      "1\n",
      "2\n"
     ]
    }
   ],
   "source": [
    "int i=1;\n",
    "do{\n",
    "    System.out.println(i);\n",
    "    i++;\n",
    "}while(i<3)"
   ]
  },
  {
   "cell_type": "code",
   "execution_count": 2,
   "id": "modern-anime",
   "metadata": {},
   "outputs": [],
   "source": [
    "for(int i=0;i<2;i++){\n",
    "    //         \n",
    "}"
   ]
  },
  {
   "cell_type": "markdown",
   "id": "sweet-oxygen",
   "metadata": {},
   "source": [
    "`break`"
   ]
  },
  {
   "cell_type": "code",
   "execution_count": 3,
   "id": "qualified-guidance",
   "metadata": {},
   "outputs": [
    {
     "name": "stdout",
     "output_type": "stream",
     "text": [
      "* * * * \n",
      "* * * * \n",
      "\n",
      "* * * * \n"
     ]
    }
   ],
   "source": [
    "// UnLabelled Break;\n",
    "for(int i =1;i<5;i++){\n",
    "    for (int j=1;j<5;j++){\n",
    "        if(i==3){\n",
    "            break;\n",
    "        }\n",
    "        System.out.printf(\"* \");\n",
    "    }\n",
    "    System.out.println();\n",
    "}\n",
    "\n",
    "// breaks out of inside loop only"
   ]
  },
  {
   "cell_type": "code",
   "execution_count": 4,
   "id": "organizational-oregon",
   "metadata": {},
   "outputs": [
    {
     "name": "stdout",
     "output_type": "stream",
     "text": [
      "* * * * \n",
      "* * * * \n",
      "* "
     ]
    }
   ],
   "source": [
    "// Labelled Break;\n",
    "nivas:\n",
    "for(int i =1;i<5;i++){\n",
    "    for (int j=1;j<5;j++){\n",
    "        System.out.printf(\"* \");\n",
    "        if(i==3){\n",
    "            break nivas;\n",
    "        }\n",
    "        \n",
    "    }\n",
    "    System.out.println();\n",
    "}\n",
    "// Breaks out of outside loop as well"
   ]
  },
  {
   "cell_type": "code",
   "execution_count": null,
   "id": "victorian-jimmy",
   "metadata": {},
   "outputs": [],
   "source": [
    "public static"
   ]
  }
 ],
 "metadata": {
  "kernelspec": {
   "display_name": "Java",
   "language": "java",
   "name": "java"
  },
  "language_info": {
   "codemirror_mode": "java",
   "file_extension": ".jshell",
   "mimetype": "text/x-java-source",
   "name": "Java",
   "pygments_lexer": "java",
   "version": "15.0.2+7-27"
  }
 },
 "nbformat": 4,
 "nbformat_minor": 5
}
