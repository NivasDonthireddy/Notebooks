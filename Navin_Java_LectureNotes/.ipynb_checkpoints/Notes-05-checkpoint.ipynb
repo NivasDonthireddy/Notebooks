{
 "cells": [
  {
   "cell_type": "markdown",
   "id": "honey-advance",
   "metadata": {},
   "source": [
    "@www.youtube.com/telusko\n",
    "\n",
    "`Navin Reddy | Java Complete Tutorial for Beginners |`"
   ]
  },
  {
   "cell_type": "markdown",
   "id": "confident-genealogy",
   "metadata": {},
   "source": [
    "`Java Programs`"
   ]
  },
  {
   "cell_type": "markdown",
   "id": "japanese-prerequisite",
   "metadata": {},
   "source": [
    "`Program to print Ascii values in Java`"
   ]
  },
  {
   "cell_type": "code",
   "execution_count": 3,
   "id": "governmental-riding",
   "metadata": {},
   "outputs": [],
   "source": [
    "// American Standard Code for Information Interchange\n",
    "//ASCII - 7bits --> 2^7 = 128 -->Range is 0 --127 \n",
    "\n",
    "// for(int i=0;i<=127;i++){\n",
    "//     System.out.printf(\"&d : %c\",i,i);\n",
    "// }\n",
    "\n",
    "// println or print(\"/n\") --> both are same"
   ]
  },
  {
   "cell_type": "markdown",
   "id": "associate-cuisine",
   "metadata": {},
   "source": [
    "`Pattern Printing`"
   ]
  },
  {
   "cell_type": "code",
   "execution_count": 4,
   "id": "laughing-spyware",
   "metadata": {},
   "outputs": [
    {
     "name": "stdout",
     "output_type": "stream",
     "text": [
      "* * * * \n",
      "* * * * \n",
      "* * * * \n",
      "* * * * \n"
     ]
    }
   ],
   "source": [
    "for (int i=1;i<5;i++){\n",
    "    for (int j=1;j<5;j++){\n",
    "        System.out.print(\"* \");\n",
    "    }\n",
    "    System.out.println();\n",
    "}"
   ]
  },
  {
   "cell_type": "code",
   "execution_count": 5,
   "id": "operating-transport",
   "metadata": {},
   "outputs": [
    {
     "name": "stdout",
     "output_type": "stream",
     "text": [
      "* \n",
      "* * \n",
      "* * * \n",
      "* * * * \n"
     ]
    }
   ],
   "source": [
    "for (int i=1;i<5;i++){\n",
    "    for (int j=0;j<i;j++){\n",
    "        System.out.print(\"* \");\n",
    "    }\n",
    "    System.out.println();\n",
    "}"
   ]
  },
  {
   "cell_type": "code",
   "execution_count": 6,
   "id": "stupid-listening",
   "metadata": {},
   "outputs": [
    {
     "name": "stdout",
     "output_type": "stream",
     "text": [
      "* * * * \n",
      "*     * \n",
      "*     * \n",
      "* * * * \n"
     ]
    }
   ],
   "source": [
    "for (int i=1;i<=4;i++){\n",
    "    for (int j=1;j<=4;j++){\n",
    "        if((i==2 || i==3)&&(j==2 || j==3)){\n",
    "            System.out.printf(\"  \");\n",
    "        }\n",
    "        else{\n",
    "         System.out.printf(\"* \");   \n",
    "        }\n",
    "    }\n",
    "    System.out.println();\n",
    "}"
   ]
  },
  {
   "cell_type": "code",
   "execution_count": 7,
   "id": "electronic-particle",
   "metadata": {},
   "outputs": [
    {
     "name": "stdout",
     "output_type": "stream",
     "text": [
      "1 2 3 4 \n",
      "1 2 3 4 \n",
      "1 2 3 4 \n",
      "1 2 3 4 \n"
     ]
    }
   ],
   "source": [
    "for (int i=1;i<5;i++){\n",
    "    for (int j=1;j<5;j++){\n",
    "//         System.out.printf(\"%d \",j);\n",
    "//         System.out.print(j+\" \");\n",
    "        System.out.printf(j+\" \");\n",
    "    }\n",
    "    System.out.println();\n",
    "}"
   ]
  },
  {
   "cell_type": "code",
   "execution_count": 8,
   "id": "individual-lesson",
   "metadata": {},
   "outputs": [
    {
     "name": "stdout",
     "output_type": "stream",
     "text": [
      "1 2 3 4 \n",
      "2 3 4 1 \n",
      "3 4 1 2 \n",
      "4 1 2 3 \n"
     ]
    }
   ],
   "source": [
    "for (int i=1;i<5;i++){\n",
    "    for (int j=1;j<5;j++){\n",
    "        if((i+j-1)>4){\n",
    "            System.out.print(i+j-5+\" \");\n",
    "            }\n",
    "        else{\n",
    "         System.out.printf(i+j-1+\" \");   \n",
    "        }\n",
    "    }\n",
    "    System.out.println();\n",
    "}"
   ]
  },
  {
   "cell_type": "code",
   "execution_count": 9,
   "id": "loaded-queensland",
   "metadata": {},
   "outputs": [
    {
     "name": "stdout",
     "output_type": "stream",
     "text": [
      "1 \n",
      "0 1 \n",
      "1 0 1 \n",
      "0 1 0 1 \n",
      "1 0 1 0 1 \n"
     ]
    }
   ],
   "source": [
    "for (int i=1;i<=5;i++){\n",
    "    for (int j=1;j<=i;j++){\n",
    "        if((j%2==0 && i%2!=0) || (j%2!=0 && i%2==0)){\n",
    "            System.out.print(\"0 \");\n",
    "        }\n",
    "        else{\n",
    "        System.out.print(\"1 \");\n",
    "        }\n",
    "    }System.out.println();\n",
    "}"
   ]
  },
  {
   "cell_type": "code",
   "execution_count": 10,
   "id": "german-backing",
   "metadata": {},
   "outputs": [
    {
     "name": "stdout",
     "output_type": "stream",
     "text": [
      "1 \n",
      "2 2 \n",
      "3 3 3 \n",
      "4 4 4 4 \n",
      "5 5 5 5 5 \n"
     ]
    }
   ],
   "source": [
    "for (int i=1;i<=5;i++){\n",
    "    for (int j=1;j<=i;j++){\n",
    "        System.out.print(i+\" \");\n",
    "        }\n",
    "    System.out.println();\n",
    "}"
   ]
  },
  {
   "cell_type": "markdown",
   "id": "perceived-intake",
   "metadata": {},
   "source": [
    "`Program to print Fibonacci Series`"
   ]
  },
  {
   "cell_type": "code",
   "execution_count": 11,
   "id": "fresh-ghost",
   "metadata": {},
   "outputs": [
    {
     "name": "stdout",
     "output_type": "stream",
     "text": [
      "1 1 2 3 5 8 13 21 34 55 "
     ]
    }
   ],
   "source": [
    "int temp1 = 1;\n",
    "int temp2 = 1;\n",
    "int temp3;\n",
    "System.out.print(temp1+\" \");\n",
    "System.out.print(temp2+\" \");\n",
    "for (int i=3;i<=10;i++){\n",
    "    temp3 = temp1+temp2;\n",
    "    System.out.print(temp3+\" \");\n",
    "    temp1 = temp2;\n",
    "    temp2 = temp3;\n",
    "}"
   ]
  },
  {
   "cell_type": "markdown",
   "id": "excellent-sapphire",
   "metadata": {},
   "source": [
    "`check whether a number is Palindrome ?`"
   ]
  },
  {
   "cell_type": "code",
   "execution_count": 16,
   "id": "ranging-priority",
   "metadata": {},
   "outputs": [
    {
     "name": "stdin",
     "output_type": "stream",
     "text": [
      " 321\n"
     ]
    },
    {
     "name": "stdout",
     "output_type": "stream",
     "text": [
      "It's Not a Palindrome number\n"
     ]
    }
   ],
   "source": [
    "import java.util.Scanner;\n",
    "int s=0,r;\n",
    "\n",
    "Scanner sc = new Scanner(System.in);\n",
    "int n = sc.nextInt();\n",
    "int num1 = n;\n",
    "while(n!=0){\n",
    "    r = n%10;\n",
    "    s = s*10+r;\n",
    "    n = n/10;\n",
    "}\n",
    "if (s==num1){\n",
    "    System.out.println(\"It's a Palindrome number\");\n",
    "}\n",
    "else{\n",
    "    System.out.println(\"It's Not a Palindrome number\");\n",
    "}\n",
    "\n"
   ]
  },
  {
   "cell_type": "markdown",
   "id": "forbidden-steam",
   "metadata": {},
   "source": [
    "`check whether a number is Perfect Number?`"
   ]
  },
  {
   "cell_type": "code",
   "execution_count": 13,
   "id": "noticed-madison",
   "metadata": {},
   "outputs": [
    {
     "name": "stdout",
     "output_type": "stream",
     "text": [
      "It's a Perfect number\n"
     ]
    }
   ],
   "source": [
    "int num1 = 28,sum=0;\n",
    "for(int i=1;i<num1;i++){\n",
    "    if(num1%i==0){\n",
    "        sum=sum+i;\n",
    "    }\n",
    "}\n",
    "\n",
    "if(sum==num1){\n",
    "    System.out.println(\"It's a Perfect number\");\n",
    "}\n",
    "else{\n",
    "    System.out.println(\"It's not a perfect Number\");\n",
    "}"
   ]
  },
  {
   "cell_type": "markdown",
   "id": "greek-factory",
   "metadata": {},
   "source": [
    "`check whether a number is Armstrong Number? `"
   ]
  },
  {
   "cell_type": "code",
   "execution_count": 14,
   "id": "satisfactory-postcard",
   "metadata": {},
   "outputs": [
    {
     "name": "stdout",
     "output_type": "stream",
     "text": [
      "It's Armstrong Number\n"
     ]
    }
   ],
   "source": [
    "int num1=370,r,s=0,n;\n",
    "n = num1;\n",
    "while(num1>0){\n",
    "    r = num1%10;\n",
    "    s = s+(r*r*r);\n",
    "    num1=num1/10;\n",
    "}\n",
    "if(s==n){\n",
    "    System.out.println(\"It's Armstrong Number\");\n",
    "}\n",
    "else{\n",
    "    System.out.println(\"Not an Armstrong Number\");\n",
    "}"
   ]
  },
  {
   "cell_type": "markdown",
   "id": "actual-intranet",
   "metadata": {},
   "source": [
    "`check a number is prime or not`"
   ]
  },
  {
   "cell_type": "code",
   "execution_count": 15,
   "id": "polyphonic-kruger",
   "metadata": {},
   "outputs": [
    {
     "name": "stdout",
     "output_type": "stream",
     "text": [
      "Prime Number\n"
     ]
    }
   ],
   "source": [
    "int num1;\n",
    "num1=13;\n",
    "boolean isPrime= true;\n",
    "for(int i=2;i<num1/2;i++){\n",
    "    if(num1%i==0){\n",
    "        isPrime = false;\n",
    "        break;\n",
    "    }\n",
    "}\n",
    "if(isPrime){\n",
    "    System.out.println(\"Prime Number\");\n",
    "}\n",
    "else{\n",
    "    System.out.println(\"Not a Prime Number\");\n",
    "}\n",
    "\n",
    "// Math.sqrt(144);"
   ]
  },
  {
   "cell_type": "markdown",
   "id": "coated-hammer",
   "metadata": {},
   "source": [
    "`Swapping two numbers in java`"
   ]
  },
  {
   "cell_type": "code",
   "execution_count": 59,
   "id": "engaged-tattoo",
   "metadata": {},
   "outputs": [
    {
     "name": "stdout",
     "output_type": "stream",
     "text": [
      "a: 4\n",
      "b: 5\n"
     ]
    }
   ],
   "source": [
    "int a =5;\n",
    "int b=4;\n",
    "// int temp; //we are wasting 4 bytes in creating new variable.\n",
    "\n",
    "// temp = a;\n",
    "// a=b;\n",
    "// b=temp; \n",
    "\n",
    "// a = a+b; //a=9  1001 -- we are unneccesarily creating 4bits number\n",
    "// b = a-b; //b=5  \n",
    "// a = a-b; //a=4\n",
    "\n",
    "//^ -->XOR 1 1-->0  1 0-->1  0 0-->0  0 1-->1\n",
    "a=a^b;     // 1 0 1 XOR 1 0 0 ---> 0 0 1\n",
    "b=a^b;     // 0 0 1 XOR 1 0 0 ---> 1 0 1\n",
    "a=a^b;     // 0 0 1 XOR 1 0 1 ---> 1 0 0\n",
    "\n",
    "System.out.println(\"a: \"+a);\n",
    "System.out.println(\"b: \"+b);"
   ]
  },
  {
   "cell_type": "markdown",
   "id": "incident-citizen",
   "metadata": {},
   "source": [
    "`Swapping of 2 numbers in easiest way`"
   ]
  },
  {
   "cell_type": "code",
   "execution_count": 64,
   "id": "given-socket",
   "metadata": {},
   "outputs": [
    {
     "name": "stdout",
     "output_type": "stream",
     "text": [
      "a: 6\n",
      "b: 5\n"
     ]
    }
   ],
   "source": [
    "int a =5;\n",
    "int b =6;\n",
    "\n",
    "b = a+b-(a=b);\n",
    "\n",
    "System.out.println(\"a: \"+a);\n",
    "System.out.println(\"b: \"+b);\n",
    "// BODMAS :-)"
   ]
  },
  {
   "cell_type": "markdown",
   "id": "sharp-bonus",
   "metadata": {},
   "source": [
    "<hr>"
   ]
  },
  {
   "cell_type": "markdown",
   "id": "familiar-bacon",
   "metadata": {},
   "source": [
    "`Javatpoint.com` - Java Practise Programs"
   ]
  },
  {
   "cell_type": "markdown",
   "id": "legitimate-accounting",
   "metadata": {},
   "source": [
    "`Factorial Program`"
   ]
  },
  {
   "cell_type": "code",
   "execution_count": 8,
   "id": "lyric-sydney",
   "metadata": {},
   "outputs": [
    {
     "name": "stdout",
     "output_type": "stream",
     "text": [
      "Factorial of 5 is: 120\n"
     ]
    }
   ],
   "source": [
    "int n=5;\n",
    "int temp = n;\n",
    "int fact=1;\n",
    "while(n!=1){\n",
    "    fact = fact*n;\n",
    "    n--;\n",
    "}\n",
    "System.out.println(\"Factorial of \"+temp+\" is: \"+fact);"
   ]
  },
  {
   "cell_type": "code",
   "execution_count": 9,
   "id": "fitting-jefferson",
   "metadata": {},
   "outputs": [
    {
     "name": "stdout",
     "output_type": "stream",
     "text": [
      "Factorial of 5 is: 120\n"
     ]
    }
   ],
   "source": [
    "public class FactorialProgram {\n",
    "    static int n=5;\n",
    "    static public int factorial(int n){\n",
    "        if(n==1) {\n",
    "            return 1;\n",
    "        }\n",
    "        else {\n",
    "            return n*factorial(n-1);\n",
    "        }\n",
    "    }\n",
    "\n",
    "    public static void main(String[] args) {\n",
    "        int fact = n*factorial(n-1);\n",
    "        System.out.println(fact);\n",
    "    }\n",
    "}\n",
    "System.out.println(\"Factorial of 5 is: 120\")"
   ]
  },
  {
   "cell_type": "markdown",
   "id": "equipped-survey",
   "metadata": {},
   "source": [
    "`Generating Random Numbers between specified rang`"
   ]
  },
  {
   "cell_type": "code",
   "execution_count": 40,
   "id": "vocal-healthcare",
   "metadata": {},
   "outputs": [
    {
     "data": {
      "text/plain": [
       "95"
      ]
     },
     "execution_count": 40,
     "metadata": {},
     "output_type": "execute_result"
    }
   ],
   "source": [
    "import java.lang.Math;\n",
    "(int)(Math.random()*(100-1+1)+1);"
   ]
  },
  {
   "cell_type": "code",
   "execution_count": null,
   "id": "starting-glucose",
   "metadata": {},
   "outputs": [],
   "source": []
  },
  {
   "cell_type": "code",
   "execution_count": null,
   "id": "capable-genetics",
   "metadata": {},
   "outputs": [],
   "source": []
  },
  {
   "cell_type": "code",
   "execution_count": null,
   "id": "annual-reader",
   "metadata": {},
   "outputs": [],
   "source": []
  }
 ],
 "metadata": {
  "kernelspec": {
   "display_name": "Java",
   "language": "java",
   "name": "java"
  },
  "language_info": {
   "codemirror_mode": "java",
   "file_extension": ".jshell",
   "mimetype": "text/x-java-source",
   "name": "Java",
   "pygments_lexer": "java",
   "version": "15.0.2+7-27"
  }
 },
 "nbformat": 4,
 "nbformat_minor": 5
}
