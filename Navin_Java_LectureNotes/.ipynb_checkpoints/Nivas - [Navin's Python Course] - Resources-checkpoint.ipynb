{
 "cells": [
  {
   "cell_type": "markdown",
   "metadata": {},
   "source": [
    "<span style='background:yellow'>1. My Notes - Navin's Python Course -Learnings - </span>"
   ]
  },
  {
   "cell_type": "code",
   "execution_count": 5,
   "metadata": {},
   "outputs": [
    {
     "name": "stdout",
     "output_type": "stream",
     "text": [
      "hello\n"
     ]
    }
   ],
   "source": [
    "#Defining Funciton in Python\n",
    "def greet():\n",
    "    print('hello')\n",
    "greet()"
   ]
  },
  {
   "cell_type": "code",
   "execution_count": 6,
   "metadata": {},
   "outputs": [
    {
     "data": {
      "text/plain": [
       "(5, -1)"
      ]
     },
     "execution_count": 6,
     "metadata": {},
     "output_type": "execute_result"
    }
   ],
   "source": [
    "def calc(x,y):\n",
    "    add = x+y\n",
    "    diff = x-y\n",
    "    return add,diff\n",
    "\n",
    "result1,result2 = calc(2,3)\n",
    "result1,result2"
   ]
  },
  {
   "cell_type": "code",
   "execution_count": 7,
   "metadata": {},
   "outputs": [],
   "source": [
    "def add(a,*b):\n",
    "    print(a,end = \" \")\n",
    "    for i in b:\n",
    "        print(i,end=\" \")\n",
    "    print()\n",
    "    print(b)"
   ]
  },
  {
   "cell_type": "code",
   "execution_count": 8,
   "metadata": {},
   "outputs": [
    {
     "name": "stdout",
     "output_type": "stream",
     "text": [
      "1 2 3 4 \n",
      "(2, 3, 4)\n"
     ]
    }
   ],
   "source": [
    "add(1,2,3,4)"
   ]
  },
  {
   "cell_type": "code",
   "execution_count": 9,
   "metadata": {},
   "outputs": [
    {
     "name": "stdout",
     "output_type": "stream",
     "text": [
      "3\n",
      "3\n"
     ]
    }
   ],
   "source": [
    "a = 20\n",
    "def func():\n",
    "    global a\n",
    "    a = 3\n",
    "    print(a)\n",
    "func()\n",
    "print(a)"
   ]
  },
  {
   "cell_type": "code",
   "execution_count": 10,
   "metadata": {},
   "outputs": [
    {
     "data": {
      "text/plain": [
       "(3, 4)"
      ]
     },
     "execution_count": 10,
     "metadata": {},
     "output_type": "execute_result"
    }
   ],
   "source": [
    "#Program to check for the no. of even & odd entries in a given list\n",
    "def count(lst):\n",
    "    even = 0\n",
    "    odd = 0\n",
    "    for i in lst:\n",
    "        if i%2==0:\n",
    "            even += 1\n",
    "        else:\n",
    "            odd += 1\n",
    "    return even,odd\n",
    "\n",
    "lst = [1,2,3,4,5,6,7]\n",
    "count(lst)\n"
   ]
  },
  {
   "cell_type": "code",
   "execution_count": 58,
   "metadata": {},
   "outputs": [
    {
     "data": {
      "text/plain": [
       "7"
      ]
     },
     "execution_count": 58,
     "metadata": {},
     "output_type": "execute_result"
    }
   ],
   "source": [
    "#Anonymous Functions i.e they are the functions without name\n",
    "f = lambda x,y,z:y+z\n",
    "f(2,3,4)"
   ]
  },
  {
   "cell_type": "code",
   "execution_count": 59,
   "metadata": {},
   "outputs": [
    {
     "data": {
      "text/plain": [
       "[1, 2, 3, 4, 5, 6, 7]"
      ]
     },
     "execution_count": 59,
     "metadata": {},
     "output_type": "execute_result"
    }
   ],
   "source": [
    "lst"
   ]
  },
  {
   "cell_type": "code",
   "execution_count": null,
   "metadata": {},
   "outputs": [],
   "source": [
    "#decorators\n",
    "\n",
    "def div(a,b):\n",
    "    print(a/b)\n",
    "\n",
    "def smart_div(func):\n",
    "    def inner()"
   ]
  },
  {
   "cell_type": "code",
   "execution_count": 6,
   "metadata": {},
   "outputs": [
    {
     "name": "stdout",
     "output_type": "stream",
     "text": [
      "0.5\n"
     ]
    }
   ],
   "source": [
    "def div(a,b):\n",
    "    print(a/b)\n",
    "\n",
    "#smart_div will accept function as an argument\n",
    "def smart_div(func):\n",
    "    \n",
    "    def inner(a,b):\n",
    "        if a>b:\n",
    "            a,b = b,a\n",
    "        return func(a,b)\n",
    "    return inner\n",
    "\n",
    "\n",
    "div = smart_div(div)\n",
    "div(4,2)\n"
   ]
  },
  {
   "cell_type": "markdown",
   "metadata": {},
   "source": [
    "<span style='background:yellow'>Classes & Objects</span>"
   ]
  },
  {
   "cell_type": "code",
   "execution_count": 8,
   "metadata": {},
   "outputs": [
    {
     "data": {
      "text/plain": [
       "__main__.Computer"
      ]
     },
     "execution_count": 8,
     "metadata": {},
     "output_type": "execute_result"
    }
   ],
   "source": [
    "class Computer():\n",
    "    \n",
    "    def config(self):\n",
    "        print('i5,16gb, 1TB')\n",
    "\n",
    "com1 = Computer()\n",
    "type(com1)"
   ]
  },
  {
   "cell_type": "code",
   "execution_count": 11,
   "metadata": {},
   "outputs": [
    {
     "name": "stdout",
     "output_type": "stream",
     "text": [
      "i5,16gb, 1TB\n"
     ]
    }
   ],
   "source": [
    "#Function aithe direct gaa call chese vallam but config() method ni call cheyyalante you need \n",
    "#to call from the class on which the method is defined and this method will not be neccessarily same for every object of\n",
    "#Class Computer .Therefore we need to pass the object on which we want to return the method for\n",
    "#I want the config of com1 belonging to Computer Class\n",
    "Computer.config(com1)"
   ]
  },
  {
   "cell_type": "code",
   "execution_count": 13,
   "metadata": {},
   "outputs": [
    {
     "name": "stdout",
     "output_type": "stream",
     "text": [
      "i5,16gb, 1TB\n"
     ]
    }
   ],
   "source": [
    "com2 = Computer()\n",
    "Computer.config(com2)"
   ]
  },
  {
   "cell_type": "markdown",
   "metadata": {},
   "source": [
    "This time we are not passing any arguments in config yet it works because. com1 belongs to Computer we specified and config() method is called.\n",
    "\n",
    "We normally use this second syntax "
   ]
  },
  {
   "cell_type": "code",
   "execution_count": 16,
   "metadata": {},
   "outputs": [
    {
     "name": "stdout",
     "output_type": "stream",
     "text": [
      "i5,16gb, 1TB\n"
     ]
    }
   ],
   "source": [
    "com1.config()"
   ]
  },
  {
   "cell_type": "code",
   "execution_count": 20,
   "metadata": {},
   "outputs": [
    {
     "data": {
      "text/plain": [
       "4"
      ]
     },
     "execution_count": 20,
     "metadata": {},
     "output_type": "execute_result"
    }
   ],
   "source": [
    "a = 10 #a is an object of integer class\n",
    "a.bit_length() # there is a method name bit_length() defined in the Integer class with argument self. Therefore when we apply\n",
    "#the method on the object it calls the method defined in class directly. we dont need to explicitly call the class name"
   ]
  },
  {
   "cell_type": "markdown",
   "metadata": {},
   "source": [
    "`__init__` method will be called automatically without the object actually calling the method"
   ]
  },
  {
   "cell_type": "code",
   "execution_count": 3,
   "metadata": {},
   "outputs": [
    {
     "name": "stdout",
     "output_type": "stream",
     "text": [
      "in init\n",
      "in init\n"
     ]
    }
   ],
   "source": [
    "class Computer():\n",
    "    def __init__(self):\n",
    "        print('in init')\n",
    "        \n",
    "    def config(self):\n",
    "        print('i5,16gb, 1TB')\n",
    "\n",
    "com1 = Computer()\n",
    "com2 = Computer()"
   ]
  },
  {
   "cell_type": "markdown",
   "metadata": {},
   "source": [
    "for every object init gets called. therefore i got two inits"
   ]
  },
  {
   "cell_type": "code",
   "execution_count": 4,
   "metadata": {},
   "outputs": [],
   "source": [
    "class Computer():\n",
    "    def __init__(self,cpu,ram):\n",
    "        self.cpu = cpu\n",
    "        self.ram = ram \n",
    "        \n",
    "    def config(self):\n",
    "        print(self.cpu,self.ram)\n",
    "\n",
    "com1 = Computer('i5','16')\n",
    "com2 = Computer('Ryzen 3','8')\n"
   ]
  },
  {
   "cell_type": "code",
   "execution_count": 8,
   "metadata": {},
   "outputs": [
    {
     "name": "stdout",
     "output_type": "stream",
     "text": [
      "Ryzen 3 8\n"
     ]
    }
   ],
   "source": [
    "com2.config()"
   ]
  },
  {
   "cell_type": "markdown",
   "metadata": {},
   "source": [
    "Constructor & Self\n",
    "\n",
    "Objects are stored in heap  memory.and they have a address which we can get by `id(object)` . Everytime you create a object it will take different address. \n",
    "\n",
    "what size an object will take?\n",
    "it will depend on number of variables.\n",
    "\n",
    "Who allocates this size?\n",
    "Constructor\n"
   ]
  },
  {
   "cell_type": "code",
   "execution_count": 15,
   "metadata": {},
   "outputs": [
    {
     "name": "stdout",
     "output_type": "stream",
     "text": [
      "2182885294672\n",
      "2182885296592\n"
     ]
    }
   ],
   "source": [
    "class Computer():\n",
    "    pass\n",
    "\n",
    "c1 = Computer()#Constructor\n",
    "c2 = Computer()\n",
    "print(id(c1))\n",
    "print(id(c2))"
   ]
  },
  {
   "cell_type": "code",
   "execution_count": 27,
   "metadata": {},
   "outputs": [
    {
     "name": "stdout",
     "output_type": "stream",
     "text": [
      "Navin\n",
      "Raashi\n"
     ]
    }
   ],
   "source": [
    "class Computer():\n",
    "    \n",
    "    def __init__(self):\n",
    "        self.name = 'Navin'\n",
    "        self.age = 28\n",
    "        \n",
    "c1 = Computer()\n",
    "c2 = Computer()\n",
    "c2.name = 'Raashi'\n",
    "c2.age = 12\n",
    "print(c1.name)\n",
    "print(c2.name)"
   ]
  },
  {
   "cell_type": "code",
   "execution_count": 41,
   "metadata": {},
   "outputs": [
    {
     "data": {
      "text/plain": [
       "'Raashi'"
      ]
     },
     "execution_count": 41,
     "metadata": {},
     "output_type": "execute_result"
    }
   ],
   "source": [
    "class Computer():\n",
    "    \n",
    "    def __init__(self):\n",
    "        self.name = 'Navin'\n",
    "        self.age = 28\n",
    "    \n",
    "    def update(self):#self will be assigned to object which is calling this method\n",
    "        self.name = 'Raashi'\n",
    "        \n",
    "c1 = Computer()\n",
    "c2 = Computer()\n",
    "c2.update()\n",
    "c2.name"
   ]
  },
  {
   "cell_type": "code",
   "execution_count": 49,
   "metadata": {},
   "outputs": [
    {
     "name": "stdout",
     "output_type": "stream",
     "text": [
      "They are different\n"
     ]
    }
   ],
   "source": [
    "class Computer():\n",
    "    \n",
    "    def __init__(self):\n",
    "        self.name = 'Navin'\n",
    "        self.age = 28\n",
    "    \n",
    "    def update(self):#self will be assigned to object which is calling this method\n",
    "        self.age = 12\n",
    "    \n",
    "    def compare(self,other):\n",
    "        if self.age == other.age:\n",
    "            return True\n",
    "        else:\n",
    "            return False\n",
    "\n",
    "c1 = Computer()\n",
    "c2 = Computer()\n",
    "c2.update()\n",
    "\n",
    "if c1.compare(c2):\n",
    "    print('They both are same')\n",
    "else:\n",
    "    print('They are different')\n"
   ]
  },
  {
   "cell_type": "markdown",
   "metadata": {},
   "source": [
    "Variables\n",
    "\n",
    "Instance Variables - if variable value changed for particular object it wont change for the other objects.\n",
    "[*stored in Instance Namespace*]\n",
    "\n",
    "Class Variables - A variable that is common for all object.any change in that variable affects the other objects\n",
    "[*Stored in Class Namespace*]"
   ]
  },
  {
   "cell_type": "code",
   "execution_count": 66,
   "metadata": {},
   "outputs": [
    {
     "data": {
      "text/plain": [
       "5"
      ]
     },
     "execution_count": 66,
     "metadata": {},
     "output_type": "execute_result"
    }
   ],
   "source": [
    "class Car:\n",
    "    wheels = 4 #variable common to all the variables\n",
    "    \n",
    "    def __init__(self):\n",
    "        self.mil = 10 #Instance Variable(defined inside __init__)\n",
    "        self.com = 'BMW' #Instance Variable\n",
    "\n",
    "c1 = Car()\n",
    "c2 = Car()\n",
    "\n",
    "Car.wheels = 5#as the wheels is stored in Class namespace\n",
    "#Therefore i need to use class to call this variable\n",
    "c1.wheels"
   ]
  },
  {
   "cell_type": "markdown",
   "metadata": {},
   "source": [
    "<span style='background:yellow'>Types of Methods</span>\n",
    "\n",
    "*Instance method*\n",
    "(when have to work with instance variable)\n",
    "Accessors(Getters) & Mutators(Setters)\n",
    "\n",
    "\n",
    "*Class Method*\n",
    "(when have to work with class variable)\n",
    "`@classmethod` decorator should be used before defining this method\n",
    "\n",
    "Static Method\n",
    "(No connection with either class or instance variable)\n",
    " `@staticmethod` decorator should be used before defining this method"
   ]
  },
  {
   "cell_type": "code",
   "execution_count": 106,
   "metadata": {},
   "outputs": [],
   "source": [
    "class Student():\n",
    "    \n",
    "    school = \"Telusko School\"\n",
    "    \n",
    "    def __init__(self,m1,m2,m3):\n",
    "        self.m1 = m1\n",
    "        self.m2 = m2\n",
    "        self.m3 = m3\n",
    "        \n",
    "    def avg(self):#(self) is passed so its stored in object namespace\n",
    "        return (self.m1+self.m2+self.m3)/3\n",
    "    \n",
    "    def get_m1(self):\n",
    "        return self.m1\n",
    "    \n",
    "    def set_m1(self,value):\n",
    "        self.m1 = value\n",
    "\n",
    "s1 = Student(34,67,32)\n",
    "s2 = Student(89,62,32)\n",
    "\n",
    "s1.avg()\n",
    "#avg() is an instance method - we are passing self so it \n",
    "#belongs to an object.\n",
    "\n",
    "s1.get_m1()\n",
    "#Get Method - Getters\n",
    "#Accessors\n",
    "\n",
    "s1.set_m1(31)\n",
    "#Set Method - Setters\n",
    "#Mutators\n",
    "\n",
    "#If you have 3 variables then we will have 3 getters and s3 setters"
   ]
  },
  {
   "cell_type": "markdown",
   "metadata": {},
   "source": [
    "*Class Method - To deal with Class variables we need Class Methods*"
   ]
  },
  {
   "cell_type": "code",
   "execution_count": 107,
   "metadata": {},
   "outputs": [
    {
     "data": {
      "text/plain": [
       "'Telusko School'"
      ]
     },
     "execution_count": 107,
     "metadata": {},
     "output_type": "execute_result"
    }
   ],
   "source": [
    "class Student():\n",
    "    \n",
    "    school = \"Telusko School\"\n",
    "    \n",
    "    def __init__(self,m1,m2,m3):\n",
    "        self.m1 = m1\n",
    "        self.m2 = m2\n",
    "        self.m3 = m3\n",
    "        \n",
    "    def avg(self):\n",
    "        return (self.m1+self.m2+self.m3)/3\n",
    "    \n",
    "    #use cls instead of self for Class Method\n",
    "    #we need to use decorators for working with class method\n",
    "    @classmethod\n",
    "    def info(cls):\n",
    "        return cls.school\n",
    "    \n",
    "\n",
    "s1 = Student(34,67,32)\n",
    "s2 = Student(89,62,32)\n",
    "\n",
    "s1.avg()\n",
    "\n",
    "Student.info()\n"
   ]
  },
  {
   "cell_type": "markdown",
   "metadata": {},
   "source": [
    "Inner Class -\n"
   ]
  },
  {
   "cell_type": "code",
   "execution_count": 179,
   "metadata": {},
   "outputs": [
    {
     "data": {
      "text/plain": [
       "'i3'"
      ]
     },
     "execution_count": 179,
     "metadata": {},
     "output_type": "execute_result"
    }
   ],
   "source": [
    "class Student():\n",
    "\n",
    "    def __init__(self,rollno,name):\n",
    "        self.rollno = rollno\n",
    "        self.name = name\n",
    "        self.lap = self.Laptop()\n",
    "    \n",
    "    def show(self):\n",
    "        print(self.name,self.rollno)\n",
    "    \n",
    "    class Laptop():\n",
    "        \n",
    "        def __init__(self):\n",
    "            self.brand = 'hp'\n",
    "            self.ram = '8gb'\n",
    "            self.cpu = 'i3'\n",
    "        \n",
    "        def show(self):\n",
    "            print(self.brand,self.ram,self.cpu)\n",
    "\n",
    "        \n",
    "s1 = Student(23,'Navin')\n",
    "s2 = Student(20,'Nivas')\n",
    "\n",
    "s1.lap.cpu"
   ]
  },
  {
   "cell_type": "code",
   "execution_count": 180,
   "metadata": {},
   "outputs": [],
   "source": [
    "lap1 = Student.Laptop()"
   ]
  },
  {
   "cell_type": "markdown",
   "metadata": {},
   "source": [
    "you can create an object of inner class inside the outer class or  outside the outerclass provided you use outer class name to call it."
   ]
  },
  {
   "cell_type": "code",
   "execution_count": 185,
   "metadata": {},
   "outputs": [
    {
     "name": "stdout",
     "output_type": "stream",
     "text": [
      "hp 8gb i3\n"
     ]
    }
   ],
   "source": [
    "s1.Laptop().show()"
   ]
  },
  {
   "cell_type": "markdown",
   "metadata": {},
   "source": [
    "Inheritence in Python\n",
    "Subclass can access all the feautures of superclass\n",
    "\n",
    "\n",
    "Using features of existing classes\n",
    "\n",
    "It can be single/multiple inheritence "
   ]
  },
  {
   "cell_type": "code",
   "execution_count": 226,
   "metadata": {},
   "outputs": [
    {
     "name": "stdout",
     "output_type": "stream",
     "text": [
      "feauture 1 is working\n"
     ]
    }
   ],
   "source": [
    "class A:\n",
    "    def feature1(self):\n",
    "        print('feauture 1 is working')\n",
    "    \n",
    "    def feature2(self):\n",
    "        print('feauture 2 is working')\n",
    "        \n",
    "a1 = A()\n",
    "a1.feature1()"
   ]
  },
  {
   "cell_type": "code",
   "execution_count": 227,
   "metadata": {},
   "outputs": [],
   "source": [
    "class A():\n",
    "    def feature1(self):\n",
    "        print('feauture 1 is working')\n",
    "    \n",
    "    def feature2(self):\n",
    "        print('feauture 2 is working')\n",
    "        \n",
    "class B():\n",
    "    def feature3(self):\n",
    "        print('feauture 3 is working')\n",
    "    \n",
    "    def feature4(self):\n",
    "        print('feauture 4 is working')\n",
    "class C(A):\n",
    "    def feature7(self):\n",
    "        print('feature 7 is working')\n",
    "        \n",
    "class D(A,B):#Multiple inheritence-\n",
    "    def feature5(self):\n",
    "        print('feauture 5 is working')\n"
   ]
  },
  {
   "cell_type": "markdown",
   "metadata": {},
   "source": [
    "<span style='background:yellow'>Constructor in Inheritence</span>\n"
   ]
  },
  {
   "cell_type": "code",
   "execution_count": 229,
   "metadata": {},
   "outputs": [
    {
     "name": "stdout",
     "output_type": "stream",
     "text": [
      "in A Init\n"
     ]
    }
   ],
   "source": [
    "class A():\n",
    "    def __init__(self):\n",
    "        print('in A Init')\n",
    "    \n",
    "    def feature1(self):\n",
    "        print('feauture 1 is working')\n",
    "    \n",
    "    def feature2(self):\n",
    "        print('feauture 2 is working')\n",
    "        \n",
    "class B(A):\n",
    "    def feature3(self):\n",
    "        print('feauture 3 is working')\n",
    "\n",
    "a1 = B()#It calls the init Constructor of A"
   ]
  },
  {
   "cell_type": "markdown",
   "metadata": {},
   "source": [
    "If you create an object of B() then it calls the init of its own if that is not defined then it looks for the init of its SuperClass"
   ]
  },
  {
   "cell_type": "code",
   "execution_count": 233,
   "metadata": {},
   "outputs": [
    {
     "name": "stdout",
     "output_type": "stream",
     "text": [
      "in B Init\n"
     ]
    }
   ],
   "source": [
    "class A():\n",
    "    def __init__(self):\n",
    "        print('in A Init')\n",
    "    \n",
    "    def feature1(self):\n",
    "        print('feauture 1 is working')\n",
    "    \n",
    "    def feature2(self):\n",
    "        print('feauture 2 is working')\n",
    "        \n",
    "class B(A):\n",
    "    def __init__(self):\n",
    "        print('in B Init')\n",
    "        \n",
    "    def feature3(self):\n",
    "        print('feauture 3 is working')\n",
    "\n",
    "a1 = B()"
   ]
  },
  {
   "cell_type": "markdown",
   "metadata": {},
   "source": [
    "If you want to call the init of A as well along with B we should be using the \n",
    "`super()`"
   ]
  },
  {
   "cell_type": "code",
   "execution_count": 234,
   "metadata": {},
   "outputs": [
    {
     "name": "stdout",
     "output_type": "stream",
     "text": [
      "in B Init\n",
      "in A Init\n"
     ]
    }
   ],
   "source": [
    "class A():\n",
    "    def __init__(self):\n",
    "        print('in A Init')\n",
    "    \n",
    "    def feature1(self):\n",
    "        print('feauture 1 is working')\n",
    "    \n",
    "    def feature2(self):\n",
    "        print('feauture 2 is working')\n",
    "        \n",
    "class B(A):\n",
    "    def __init__(self):\n",
    "        print('in B Init')\n",
    "        super().__init__()\n",
    "        \n",
    "    def feature3(self):\n",
    "        print('feauture 3 is working')\n",
    "\n",
    "a1 = B()"
   ]
  },
  {
   "cell_type": "markdown",
   "metadata": {},
   "source": [
    "<span style='background:yellow'>*Method Resolution Order - MRO*</span>\n",
    "When we have 2 super() classes as is the case of Multiple inheritence then the order will be from Left ---> Right"
   ]
  },
  {
   "cell_type": "code",
   "execution_count": 240,
   "metadata": {},
   "outputs": [
    {
     "name": "stdout",
     "output_type": "stream",
     "text": [
      "in init C\n",
      "in A Init\n"
     ]
    }
   ],
   "source": [
    "class A():\n",
    "    def __init__(self):\n",
    "        print('in A Init')\n",
    "    \n",
    "    def feature1(self):\n",
    "        print('feauture 1 is working')\n",
    "    \n",
    "    def feature2(self):\n",
    "        print('feauture 2 is working')\n",
    "        \n",
    "class B():\n",
    "    def __init__(self):\n",
    "        print('in B Init')\n",
    "        \n",
    "    def feature3(self):\n",
    "        print('feauture 3 is working')\n",
    "        \n",
    "class C(A,B):\n",
    "    def __init__(self):\n",
    "        print('in init C')\n",
    "        super().__init__()#we can call any method from super class , Here called __init__() method to represent\n",
    "\n",
    "c1 = C()"
   ]
  },
  {
   "cell_type": "markdown",
   "metadata": {},
   "source": [
    "Polymorphism\n",
    "(Objects will have multiple forms)\n",
    "\n",
    "4 Ways of implementing Polymorphism\n",
    "1. Duck Typing \n",
    "2. Operator Overloading\n",
    "3. Method Overloading\n",
    "4. Method Overriding\n"
   ]
  },
  {
   "cell_type": "markdown",
   "metadata": {},
   "source": [
    "1.Duck typing\n",
    "\n",
    "Dynamic Typing(no need to type the datatype when a variable is defined)\n",
    "\n"
   ]
  },
  {
   "cell_type": "markdown",
   "metadata": {},
   "source": [
    "`more understanding required`"
   ]
  },
  {
   "cell_type": "code",
   "execution_count": 249,
   "metadata": {},
   "outputs": [
    {
     "name": "stdout",
     "output_type": "stream",
     "text": [
      "Spell Check\n",
      "Convention check\n",
      "Compiling\n",
      "Running\n"
     ]
    }
   ],
   "source": [
    "class Pycharm:\n",
    "    \n",
    "    def execute(self):\n",
    "        print('Compiling')\n",
    "        print('Running')\n",
    "\n",
    "class MyEditor:\n",
    "    def execute(self):\n",
    "        print('Spell Check')\n",
    "        print('Convention check')\n",
    "        print('Compiling')\n",
    "        print('Running')\n",
    "        \n",
    "class Laptop():\n",
    "    \n",
    "    def code(self,ide):\n",
    "        ide.execute()\n",
    "\n",
    "lap1 = Laptop()\n",
    "\n",
    "ide = MyEditor()\n",
    "\n",
    "lap1.code(ide)"
   ]
  },
  {
   "cell_type": "code",
   "execution_count": 250,
   "metadata": {},
   "outputs": [
    {
     "name": "stdout",
     "output_type": "stream",
     "text": [
      "Compiling\n",
      "Running\n"
     ]
    }
   ],
   "source": [
    "ide = Pycharm()\n",
    "\n",
    "lap1.code(ide)"
   ]
  },
  {
   "cell_type": "markdown",
   "metadata": {},
   "source": [
    "2. Operator Overloading\n",
    "\n",
    "`str` & `int` classes have following methods defined that would be called whenever +,- or * operator is applied.\n",
    "1. `__add__()`\n",
    "2. `__sub__()`\n",
    "3. `__mul__()`\n",
    "4. `__gt__()` for >\n",
    "\n",
    "`Student.__add__(s1,s2)`. Behind the scene when use use s1 + s2 . This will be called\n",
    "\n",
    "`+` means calling `__add__` method but as we dont have add method we need to define it in case of objects\n",
    "\n",
    "The following are some of the magic methods that are predefined that will be called when an opertor is applied between"
   ]
  },
  {
   "attachments": {
    "image.png": {
     "image/png": "[encoded data removed]"
    }
   },
   "cell_type": "markdown",
   "metadata": {},
   "source": [
    "![image.png](attachment:image.png)"
   ]
  },
  {
   "cell_type": "code",
   "execution_count": 7,
   "metadata": {},
   "outputs": [
    {
     "name": "stdout",
     "output_type": "stream",
     "text": [
      "11\n",
      "11\n",
      "Nivas Reddy\n"
     ]
    }
   ],
   "source": [
    "a = 5\n",
    "b = 6\n",
    "c = \"Nivas \"\n",
    "d = \"Reddy\"\n",
    "print(a+b)\n",
    "print(int.__add__(a,b))\n",
    "print(str.__add__(c,d))"
   ]
  },
  {
   "cell_type": "code",
   "execution_count": 108,
   "metadata": {
    "scrolled": true
   },
   "outputs": [
    {
     "data": {
      "text/plain": [
       "70"
      ]
     },
     "execution_count": 108,
     "metadata": {},
     "output_type": "execute_result"
    }
   ],
   "source": [
    "class Student:\n",
    "    \n",
    "    def __init__(self,m1,m2):\n",
    "        self.m1 = m1\n",
    "        self.m2 = m2\n",
    "        \n",
    "    def __add__(self,other):\n",
    "        m1 = self.m1 + other.m1\n",
    "        m2 = self.m2 + other.m2\n",
    "        s3 = Student(m1,m2)\n",
    "        return s3\n",
    "    \n",
    "    def __gt__(self,other):\n",
    "        r1 = self.m1 + self.m2\n",
    "        r2 = other.m1 + other.m2\n",
    "        if r1>r2:\n",
    "            return True\n",
    "        else:\n",
    "            return False\n",
    "            \n",
    "        \n",
    "        \n",
    "s1 = Student(10,64)\n",
    "s2 = Student(60,65)\n",
    "\n",
    "s3 = s1 + s2# - > is calling the __add__ method in the Student() class\n",
    "s3.m1"
   ]
  },
  {
   "cell_type": "code",
   "execution_count": 112,
   "metadata": {},
   "outputs": [
    {
     "data": {
      "text/plain": [
       "False"
      ]
     },
     "execution_count": 112,
     "metadata": {},
     "output_type": "execute_result"
    }
   ],
   "source": [
    "s1>s2 #-> calling the __gt__ method in the bg"
   ]
  },
  {
   "cell_type": "code",
   "execution_count": 116,
   "metadata": {},
   "outputs": [
    {
     "name": "stdout",
     "output_type": "stream",
     "text": [
      "9\n",
      "<__main__.Student object at 0x000001927D442BB0>\n"
     ]
    }
   ],
   "source": [
    "a = 9\n",
    "print(a) #returns value cause this calls magic method of __str__() which is by default defined for `int` Class\n",
    "\n",
    "print(s3)#to display address is what is defined for __str__() method for this class by default. we can override this"
   ]
  },
  {
   "attachments": {
    "image.png": {
     "image/png": "[encoded data removed]"
    }
   },
   "cell_type": "markdown",
   "metadata": {},
   "source": [
    "![image.png](attachment:image.png)"
   ]
  },
  {
   "cell_type": "code",
   "execution_count": 121,
   "metadata": {},
   "outputs": [
    {
     "ename": "TypeError",
     "evalue": "__str__ returned non-string (type tuple)",
     "output_type": "error",
     "traceback": [
      "\u001b[1;31m---------------------------------------------------------------------------\u001b[0m",
      "\u001b[1;31mTypeError\u001b[0m                                 Traceback (most recent call last)",
      "\u001b[1;32m<ipython-input-121-774f7d009127>\u001b[0m in \u001b[0;36m<module>\u001b[1;34m\u001b[0m\n\u001b[0;32m      9\u001b[0m \u001b[1;33m\u001b[0m\u001b[0m\n\u001b[0;32m     10\u001b[0m \u001b[0ms1\u001b[0m \u001b[1;33m=\u001b[0m \u001b[0mStudent\u001b[0m\u001b[1;33m(\u001b[0m\u001b[1;36m32\u001b[0m\u001b[1;33m,\u001b[0m\u001b[1;36m23\u001b[0m\u001b[1;33m)\u001b[0m\u001b[1;33m\u001b[0m\u001b[1;33m\u001b[0m\u001b[0m\n\u001b[1;32m---> 11\u001b[1;33m \u001b[0mprint\u001b[0m\u001b[1;33m(\u001b[0m\u001b[0ms1\u001b[0m\u001b[1;33m)\u001b[0m\u001b[1;33m\u001b[0m\u001b[1;33m\u001b[0m\u001b[0m\n\u001b[0m",
      "\u001b[1;31mTypeError\u001b[0m: __str__ returned non-string (type tuple)"
     ]
    }
   ],
   "source": [
    "class Student:\n",
    "    \n",
    "    def __init__(self,m1,m2):\n",
    "        self.m1 = m1\n",
    "        self.m2 = m2\n",
    "    \n",
    "    def __str__(self):\n",
    "        return self.m1,self.m2\n",
    "    \n",
    "s1 = Student(32,23)\n",
    "print(s1)"
   ]
  },
  {
   "cell_type": "markdown",
   "metadata": {},
   "source": [
    "This was expected as we are dealing with non string data types. Therefore lets format the print statement to convert to strings"
   ]
  },
  {
   "cell_type": "code",
   "execution_count": 124,
   "metadata": {},
   "outputs": [
    {
     "name": "stdout",
     "output_type": "stream",
     "text": [
      "32 23\n"
     ]
    }
   ],
   "source": [
    "class Student:\n",
    "    \n",
    "    def __init__(self,m1,m2):\n",
    "        self.m1 = m1\n",
    "        self.m2 = m2\n",
    "    \n",
    "    def __str__(self):\n",
    "        return '{} {}'.format(self.m1,self.m2)#Need to Understand this?\n",
    "    \n",
    "s1 = Student(32,23)\n",
    "print(s1)"
   ]
  },
  {
   "cell_type": "markdown",
   "metadata": {},
   "source": [
    "3. Method Overloading<br>\n",
    "A class with 2 methods with same name but different no. of arguments/parametres it is called Method Overloading\n",
    "(In python we cannot create two methods with same name)\n",
    "\n",
    "\n",
    "Languages like Java,C# have this concept of Method Overloading that is not there in python\n",
    "\n",
    "4. Method Overriding<br>\n",
    "A class with 2 methods with same name & same  arguments/parametres it is called Method Overloading\n",
    "(In Inherited classes we may encounter such methodss)\n",
    "\n"
   ]
  },
  {
   "cell_type": "code",
   "execution_count": 132,
   "metadata": {},
   "outputs": [
    {
     "data": {
      "text/plain": [
       "18"
      ]
     },
     "execution_count": 132,
     "metadata": {},
     "output_type": "execute_result"
    }
   ],
   "source": [
    "class Student():\n",
    "    def __init__(self,m1,m2):\n",
    "        self.m1 = m1\n",
    "        self.m2 = m2    \n",
    "        \n",
    "    def sum(self,a,b,c):\n",
    "        s = a+b+c\n",
    "        return s\n",
    "\n",
    "s1 = Student(23,52)\n",
    "s1.sum(4,5,9)"
   ]
  },
  {
   "cell_type": "markdown",
   "metadata": {},
   "source": [
    "We will get errors if used more arguments than what are defined in the method().\n",
    "\n",
    "We can use variable length argument or we can use `None` to the arguments and we can pass the desired no. of arguments while calling the method on object using if statement we can achieve this.."
   ]
  },
  {
   "cell_type": "code",
   "execution_count": 144,
   "metadata": {},
   "outputs": [
    {
     "data": {
      "text/plain": [
       "9"
      ]
     },
     "execution_count": 144,
     "metadata": {},
     "output_type": "execute_result"
    }
   ],
   "source": [
    "#Example of Method Overloading\n",
    "class Student():\n",
    "    def __init__(self,m1,m2):\n",
    "        self.m1 = m1\n",
    "        self.m2 = m2    \n",
    "        \n",
    "    def sum(self,a=None,b=None,c=None):\n",
    "        s = 0\n",
    "        if a!=None and b!=None and c!=None:\n",
    "            s = a+b+c\n",
    "        elif a!=None and b!=None:\n",
    "            s = a+b\n",
    "        else:\n",
    "            s = a\n",
    "        return s\n",
    "\n",
    "s1 = Student(23,52)\n",
    "s1.sum(4,5)"
   ]
  },
  {
   "cell_type": "code",
   "execution_count": 153,
   "metadata": {},
   "outputs": [
    {
     "name": "stdout",
     "output_type": "stream",
     "text": [
      "in B Show\n"
     ]
    }
   ],
   "source": [
    "#Example of Method Overriding\n",
    "\n",
    "class A:\n",
    "\n",
    "    def show(self):\n",
    "        print('in A show')\n",
    "        \n",
    "class B(A):\n",
    "    \n",
    "    def show(self):\n",
    "        print('in B Show')\n",
    "        \n",
    "a1 = B()#B inherits methods of A(Inheritence)\n",
    "a1.show()#B() show method has overrides A show() method"
   ]
  },
  {
   "cell_type": "markdown",
   "metadata": {},
   "source": [
    "<span style='background:yellow'>Iterators - Python</span>"
   ]
  },
  {
   "cell_type": "code",
   "execution_count": 1,
   "metadata": {},
   "outputs": [
    {
     "ename": "IndexError",
     "evalue": "list index out of range",
     "output_type": "error",
     "traceback": [
      "\u001b[1;31m---------------------------------------------------------------------------\u001b[0m",
      "\u001b[1;31mIndexError\u001b[0m                                Traceback (most recent call last)",
      "\u001b[1;32m<ipython-input-1-94d55c042486>\u001b[0m in \u001b[0;36m<module>\u001b[1;34m\u001b[0m\n\u001b[0;32m      1\u001b[0m \u001b[0mnums\u001b[0m \u001b[1;33m=\u001b[0m \u001b[1;33m[\u001b[0m\u001b[1;36m7\u001b[0m\u001b[1;33m,\u001b[0m\u001b[1;36m8\u001b[0m\u001b[1;33m,\u001b[0m\u001b[1;36m9\u001b[0m\u001b[1;33m,\u001b[0m\u001b[1;36m5\u001b[0m\u001b[1;33m]\u001b[0m\u001b[1;33m\u001b[0m\u001b[1;33m\u001b[0m\u001b[0m\n\u001b[1;32m----> 2\u001b[1;33m \u001b[0mnums\u001b[0m\u001b[1;33m[\u001b[0m\u001b[1;36m7\u001b[0m\u001b[1;33m]\u001b[0m\u001b[1;33m\u001b[0m\u001b[1;33m\u001b[0m\u001b[0m\n\u001b[0m",
      "\u001b[1;31mIndexError\u001b[0m: list index out of range"
     ]
    }
   ],
   "source": [
    "nums = [7,8,9,5]\n",
    "nums[7]"
   ]
  },
  {
   "cell_type": "code",
   "execution_count": 2,
   "metadata": {},
   "outputs": [
    {
     "name": "stdout",
     "output_type": "stream",
     "text": [
      "7 8 9 5 "
     ]
    }
   ],
   "source": [
    "#to iterate and print all the values\n",
    "for i in nums:\n",
    "    print(i,end=\" \")"
   ]
  },
  {
   "cell_type": "code",
   "execution_count": 3,
   "metadata": {},
   "outputs": [
    {
     "name": "stdout",
     "output_type": "stream",
     "text": [
      "7\n",
      "8\n",
      "9\n"
     ]
    }
   ],
   "source": [
    "#Iterator Function can be used to loop through the elements\n",
    "it = iter(nums)\n",
    "print(it.__next__())\n",
    "print(it.__next__())\n",
    "print(next(it))#Next is an inbuilt funciton"
   ]
  },
  {
   "cell_type": "code",
   "execution_count": 4,
   "metadata": {},
   "outputs": [
    {
     "name": "stdout",
     "output_type": "stream",
     "text": [
      "7\n",
      "8\n",
      "9\n",
      "5\n"
     ]
    }
   ],
   "source": [
    "for i in nums:\n",
    "    print(i)"
   ]
  },
  {
   "cell_type": "markdown",
   "metadata": {},
   "source": [
    "To create our own iterator we need to define the two magic methods `__iter__` & `__next__` then only iter works\n"
   ]
  },
  {
   "cell_type": "code",
   "execution_count": 26,
   "metadata": {},
   "outputs": [
    {
     "name": "stdout",
     "output_type": "stream",
     "text": [
      "1\n",
      "2\n",
      "3\n",
      "4\n",
      "5\n",
      "6\n",
      "7\n",
      "8\n",
      "9\n",
      "10\n"
     ]
    }
   ],
   "source": [
    "class TopTen():\n",
    "    \n",
    "    def __init__(self):\n",
    "        self.num = 1\n",
    "        \n",
    "    def __iter__(self):\n",
    "        return self\n",
    "    \n",
    "    def __next__(self):\n",
    "        if self.num<=10:\n",
    "            val = self.num\n",
    "            self.num+=1\n",
    "            return val\n",
    "        else:\n",
    "            raise StopIteration\n",
    "\n",
    "vals = TopTen()\n",
    "\n",
    "print(next(vals))\n",
    "for i in vals:\n",
    "    print(i)\n"
   ]
  },
  {
   "cell_type": "markdown",
   "metadata": {},
   "source": [
    "`print(next(vals))` raises an error cause once  the value got printed it wont get repeated in the for iterator it will start from where the last statement has gone upto"
   ]
  },
  {
   "cell_type": "code",
   "execution_count": 27,
   "metadata": {},
   "outputs": [
    {
     "ename": "StopIteration",
     "evalue": "",
     "output_type": "error",
     "traceback": [
      "\u001b[1;31m---------------------------------------------------------------------------\u001b[0m",
      "\u001b[1;31mStopIteration\u001b[0m                             Traceback (most recent call last)",
      "\u001b[1;32m<ipython-input-27-21696694658e>\u001b[0m in \u001b[0;36m<module>\u001b[1;34m\u001b[0m\n\u001b[1;32m----> 1\u001b[1;33m \u001b[0mprint\u001b[0m\u001b[1;33m(\u001b[0m\u001b[0mnext\u001b[0m\u001b[1;33m(\u001b[0m\u001b[0mvals\u001b[0m\u001b[1;33m)\u001b[0m\u001b[1;33m)\u001b[0m\u001b[1;33m\u001b[0m\u001b[1;33m\u001b[0m\u001b[0m\n\u001b[0m",
      "\u001b[1;32m<ipython-input-26-bc64f22a1fac>\u001b[0m in \u001b[0;36m__next__\u001b[1;34m(self)\u001b[0m\n\u001b[0;32m     13\u001b[0m             \u001b[1;32mreturn\u001b[0m \u001b[0mval\u001b[0m\u001b[1;33m\u001b[0m\u001b[1;33m\u001b[0m\u001b[0m\n\u001b[0;32m     14\u001b[0m         \u001b[1;32melse\u001b[0m\u001b[1;33m:\u001b[0m\u001b[1;33m\u001b[0m\u001b[1;33m\u001b[0m\u001b[0m\n\u001b[1;32m---> 15\u001b[1;33m             \u001b[1;32mraise\u001b[0m \u001b[0mStopIteration\u001b[0m\u001b[1;33m\u001b[0m\u001b[1;33m\u001b[0m\u001b[0m\n\u001b[0m\u001b[0;32m     16\u001b[0m \u001b[1;33m\u001b[0m\u001b[0m\n\u001b[0;32m     17\u001b[0m \u001b[0mvals\u001b[0m \u001b[1;33m=\u001b[0m \u001b[0mTopTen\u001b[0m\u001b[1;33m(\u001b[0m\u001b[1;33m)\u001b[0m\u001b[1;33m\u001b[0m\u001b[1;33m\u001b[0m\u001b[0m\n",
      "\u001b[1;31mStopIteration\u001b[0m: "
     ]
    }
   ],
   "source": [
    "print(next(vals))"
   ]
  },
  {
   "cell_type": "markdown",
   "metadata": {},
   "source": [
    "<span style='background:yellow'>Generators</span>"
   ]
  },
  {
   "cell_type": "code",
   "execution_count": 44,
   "metadata": {},
   "outputs": [
    {
     "name": "stdout",
     "output_type": "stream",
     "text": [
      "<generator object topten at 0x000001D992463200>\n",
      "1\n",
      "2\n",
      "3\n",
      "4\n"
     ]
    }
   ],
   "source": [
    "def topten():\n",
    "    yield 1\n",
    "    yield 2\n",
    "    yield 3\n",
    "    yield 4#yield is a keyword that converts the function to generator\n",
    "\n",
    "values = topten()\n",
    "print(values)\n",
    "print(values.__next__())\n",
    "for i in values:\n",
    "    print(i)"
   ]
  },
  {
   "cell_type": "code",
   "execution_count": 46,
   "metadata": {},
   "outputs": [
    {
     "name": "stdout",
     "output_type": "stream",
     "text": [
      "1\n",
      "4\n",
      "9\n",
      "16\n",
      "25\n",
      "36\n",
      "49\n",
      "64\n",
      "81\n",
      "100\n"
     ]
    }
   ],
   "source": [
    "#to print topten perfect squares\n",
    "\n",
    "def topten():\n",
    "    n = 1\n",
    "    \n",
    "    while n<= 10:\n",
    "        sq = n*n\n",
    "        yield sq\n",
    "        n += 1\n",
    "\n",
    "values = topten()\n",
    "for i in values:\n",
    "    print(i)"
   ]
  },
  {
   "cell_type": "markdown",
   "metadata": {},
   "source": [
    "<span style='background:yellow'>Exception Handling in Python</span>\n",
    "\n",
    "1. Compile time error-\n",
    "    Syntactical errors(most easy to handle)\n",
    "2. Logical Error-\n",
    "    Logic applied is wrong(output is wrong)(Bugs)\n",
    "3. Runtime Error-\n",
    "    code not working for specific cases.Exceptions"
   ]
  },
  {
   "cell_type": "code",
   "execution_count": 51,
   "metadata": {},
   "outputs": [
    {
     "ename": "ZeroDivisionError",
     "evalue": "division by zero",
     "output_type": "error",
     "traceback": [
      "\u001b[1;31m---------------------------------------------------------------------------\u001b[0m",
      "\u001b[1;31mZeroDivisionError\u001b[0m                         Traceback (most recent call last)",
      "\u001b[1;32m<ipython-input-51-f7f4da83a118>\u001b[0m in \u001b[0;36m<module>\u001b[1;34m\u001b[0m\n\u001b[0;32m      1\u001b[0m \u001b[0ma\u001b[0m \u001b[1;33m=\u001b[0m \u001b[1;36m5\u001b[0m\u001b[1;33m\u001b[0m\u001b[1;33m\u001b[0m\u001b[0m\n\u001b[0;32m      2\u001b[0m \u001b[0mb\u001b[0m \u001b[1;33m=\u001b[0m \u001b[1;36m0\u001b[0m\u001b[1;33m\u001b[0m\u001b[1;33m\u001b[0m\u001b[0m\n\u001b[1;32m----> 3\u001b[1;33m \u001b[0mprint\u001b[0m\u001b[1;33m(\u001b[0m\u001b[0ma\u001b[0m\u001b[1;33m/\u001b[0m\u001b[0mb\u001b[0m\u001b[1;33m)\u001b[0m\u001b[1;33m\u001b[0m\u001b[1;33m\u001b[0m\u001b[0m\n\u001b[0m\u001b[0;32m      4\u001b[0m \u001b[1;33m\u001b[0m\u001b[0m\n\u001b[0;32m      5\u001b[0m \u001b[0mprint\u001b[0m\u001b[1;33m(\u001b[0m\u001b[1;34m'Bye'\u001b[0m\u001b[1;33m)\u001b[0m\u001b[1;33m\u001b[0m\u001b[1;33m\u001b[0m\u001b[0m\n",
      "\u001b[1;31mZeroDivisionError\u001b[0m: division by zero"
     ]
    }
   ],
   "source": [
    "a = 5\n",
    "b = 0\n",
    "print(a/b)\n",
    "\n",
    "print('Bye')"
   ]
  },
  {
   "cell_type": "code",
   "execution_count": 55,
   "metadata": {},
   "outputs": [
    {
     "name": "stdout",
     "output_type": "stream",
     "text": [
      "Hey, you cannot divide a number by zero\n",
      "Bye\n"
     ]
    }
   ],
   "source": [
    "a = 5\n",
    "b = 0\n",
    "try:\n",
    "    print(a/b)\n",
    "except Exception:#is executed only when we have an error\n",
    "    print('Hey, you cannot divide a number by zero')\n",
    "\n",
    "print('Bye')"
   ]
  },
  {
   "cell_type": "code",
   "execution_count": 62,
   "metadata": {},
   "outputs": [
    {
     "name": "stdout",
     "output_type": "stream",
     "text": [
      "Hey, you cannot divide a number by zero --- division by zero\n",
      "Bye\n"
     ]
    }
   ],
   "source": [
    "a = 5\n",
    "b = 0\n",
    "try:\n",
    "    print(a/b)\n",
    "except Exception as e:\n",
    "    print('Hey, you cannot divide a number by zero','---',e)\n",
    "\n",
    "print('Bye')"
   ]
  },
  {
   "cell_type": "markdown",
   "metadata": {},
   "source": [
    "Everytime you open a file/database-connection it is important that you close it."
   ]
  },
  {
   "cell_type": "code",
   "execution_count": 72,
   "metadata": {},
   "outputs": [
    {
     "name": "stdout",
     "output_type": "stream",
     "text": [
      "resource Open\n",
      "Hey, you cannot divide a number by zero --- division by zero\n",
      "resource Closed\n"
     ]
    }
   ],
   "source": [
    "a = 5\n",
    "b = 0\n",
    "try:\n",
    "    print('resource Open')\n",
    "    print(a/b)\n",
    "except Exception as e:\n",
    "    print('Hey, you cannot divide a number by zero','---',e)\n",
    "\n",
    "finally:\n",
    "    print('resource Closed')"
   ]
  },
  {
   "cell_type": "code",
   "execution_count": 76,
   "metadata": {},
   "outputs": [
    {
     "name": "stdout",
     "output_type": "stream",
     "text": [
      "resource Open\n",
      "Enter a number: 56\n",
      "resource Closed\n"
     ]
    }
   ],
   "source": [
    "#for different type of errors we have different names for exception\n",
    "\n",
    "try:\n",
    "    print('resource Open')\n",
    "    k = int(input('Enter a number: '))\n",
    "\n",
    "except ZeroDivisionError:\n",
    "    print('Hey, you cannot divide a number by zero')\n",
    "\n",
    "except ValueError:\n",
    "    print('Invalid Input')\n",
    "\n",
    "except Exception:\n",
    "    print('Something went wrong')\n",
    "\n",
    "finally:\n",
    "    print('resource Closed')"
   ]
  },
  {
   "cell_type": "markdown",
   "metadata": {},
   "source": [
    "<span style='background:yellow'>MultiThreading in Python</span>\n",
    "\n",
    "When broken a big problem into small small problems we call them threads\n"
   ]
  },
  {
   "cell_type": "code",
   "execution_count": 87,
   "metadata": {},
   "outputs": [
    {
     "name": "stdout",
     "output_type": "stream",
     "text": [
      "Hello\n",
      "Hello\n",
      "Hello\n",
      "Hello\n",
      "Hello\n",
      "Hi\n",
      "Hi\n",
      "Hi\n",
      "Hi\n",
      "Hi\n"
     ]
    }
   ],
   "source": [
    "class Hello:\n",
    "    def run(self):\n",
    "        for i in range(5):\n",
    "            print('Hello')\n",
    "    \n",
    "class Hi:\n",
    "    def run(self):\n",
    "        for i in range(5):\n",
    "            print('Hi')\n",
    "\n",
    "t1 = Hello()\n",
    "t2 = Hi()\n",
    "t1.run()\n",
    "t2.run()"
   ]
  },
  {
   "cell_type": "markdown",
   "metadata": {},
   "source": [
    "<span style='background:yellow'>Pending to Summarize</span>\n",
    "    \n",
    "\n",
    "Now we have three threads that are running simulateneously\n",
    "1. Main Thread\n",
    "2. t1 thread\n",
    "3. t2 thread\n",
    "\n",
    "Main thread valla Bye madyalo vastundhi.\n",
    "#There is a concept of Collision as well that is both threads running at the same instance and printing both \n",
    "#i.e HiHello\n",
    "#to avoid this we need to use sleep(0.2)\n",
    "\n",
    "we can use multiple threads to "
   ]
  },
  {
   "cell_type": "code",
   "execution_count": 93,
   "metadata": {},
   "outputs": [
    {
     "name": "stdout",
     "output_type": "stream",
     "text": [
      "Hello\n",
      "Hi\n",
      "Hello\n",
      "Hi\n",
      "Hello\n",
      "Hi\n",
      "Hello\n",
      "Hi\n",
      "Hello\n",
      "Hi\n",
      "Bye\n"
     ]
    }
   ],
   "source": [
    "from time import sleep\n",
    "from threading import *\n",
    "class Hello(Thread):\n",
    "    def run(self):#inside thread class there is a run method so it is important\n",
    "        for i in range(5):\n",
    "            print('Hello')\n",
    "            sleep(1)\n",
    "    \n",
    "class Hi(Thread):\n",
    "    def run(self):\n",
    "        for i in range(5):\n",
    "            print('Hi')\n",
    "            sleep(1)\n",
    "\n",
    "t1 = Hello()\n",
    "t2 = Hi()\n",
    "t1.start()\n",
    "sleep(0.2)\n",
    "t2.start()\n",
    "\n",
    "t1.join()\n",
    "t2.join()\n",
    "\n",
    "print('Bye')"
   ]
  },
  {
   "cell_type": "markdown",
   "metadata": {},
   "source": [
    "\n",
    "<span style='background:yellow'>File Handling in Python</span>\n",
    "\n",
    "Data Management Tools<br>\n",
    "- MySQL\n",
    "- Oracle\n",
    "\n",
    "Whenever we are opening a file we need to mention the intention i.e what do we want to do with the file.\n",
    "\n",
    "we need to save the file with a object reference"
   ]
  },
  {
   "cell_type": "code",
   "execution_count": 100,
   "metadata": {},
   "outputs": [
    {
     "name": "stdout",
     "output_type": "stream",
     "text": [
      "<_io.TextIOWrapper name='MyData.txt' mode='r' encoding='cp1252'>\n"
     ]
    }
   ],
   "source": [
    "f = open('MyData.txt','r')\n",
    "print(f)"
   ]
  },
  {
   "cell_type": "code",
   "execution_count": 102,
   "metadata": {},
   "outputs": [
    {
     "data": {
      "text/plain": [
       "'Hi Guys, This is the data from MyData.txt imported succesfully'"
      ]
     },
     "execution_count": 102,
     "metadata": {},
     "output_type": "execute_result"
    }
   ],
   "source": [
    "f.read()"
   ]
  },
  {
   "cell_type": "markdown",
   "metadata": {},
   "source": [
    "to print specific set of data"
   ]
  },
  {
   "cell_type": "code",
   "execution_count": 109,
   "metadata": {},
   "outputs": [
    {
     "data": {
      "text/plain": [
       "''"
      ]
     },
     "execution_count": 109,
     "metadata": {},
     "output_type": "execute_result"
    }
   ],
   "source": [
    "f.readline(4)\n",
    "prints 4 characters if no argument entire line is printed"
   ]
  },
  {
   "cell_type": "code",
   "execution_count": 120,
   "metadata": {},
   "outputs": [],
   "source": [
    "#to write the data\n",
    "f1 = open('abc','w')\n",
    "#if no file is present with the name we get a new file"
   ]
  },
  {
   "cell_type": "code",
   "execution_count": 121,
   "metadata": {},
   "outputs": [
    {
     "data": {
      "text/plain": [
       "9"
      ]
     },
     "execution_count": 121,
     "metadata": {},
     "output_type": "execute_result"
    }
   ],
   "source": [
    "f1.write('something')"
   ]
  },
  {
   "cell_type": "code",
   "execution_count": 124,
   "metadata": {},
   "outputs": [
    {
     "data": {
      "text/plain": [
       "6"
      ]
     },
     "execution_count": 124,
     "metadata": {},
     "output_type": "execute_result"
    }
   ],
   "source": [
    "#to append data we need to open the file in append mode\n",
    "f1 = open('abc','a')\n",
    "f1.write('Mobile')"
   ]
  },
  {
   "cell_type": "code",
   "execution_count": 138,
   "metadata": {},
   "outputs": [
    {
     "data": {
      "text/plain": [
       "'This is what i wanted to do'"
      ]
     },
     "execution_count": 138,
     "metadata": {},
     "output_type": "execute_result"
    }
   ],
   "source": [
    "f1 = open('MyData.txt','r')\n",
    "f2 = open('MyData.txt','a')\n",
    "f3 = open('MyData.txt','w')\n",
    "f3.write('This is what i wanted to do')\n",
    "f1.read()"
   ]
  },
  {
   "cell_type": "code",
   "execution_count": 148,
   "metadata": {},
   "outputs": [
    {
     "data": {
      "text/plain": [
       "'This is what i wanted to do'"
      ]
     },
     "execution_count": 148,
     "metadata": {},
     "output_type": "execute_result"
    }
   ],
   "source": [
    "#Task - 01\n",
    "#we have 2 files . Now copy everything from MyData.txt and save it in abc.txt\n",
    "\n",
    "f1 = open('MyData.txt','r')\n",
    "context =f1.read()\n",
    "\n",
    "f2 = open('abc.txt','r')\n",
    "f3 = open('abc.txt','w')\n",
    "f3.write((context))\n",
    "f2.read()"
   ]
  },
  {
   "cell_type": "code",
   "execution_count": 1,
   "metadata": {},
   "outputs": [
    {
     "name": "stdout",
     "output_type": "stream",
     "text": [
      "27\n"
     ]
    }
   ],
   "source": [
    "f = open('MyData.txt','r')\n",
    "f1 = open('abc.txt','w')\n",
    "\n",
    "for data in f:\n",
    "    print(f1.write(data))"
   ]
  },
  {
   "cell_type": "markdown",
   "metadata": {},
   "source": [
    "#Use `rb` to read files in binary format\n",
    "for image files we get Hexvalues as output if we read the image file. we can use this logic to copy the images :)"
   ]
  },
  {
   "cell_type": "markdown",
   "metadata": {},
   "source": [
    "\n",
    "Comments in Python - Using # is best \n",
    "we can use ''' -comment in multiple lines '''\n",
    "\n",
    "Generally only for Documentation we use the multiline commenting . dont use that in case of normal commenting- "
   ]
  },
  {
   "cell_type": "markdown",
   "metadata": {},
   "source": [
    "<span style=\"background-color: #FFFF00\">is Python an Interpreted or compiled Language?</span><br>\n",
    "The answer is it is both\n",
    "\n",
    "C&C++ are Compiled Languages"
   ]
  },
  {
   "attachments": {
    "image.png": {
     "image/png": "[encoded data removed]"
    }
   },
   "cell_type": "markdown",
   "metadata": {},
   "source": [
    "![image.png](attachment:image.png)"
   ]
  },
  {
   "attachments": {
    "image.png": {
     "image/png": "[encoded data removed]"
    }
   },
   "cell_type": "markdown",
   "metadata": {},
   "source": [
    "![image.png](attachment:image.png)"
   ]
  },
  {
   "cell_type": "markdown",
   "metadata": {},
   "source": [
    "Python - is getting compiled behind the scene\n",
    "\n",
    "\n",
    "PVM - Python virtual Machine\n",
    "Python - write code --> compiled to give byte code ---> Interpreted in VM --> Machine Language \n",
    "\n",
    "Python - rules and regulations\n",
    "But we have different implementations in python \n",
    "\n",
    "1. cpython-whatever we have learnt is cpython - Widely used implementation\n",
    "2. PyPy\n",
    "3. IronPython - Dotnet implementation of python\n",
    "4. Jython"
   ]
  },
  {
   "cell_type": "markdown",
   "metadata": {},
   "source": [
    "<span style='background:yellow'>Linear search in python</span>"
   ]
  },
  {
   "cell_type": "code",
   "execution_count": 3,
   "metadata": {},
   "outputs": [
    {
     "name": "stdout",
     "output_type": "stream",
     "text": [
      "Element you want to search for in the list: 1\n"
     ]
    }
   ],
   "source": [
    "lst = [5,8,4,6,9,2]\n",
    "n = int(input('Element you want to search for in the list: '))\n",
    "\n",
    "for i in lst:\n",
    "    if i == n:\n",
    "        print('Found @index - :',lst.index(i))\n",
    "    else:\n",
    "        continue\n",
    "\n",
    "    \n",
    "        "
   ]
  },
  {
   "cell_type": "code",
   "execution_count": 4,
   "metadata": {},
   "outputs": [
    {
     "name": "stdout",
     "output_type": "stream",
     "text": [
      "Enter the element : 1\n",
      "Found@:  2\n"
     ]
    }
   ],
   "source": [
    "#Same Example in different application\n",
    "pos = -1\n",
    "def search(list,n):\n",
    "    for i in list:\n",
    "        if i == n:\n",
    "            globals()['pos'] = list.index(i)\n",
    "            return True\n",
    "    return False\n",
    "\n",
    "list = [4,1,6,2,8,3]\n",
    "n = int(input('Enter the element : '))\n",
    "if search(list,n):\n",
    "    print('Found@: ',pos+1)\n",
    "else:\n",
    "    print('Not Found')"
   ]
  },
  {
   "cell_type": "markdown",
   "metadata": {},
   "source": [
    "<span style='background:yellow'>Binary Search - </span>"
   ]
  },
  {
   "cell_type": "code",
   "execution_count": null,
   "metadata": {},
   "outputs": [],
   "source": []
  }
 ],
 "metadata": {
  "kernelspec": {
   "display_name": "Python 3",
   "language": "python",
   "name": "python3"
  },
  "language_info": {
   "codemirror_mode": {
    "name": "ipython",
    "version": 3
   },
   "file_extension": ".py",
   "mimetype": "text/x-python",
   "name": "python",
   "nbconvert_exporter": "python",
   "pygments_lexer": "ipython3",
   "version": "3.9.2"
  }
 },
 "nbformat": 4,
 "nbformat_minor": 4
}
