{
 "cells": [
  {
   "cell_type": "markdown",
   "id": "architectural-irrigation",
   "metadata": {},
   "source": [
    "@www.youtube.com/telusko\n",
    "\n",
    "`Navin Reddy | Java Complete Tutorial for Beginners |`"
   ]
  },
  {
   "cell_type": "markdown",
   "id": "revolutionary-technology",
   "metadata": {},
   "source": [
    "`Objects & classes`"
   ]
  },
  {
   "cell_type": "markdown",
   "id": "massive-oasis",
   "metadata": {},
   "source": [
    "`Encapsulation`"
   ]
  },
  {
   "cell_type": "markdown",
   "id": "criminal-blast",
   "metadata": {},
   "source": [
    "when i create a new object it will create a box in hash memory with variable i having by default value to be zero. In the below case i am not using any methods to alter the values of variable. But Encapsulation says that we need to use set and get methods in order to manipulate the data of the attributes of the obj."
   ]
  },
  {
   "cell_type": "code",
   "execution_count": 2,
   "id": "understanding-treaty",
   "metadata": {},
   "outputs": [
    {
     "ename": "CompilationException",
     "evalue": "",
     "output_type": "error",
     "traceback": [
      "\u001b[1m\u001b[30m|   \u001b[1m\u001b[30m\u001b[0m\u001b[1m\u001b[30m\u001b[41mobj.i\u001b[0m\u001b[1m\u001b[30m = 5;\u001b[0m",
      "\u001b[1m\u001b[31mi has private access in A\u001b[0m",
      ""
     ]
    }
   ],
   "source": [
    "class A{\n",
    "//     int i;\n",
    "    private int i;\n",
    "}\n",
    "\n",
    "//inside main method\n",
    "A obj = new A();\n",
    "obj.i = 5;"
   ]
  },
  {
   "cell_type": "markdown",
   "id": "muslim-evolution",
   "metadata": {},
   "source": [
    "Private variables are only accesible within class.To overcome we can use setters and getters;In Encapsulation the variables will be private and those variables should have getters and setters.No. of variables should correspond to the no. of setters and getters. sometimes for variables you dont need to set the values you can ignore the setters..."
   ]
  },
  {
   "cell_type": "code",
   "execution_count": 11,
   "id": "earned-ordinary",
   "metadata": {},
   "outputs": [
    {
     "data": {
      "text/plain": [
       "5"
      ]
     },
     "execution_count": 11,
     "metadata": {},
     "output_type": "execute_result"
    }
   ],
   "source": [
    "class A{\n",
    "    private int i;\n",
    "    \n",
    "    public void setI(int j){\n",
    "        i=j;\n",
    "    }\n",
    "    \n",
    "    public int getI(){\n",
    "        return i;\n",
    "    }\n",
    "}\n",
    "\n",
    "//inside main method\n",
    "A obj = new A();\n",
    "obj.setI(5);\n",
    "obj.getI();"
   ]
  },
  {
   "cell_type": "code",
   "execution_count": 21,
   "id": "worldwide-dylan",
   "metadata": {},
   "outputs": [
    {
     "data": {
      "text/plain": [
       "Navin"
      ]
     },
     "execution_count": 21,
     "metadata": {},
     "output_type": "execute_result"
    }
   ],
   "source": [
    "class Emp{\n",
    "    private int empId;\n",
    "    private String empName;\n",
    "    \n",
    "    public int getEmpId() {\n",
    "        return empId;\n",
    "    }\n",
    "\n",
    "    public String getEmpName() {\n",
    "        return empName;\n",
    "    }\n",
    "    \n",
    "    public void setEmpId(int empId) {\n",
    "        this.empId = empId;\n",
    "    }\n",
    "\n",
    "    public void setEmpName(String empName) {\n",
    "        this.empName = empName;\n",
    "    }\n",
    "}\n",
    "\n",
    "//inside main method\n",
    "Emp e1 = new Emp();\n",
    "Emp e2 = new Emp();\n",
    "Emp e3 = new Emp();\n",
    "\n",
    "e1.setEmpId(3);\n",
    "e1.setEmpName(\"Navin\");\n",
    "e1.getEmpName();"
   ]
  },
  {
   "cell_type": "markdown",
   "id": "convertible-train",
   "metadata": {},
   "source": [
    "`Inheritence`"
   ]
  },
  {
   "cell_type": "markdown",
   "id": "incredible-minister",
   "metadata": {},
   "source": [
    "If you want to create additional functionality to the class but you are not allowed to modify the Class A.This is possible if B inherits A.(Dad's phone is my phone). All the methods from A will be added to B as well."
   ]
  },
  {
   "cell_type": "code",
   "execution_count": 25,
   "id": "enabling-sodium",
   "metadata": {},
   "outputs": [
    {
     "data": {
      "text/plain": [
       "from add"
      ]
     },
     "execution_count": 25,
     "metadata": {},
     "output_type": "execute_result"
    }
   ],
   "source": [
    "class A{\n",
    "    \n",
    "    public String add(){\n",
    "        return \"from add\";\n",
    "    }\n",
    "}\n",
    "\n",
    "class B extends A{\n",
    "    public void sub(){\n",
    "        \n",
    "    }\n",
    "}\n",
    "\n",
    "//inside main\n",
    "// A obj = new A();\n",
    "B obj = new B();\n",
    "obj.add();"
   ]
  },
  {
   "cell_type": "markdown",
   "id": "simplified-thompson",
   "metadata": {},
   "source": [
    "`Types of Inheritence`"
   ]
  },
  {
   "cell_type": "markdown",
   "id": "confirmed-athletics",
   "metadata": {},
   "source": [
    "1. *Single Level Inheritence*<br>\n",
    "   B extends A\n",
    "2. *Multi level Inheritence*<br>\n",
    "   C extends B extends A\n",
    "3. *Mulitple Inheritence* (~Not supported in Java)<br>\n",
    "    C extends A & C extends B (2 parents one child)"
   ]
  },
  {
   "cell_type": "markdown",
   "id": "reasonable-bruce",
   "metadata": {},
   "source": [
    "`Notes`"
   ]
  },
  {
   "cell_type": "markdown",
   "id": "demanding-support",
   "metadata": {},
   "source": [
    "1. If class B extends class A then A(Parent class, Superclass, base class) & B(Child class, Sub class, Derived Class)"
   ]
  },
  {
   "cell_type": "markdown",
   "id": "composite-marketing",
   "metadata": {},
   "source": [
    "In below example we already have a class sum() why to define the same method again."
   ]
  },
  {
   "cell_type": "code",
   "execution_count": 40,
   "id": "parallel-density",
   "metadata": {},
   "outputs": [
    {
     "data": {
      "text/plain": [
       "9"
      ]
     },
     "execution_count": 40,
     "metadata": {},
     "output_type": "execute_result"
    }
   ],
   "source": [
    "// Single Level Inheritence\n",
    "class Add{\n",
    "    int num1,num2,result=0;\n",
    "    \n",
    "    public int sum(){\n",
    "        result = num1+ num2;\n",
    "        return result;\n",
    "    }\n",
    "}\n",
    "\n",
    "class AddSub extends Add{\n",
    "//     int num1,num2,result;\n",
    "    \n",
    "//     public int sum(){\n",
    "//         result = num1+num2;\n",
    "//         return result;\n",
    "//     }\n",
    "    \n",
    "    public int sub(){\n",
    "        result = num1-num2;\n",
    "        return result;\n",
    "    }\n",
    "}\n",
    "\n",
    "AddSub obj = new AddSub();\n",
    "obj.num1 = 5;\n",
    "obj.num2 = 4;\n",
    "obj.sum();   //Addsub calls sum from Add"
   ]
  },
  {
   "cell_type": "code",
   "execution_count": 45,
   "id": "nervous-malaysia",
   "metadata": {},
   "outputs": [
    {
     "data": {
      "text/plain": [
       "20"
      ]
     },
     "execution_count": 45,
     "metadata": {},
     "output_type": "execute_result"
    }
   ],
   "source": [
    "// Multilevel Inheritence\n",
    "\n",
    "// Single Level Inheritence\n",
    "class Add{                 //Parent , Super ,Base\n",
    "    int num1,num2,result=0;\n",
    "    \n",
    "    public int sum(){\n",
    "        result = num1+ num2;\n",
    "        return result;\n",
    "    }\n",
    "}\n",
    "\n",
    "// Child , Sub , Derived\n",
    "class AddSub extends Add{                 //Single level Inheritence\n",
    "    \n",
    "    public int sub(){\n",
    "        result = num1-num2;\n",
    "        return result;\n",
    "    }\n",
    "}\n",
    "\n",
    "// Child , Sub , Derived\n",
    "class AddSubMul extends AddSub{\n",
    "    \n",
    "    public int multi(){                 //Multi level Inheritence\n",
    "        result = num1*num2;\n",
    "        return result;\n",
    "    }\n",
    "}\n",
    "\n",
    "AddSubMul obj = new AddSubMul();\n",
    "obj.num1 = 5;\n",
    "obj.num2 = 4;\n",
    "obj.multi();"
   ]
  },
  {
   "cell_type": "code",
   "execution_count": 47,
   "id": "geographic-nicaragua",
   "metadata": {},
   "outputs": [
    {
     "ename": "CompilationException",
     "evalue": "",
     "output_type": "error",
     "traceback": [
      "\u001b[1m\u001b[30m|   \u001b[1m\u001b[30mclass Calc extends Add\u001b[0m\u001b[1m\u001b[30m\u001b[41m\u001b[0m\u001b[1m\u001b[30m,Div{}\u001b[0m",
      "\u001b[1m\u001b[31m'{' expected\u001b[0m",
      ""
     ]
    }
   ],
   "source": [
    "// Multiple Inheritence\n",
    "class Calc extends Add,Div{}"
   ]
  },
  {
   "cell_type": "markdown",
   "id": "passing-evanescence",
   "metadata": {},
   "source": [
    "Java doesnt support Multiple Inheritence directly. We can do it with the help of `Interface`.we will learn later"
   ]
  },
  {
   "cell_type": "markdown",
   "id": "internal-muscle",
   "metadata": {},
   "source": [
    "`Object Creation in Inheritence`"
   ]
  },
  {
   "cell_type": "markdown",
   "id": "proud-cameroon",
   "metadata": {},
   "source": [
    "whenever you create an object of subclass , you also get the object of super class. or i can say. Whenever we call a constructor of Sub Class it will call a default Constructor of Super Class as well. With every Constructor you get a `super()` method() (hidden) which will call the Super Class Default Constructor."
   ]
  },
  {
   "cell_type": "markdown",
   "id": "charged-restaurant",
   "metadata": {},
   "source": [
    "we have `super()` method even for Super Class. `Every class in Java Extends object Class`. There class A is a subclass of Object Class."
   ]
  },
  {
   "cell_type": "markdown",
   "id": "insured-contact",
   "metadata": {},
   "source": [
    "If you want to call a particular Constructor of Super Class isntead of calling default Constructor. We will learn that later."
   ]
  },
  {
   "cell_type": "code",
   "execution_count": 66,
   "id": "marine-maldives",
   "metadata": {},
   "outputs": [
    {
     "name": "stdout",
     "output_type": "stream",
     "text": [
      "In A Const\n",
      "In B Const Int\n"
     ]
    }
   ],
   "source": [
    "class A{\n",
    "    public A(){\n",
    "        System.out.println(\"In A Const\");\n",
    "    }\n",
    "    \n",
    "    public A(int i){\n",
    "        System.out.println(\"In A Const Int\");\n",
    "    }\n",
    "}\n",
    "\n",
    "class B extends A{\n",
    "    public B(){\n",
    "//         super();This is indirectly called.\n",
    "        System.out.println(\"In B Const\");\n",
    "    }\n",
    "    \n",
    "    public B(int i){\n",
    "        System.out.println(\"In B Const Int\");\n",
    "    }\n",
    "}\n",
    "\n",
    "//inside main\n",
    "B obj = new B(5);"
   ]
  },
  {
   "cell_type": "markdown",
   "id": "federal-circulation",
   "metadata": {},
   "source": [
    "We can also create an object using Reference of SuperClass and Object of Subclass"
   ]
  },
  {
   "cell_type": "code",
   "execution_count": 68,
   "id": "appropriate-flour",
   "metadata": {},
   "outputs": [
    {
     "name": "stdout",
     "output_type": "stream",
     "text": [
      "In A Const\n",
      "In B Const Int\n"
     ]
    }
   ],
   "source": [
    "A obj = new B(5);"
   ]
  },
  {
   "cell_type": "markdown",
   "id": "irish-administrator",
   "metadata": {},
   "source": [
    "`Polymorphism`"
   ]
  },
  {
   "cell_type": "markdown",
   "id": "choice-chile",
   "metadata": {},
   "source": [
    "`Poly`-many & `morph`-Behaviour-. That is one device doing mulitple stuffs - Humans (we have different behaviour based on different situations) - Multiple forms .. .we are same things but by passing different parametres we become different"
   ]
  },
  {
   "cell_type": "markdown",
   "id": "southern-greece",
   "metadata": {},
   "source": [
    "`Method Overloading`- Multiple methods with same name but different parametres or type (different Method Signature). It is also called as `Compiletime Polymorphism`,`Static Binding`,`Early Binding`\n",
    "\n",
    "`Method Overriding` -  2 methods with same name,same parametres but 2 different classes(My phones overrides my father's phone)"
   ]
  },
  {
   "cell_type": "code",
   "execution_count": 92,
   "id": "metropolitan-auckland",
   "metadata": {},
   "outputs": [
    {
     "name": "stdout",
     "output_type": "stream",
     "text": [
      "in show B\n"
     ]
    }
   ],
   "source": [
    "class A{\n",
    "    public void show(){\n",
    "        System.out.print(\"in show A\");\n",
    "    }\n",
    "    \n",
    "    public void show(int i){\n",
    "        System.out.print(\"in show int\");\n",
    "    }\n",
    "    \n",
    "    public void show(float i){\n",
    "        System.out.print(\"in show float\");\n",
    "    }\n",
    "}\n",
    "class B extends A{\n",
    "    public void show(){\n",
    "        System.out.println(\"in show B\");\n",
    "    }\n",
    "}\n",
    "B obj = new B();\n",
    "obj.show();\n",
    "// Method Overiding. B show() has overrided A show()"
   ]
  },
  {
   "cell_type": "markdown",
   "id": "outside-talent",
   "metadata": {},
   "source": [
    "`Dynamic Method Dispatch` - we are deciding which method to call on runtime. Also called as Run time Polymorphism."
   ]
  },
  {
   "cell_type": "markdown",
   "id": "abandoned-group",
   "metadata": {},
   "source": [
    "In below code, even though a is referenced via A , when a =obj2; it will be assigned the hashcode of obj2 and therefore the show method of class B is working here"
   ]
  },
  {
   "cell_type": "code",
   "execution_count": 16,
   "id": "least-policy",
   "metadata": {
    "tags": []
   },
   "outputs": [
    {
     "name": "stdout",
     "output_type": "stream",
     "text": [
      "in show A\n",
      "in show B\n",
      "in show B\n"
     ]
    }
   ],
   "source": [
    "A obj1 = new A();\n",
    "B obj2 = new B();\n",
    "A a;             //a is null as it is not assigned to an object\n",
    "obj1.show();\n",
    "System.out.println();\n",
    "obj2.show();\n",
    "a = obj2;\n",
    "a.show()"
   ]
  },
  {
   "cell_type": "markdown",
   "id": "uniform-lithuania",
   "metadata": {},
   "source": [
    "`Super keyword in Java - as method` - by default you will have a super in sub class and super class Constructors. In java every class extends Object class. Therefore superclass will default constructor of object class."
   ]
  },
  {
   "cell_type": "code",
   "execution_count": 38,
   "id": "saving-rhythm",
   "metadata": {},
   "outputs": [
    {
     "name": "stdout",
     "output_type": "stream",
     "text": [
      "In Const A\n"
     ]
    }
   ],
   "source": [
    "// Super class\n",
    "class A{\n",
    "    public A(){\n",
    "        System.out.println(\"In Const A\");\n",
    "    }\n",
    "    \n",
    "    public A(int i){\n",
    "        System.out.println(\"In Const A Para\");\n",
    "    }\n",
    "}\n",
    "\n",
    "// Sub class\n",
    "class B extends A{\n",
    "    public B(){\n",
    "        System.out.println(\"In Const B\");\n",
    "    }\n",
    "    \n",
    "    public B(int i){\n",
    "        super(i);\n",
    "        System.out.println(\"In Const B Para\");\n",
    "    }\n",
    "}\n",
    "\n",
    "//inside main\n",
    "A obj1 = new A();"
   ]
  },
  {
   "cell_type": "code",
   "execution_count": 39,
   "id": "directed-latitude",
   "metadata": {},
   "outputs": [
    {
     "name": "stdout",
     "output_type": "stream",
     "text": [
      "In Const A\n",
      "In Const B\n"
     ]
    }
   ],
   "source": [
    "B obj2 = new B();"
   ]
  },
  {
   "cell_type": "markdown",
   "id": "listed-butler",
   "metadata": {},
   "source": [
    "`super(i)` is passed so it is calling the Parametrized constructor of Super Class."
   ]
  },
  {
   "cell_type": "code",
   "execution_count": 40,
   "id": "interstate-diagram",
   "metadata": {},
   "outputs": [
    {
     "name": "stdout",
     "output_type": "stream",
     "text": [
      "In Const A Para\n",
      "In Const B Para\n"
     ]
    }
   ],
   "source": [
    "B obj3 = new B(5);"
   ]
  },
  {
   "cell_type": "markdown",
   "id": "unique-expert",
   "metadata": {},
   "source": [
    "`super() key word in the Java - as Object`"
   ]
  },
  {
   "cell_type": "markdown",
   "id": "boring-lincoln",
   "metadata": {},
   "source": [
    "B class is inheriting A so even variables will get inherited. But if we define the same variable again in B then it will fetch the value defined in B..But what if we want to fetch value of variable from Parent Class? `super.i` can do this."
   ]
  },
  {
   "cell_type": "code",
   "execution_count": 76,
   "id": "junior-pharmacology",
   "metadata": {},
   "outputs": [
    {
     "name": "stdout",
     "output_type": "stream",
     "text": [
      "5\n"
     ]
    }
   ],
   "source": [
    "class A{\n",
    "    int i=5;\n",
    "}\n",
    "\n",
    "class B extends A{\n",
    "    int i=4;\n",
    "    \n",
    "    public void show(){\n",
    "        System.out.println(super.i);\n",
    "    }\n",
    "}\n",
    "\n",
    "//inside main\n",
    "B obj = new B();\n",
    "obj.show();"
   ]
  },
  {
   "cell_type": "code",
   "execution_count": 52,
   "id": "significant-headquarters",
   "metadata": {},
   "outputs": [
    {
     "name": "stdout",
     "output_type": "stream",
     "text": [
      "A abc\n",
      "B abc\n"
     ]
    }
   ],
   "source": [
    "// What if we want to call the method from parent class.\n",
    "class A{\n",
    "\n",
    "    public void abc(){\n",
    "        System.out.println(\"A abc\");\n",
    "    }\n",
    "}\n",
    "\n",
    "class B extends A{\n",
    "\n",
    "    public void abc(){\n",
    "        super.abc();\n",
    "        System.out.println(\"B abc\");\n",
    "    }\n",
    "}\n",
    "\n",
    "//inside main\n",
    "B obj = new B();\n",
    "obj.abc();"
   ]
  },
  {
   "cell_type": "markdown",
   "id": "proper-district",
   "metadata": {},
   "source": [
    "`Final - Keyword in Java` - Final can be used with variable,method & class."
   ]
  },
  {
   "cell_type": "markdown",
   "id": "relevant-reduction",
   "metadata": {},
   "source": [
    "if you use final keyword for` variable`, the variable value cannot be changed once assigned.(assigning may be during varible declaration or at later point of time, but once assigned the value is final)"
   ]
  },
  {
   "cell_type": "code",
   "execution_count": 69,
   "id": "recovered-merchant",
   "metadata": {},
   "outputs": [],
   "source": [
    "// final keyword with variable\n",
    "final int i=5;\n",
    "i=6;\n",
    "// This will give error"
   ]
  },
  {
   "cell_type": "markdown",
   "id": "still-medline",
   "metadata": {},
   "source": [
    "If you make a `method `final , then method overriding wont work with that method and it pops an error"
   ]
  },
  {
   "cell_type": "code",
   "execution_count": 73,
   "id": "greater-canvas",
   "metadata": {},
   "outputs": [
    {
     "ename": "CompilationException",
     "evalue": "",
     "output_type": "error",
     "traceback": [
      "\u001b[1m\u001b[30m|   \u001b[1m\u001b[30m    \u001b[0m\u001b[1m\u001b[30m\u001b[41mpublic void show(){\u001b[0m",
      "\u001b[1m\u001b[30m|   \u001b[1m\u001b[30m\u001b[41m        System.out.println(\"In B show\");\u001b[0m",
      "\u001b[1m\u001b[30m|   \u001b[1m\u001b[30m\u001b[41m    }\u001b[0m",
      "\u001b[1m\u001b[31mshow() in B cannot override show() in A\u001b[0m",
      "\u001b[1m\u001b[31m  overridden method is final\u001b[0m",
      ""
     ]
    }
   ],
   "source": [
    "// final keyword with method\n",
    "class A{\n",
    "    final public void show(){\n",
    "        System.out.println(\"In A show\");\n",
    "    }\n",
    "}\n",
    "\n",
    "class B extends A{\n",
    "    public void show(){\n",
    "        System.out.println(\"In B show\");\n",
    "    }\n",
    "}\n",
    "\n",
    "B obj = new B();\n",
    "obj.show(); //method overriding wont work as used final for show in A"
   ]
  },
  {
   "cell_type": "markdown",
   "id": "brief-cooler",
   "metadata": {},
   "source": [
    "If you make a` class` final then no other class can inherit this final class."
   ]
  },
  {
   "cell_type": "code",
   "execution_count": 75,
   "id": "inclusive-clock",
   "metadata": {},
   "outputs": [
    {
     "ename": "CompilationException",
     "evalue": "",
     "output_type": "error",
     "traceback": [
      "\u001b[1m\u001b[30m|   \u001b[1m\u001b[30mclass B extends \u001b[0m\u001b[1m\u001b[30m\u001b[41mA\u001b[0m\u001b[1m\u001b[30m{\u001b[0m",
      "\u001b[1m\u001b[31mcannot inherit from final A\u001b[0m",
      ""
     ]
    }
   ],
   "source": [
    "// final keyword with a class\n",
    "final class A{\n",
    "    public void show(){\n",
    "        System.out.println(\"In A show\");\n",
    "    }\n",
    "}\n",
    "\n",
    "class B extends A{\n",
    "    public void show(){\n",
    "        System.out.println(\"In B show\");\n",
    "    }\n",
    "}"
   ]
  },
  {
   "cell_type": "markdown",
   "id": "clinical-sugar",
   "metadata": {},
   "source": [
    "`This Keyword in Java`"
   ]
  },
  {
   "cell_type": "code",
   "execution_count": 79,
   "id": "surrounded-federation",
   "metadata": {},
   "outputs": [
    {
     "name": "stdout",
     "output_type": "stream",
     "text": [
      "x is 6\n"
     ]
    }
   ],
   "source": [
    "class A{\n",
    "    private int x;\n",
    "    \n",
    "    public A(int a){\n",
    "        x = a;\n",
    "    }\n",
    "    public void show(){\n",
    "        System.out.println(\"x is \"+x);\n",
    "    }\n",
    "}\n",
    "\n",
    "// inside main\n",
    "A obj = new A(6);\n",
    "obj.show();"
   ]
  },
  {
   "cell_type": "markdown",
   "id": "satisfied-dream",
   "metadata": {},
   "source": [
    "The above code works absolutely fine . Now lets make a twist by changing the variable to `x` instead of  `a` .This will change the x from instance variable to local variable and there the x(instance variable) wont be getting assigned to the parametre passed. That's why we need to use the `this`keyword.\n",
    "\n",
    "`this` - Current Instance\n",
    "\n",
    "Types of Variables\n",
    "1. Instance Variable (in the class outside method)\n",
    "2. Local variable (defined inside a method)\n",
    "3. Class variable (defined inside class but its static variable)"
   ]
  },
  {
   "cell_type": "code",
   "execution_count": 1,
   "id": "worst-baltimore",
   "metadata": {},
   "outputs": [
    {
     "name": "stdout",
     "output_type": "stream",
     "text": [
      "x is 6\n"
     ]
    }
   ],
   "source": [
    "class A{\n",
    "    private int x;\n",
    "    \n",
    "    public A(int x){\n",
    "        this.x = x;\n",
    "    }\n",
    "    public void show(){\n",
    "        System.out.println(\"x is \"+x);\n",
    "    }\n",
    "}\n",
    "\n",
    "// inside main\n",
    "A obj = new A(6);\n",
    "obj.show();"
   ]
  },
  {
   "cell_type": "markdown",
   "id": "disturbed-vehicle",
   "metadata": {},
   "source": [
    "`Anonymous Object`"
   ]
  },
  {
   "cell_type": "markdown",
   "id": "novel-passport",
   "metadata": {},
   "source": [
    "we have `Stack` & `Heap` memories. When you pass `new A()` this will create a new object in the Heap memory and it will have some hash code that will point to this object.Now this hash code is stored inside the stack memory with variable name as obj.\n",
    "\n",
    "When we create an object we consume some amount of memory in stack & heap both."
   ]
  },
  {
   "cell_type": "markdown",
   "id": "delayed-panel",
   "metadata": {},
   "source": [
    "`Why use Anaonymous object`\n",
    "1. If you want to use the object only once then why to waste the memory by assigning in the above way. Can we directly write\n",
    "`new A().show()`. This will only consume heap memory.\n",
    "\n",
    "2. Second Advantage - Anonymous object will be eligible for garbage collection once the function of object is over."
   ]
  },
  {
   "cell_type": "code",
   "execution_count": 3,
   "id": "incorrect-continent",
   "metadata": {},
   "outputs": [
    {
     "name": "stdout",
     "output_type": "stream",
     "text": [
      "show in A\n"
     ]
    }
   ],
   "source": [
    "class A{\n",
    "    public void show(){\n",
    "        System.out.println(\"show in A\");\n",
    "    }\n",
    "}\n",
    "\n",
    "// int(data type) i(variable name) =5;   //i is primitive\n",
    "// A(type) obj(like variable name) = new A();//obj is referenced var\n",
    "\n",
    "new A().show();\n",
    "// These kind of objects with no name are called as Anonymous objs."
   ]
  },
  {
   "cell_type": "markdown",
   "id": "backed-worse",
   "metadata": {},
   "source": [
    "`When not to use Anonymous objs`"
   ]
  },
  {
   "cell_type": "markdown",
   "id": "lasting-greenhouse",
   "metadata": {},
   "source": [
    "When wanted to use object multiple times then use referenced objects rather than Anonymous objects because everytime when we use `new` it creates a new object which will have no relation to previous object."
   ]
  },
  {
   "cell_type": "code",
   "execution_count": 11,
   "id": "complimentary-distance",
   "metadata": {},
   "outputs": [
    {
     "name": "stdout",
     "output_type": "stream",
     "text": [
      "0\n"
     ]
    }
   ],
   "source": [
    "class A{\n",
    "    int k;\n",
    "    public void show(){\n",
    "       System.out.println(k);\n",
    "    }\n",
    "}\n",
    "\n",
    "new A().k = 9;\n",
    "new A().show();"
   ]
  },
  {
   "cell_type": "markdown",
   "id": "chinese-avenue",
   "metadata": {},
   "source": [
    "`Abstraction`"
   ]
  },
  {
   "cell_type": "markdown",
   "id": "baking-schema",
   "metadata": {},
   "source": [
    "Only focusing on the important stuff of something is called as Abstraction. we are not bothered about implementation only we need what is important."
   ]
  },
  {
   "cell_type": "markdown",
   "id": "legal-cowboy",
   "metadata": {},
   "source": [
    "In abstract class we can have both abstract methods and normal methods. But if we create abstract methods then we should definitely have abstract class."
   ]
  },
  {
   "cell_type": "markdown",
   "id": "bottom-yellow",
   "metadata": {},
   "source": [
    "`Abstract`"
   ]
  },
  {
   "cell_type": "markdown",
   "id": "enormous-finland",
   "metadata": {},
   "source": [
    "we want to write a method but we dont know the definition.we can declare the method `public abstract void login()`. Such methods by default they become abstract Methods that are declared but not defined.Now if we have abstract methods in our class that class becomes Abstract Class."
   ]
  },
  {
   "cell_type": "markdown",
   "id": "civil-cycle",
   "metadata": {},
   "source": [
    "`Notes`"
   ]
  },
  {
   "cell_type": "markdown",
   "id": "precious-memphis",
   "metadata": {},
   "source": [
    "1. Abstact mehtods are methods that can only be declared, not defined.\n",
    "2. Abstract Class may/may not have abstract methods.\n",
    "3. You cannot create objects of Abstract Class."
   ]
  },
  {
   "cell_type": "markdown",
   "id": "pacific-allergy",
   "metadata": {},
   "source": [
    "`Example - 01 ` - Abstraction"
   ]
  },
  {
   "cell_type": "markdown",
   "id": "qualified-polyester",
   "metadata": {},
   "source": [
    "as we have our methods abstract we need to make the class MaheshPhone abstract. Now we cannot instantiate the abstract class.i.e you cannot create an object of abstract class."
   ]
  },
  {
   "cell_type": "code",
   "execution_count": 26,
   "id": "genuine-wagner",
   "metadata": {},
   "outputs": [
    {
     "ename": "CompilationException",
     "evalue": "",
     "output_type": "error",
     "traceback": [
      "\u001b[1m\u001b[30m|   \u001b[1m\u001b[30mMaheshPhone obj = \u001b[0m\u001b[1m\u001b[30m\u001b[41mnew MaheshPhone()\u001b[0m\u001b[1m\u001b[30m;\u001b[0m",
      "\u001b[1m\u001b[31mMaheshPhone is abstract; cannot be instantiated\u001b[0m",
      ""
     ]
    }
   ],
   "source": [
    "abstract class MaheshPhone{\n",
    "    public void call(){\n",
    "        System.out.println(\"calling..\");\n",
    "    }\n",
    "    \n",
    "// Mahesh doesnt know how to provide implementation to below methods\n",
    "// There he makes the below methods abstract.(declared but not defd)\n",
    "    public abstract void move();\n",
    "    public abstract void dance();\n",
    "    public abstract void cook();\n",
    "    \n",
    "}\n",
    "\n",
    "MaheshPhone obj = new MaheshPhone();\n",
    "obj.call();"
   ]
  },
  {
   "cell_type": "markdown",
   "id": "computational-reggae",
   "metadata": {},
   "source": [
    "Mahesh failed to define other features and he wrote an article quoting the same so that any person in future can work on this.Now a student Ramesh enters the University and he found an article written on phone by Mahesh (every phone should have the below feautures one of them is defined by me rest you ll have to work on). Ramesh said i will extend MaheshPhone. Now mahesh was only able to define move. so defined the method. but now as Ramesh extends MaheshPhone now he has 4 methods (2 normal and 2 abstract) Therefore Ramesh Class should also be `abstract`. Now one more person with name Suresh wanted to do same thing and saw an article from Ramesh (stating i have taken the concept of Mahesh which has 4 methods and i tried to define one. 2 methods are defined now , Now its up to you to define the other methods.)"
   ]
  },
  {
   "cell_type": "code",
   "execution_count": 1,
   "id": "digital-publisher",
   "metadata": {},
   "outputs": [],
   "source": [
    "abstract class MaheshPhone{\n",
    "    public void call(){\n",
    "        System.out.println(\"calling..\");\n",
    "    }\n",
    "\n",
    "    public abstract void move();\n",
    "    public abstract void dance();\n",
    "    public abstract void cook();\n",
    "    \n",
    "}\n",
    "\n",
    "abstract class RameshPhone extends MaheshPhone{\n",
    "    public void move(){\n",
    "        System.out.println(\"moving..\");\n",
    "    }\n",
    "    \n",
    "}\n",
    "\n",
    "class SureshPhone extends RameshPhone{\n",
    "    public void dance(){\n",
    "        System.out.println(\"dancing..\");\n",
    "    }\n",
    "    \n",
    "    public void cook(){\n",
    "        System.out.println(\"cooking..\");\n",
    "    }\n",
    "}"
   ]
  },
  {
   "cell_type": "markdown",
   "id": "designed-mechanics",
   "metadata": {},
   "source": [
    "`SureshPhone` and `MaheshPhone` are abstract class & `SureshPhone `is Conctrete class. Therefore we can call all the methods from SureshPhone class."
   ]
  },
  {
   "cell_type": "code",
   "execution_count": 2,
   "id": "terminal-breath",
   "metadata": {},
   "outputs": [
    {
     "name": "stdout",
     "output_type": "stream",
     "text": [
      "calling..\n",
      "moving..\n",
      "dancing..\n",
      "cooking..\n"
     ]
    }
   ],
   "source": [
    "MaheshPhone obj = new SureshPhone();\n",
    "obj.call();\n",
    "obj.move();\n",
    "obj.dance();\n",
    "obj.cook();"
   ]
  },
  {
   "cell_type": "markdown",
   "id": "drawn-patient",
   "metadata": {},
   "source": [
    "`Use of abstract class` - Project Manager says i will give you the overall structure of the project. I will not give you definition but i will give you which methods you need.Now, its your responsibility to extend my class and implement all methods."
   ]
  },
  {
   "cell_type": "markdown",
   "id": "hindu-matthew",
   "metadata": {},
   "source": [
    "`Example - 02`-Abstraction"
   ]
  },
  {
   "cell_type": "markdown",
   "id": "central-unemployment",
   "metadata": {},
   "source": [
    "<pre>class Iphone{\n",
    "    public void showConfig(){\n",
    "        System.out.println(\" 2gb, IOS 9.3\");\n",
    "    }\n",
    "}\n",
    "\n",
    "class SamsungS4{\n",
    "    public void showConfig(){\n",
    "        System.out.println(\"Octa Core, Lolipop\");\n",
    "    }\n",
    "}\n",
    "\n",
    "public static void show(Iphone obj){\n",
    "    obj.showConfig();\n",
    "}\n",
    "\n",
    "public static void show(SamsungS4 obj){\n",
    "    obj.showConfig();\n",
    "}\n",
    "// inside main\n",
    "Iphone obj = new Iphone();\n",
    "SamsungS4 obj1 = new SamsungS4();\n",
    "show(obj);\n",
    "show(obj1);\n",
    "</pre>"
   ]
  },
  {
   "cell_type": "markdown",
   "id": "uniform-pavilion",
   "metadata": {},
   "source": [
    "Why do we need 2 `show()` methods.What if we can create one method that does the job? we can use concept of Abstraction here. Also, It is not mandatory to have method abstract in abstract class. we can also define the method here also. We can have normal methods in abstract class."
   ]
  },
  {
   "cell_type": "code",
   "execution_count": 7,
   "id": "cleared-parallel",
   "metadata": {},
   "outputs": [
    {
     "name": "stdout",
     "output_type": "stream",
     "text": [
      " 2gb, IOS 9.3\n",
      "Octa Core, Lolipop\n"
     ]
    }
   ],
   "source": [
    "abstract class Phone{\n",
    "    public abstract void showConfig();\n",
    "}\n",
    "\n",
    "class Iphone extends Phone{\n",
    "    public void showConfig(){\n",
    "        System.out.println(\" 2gb, IOS 9.3\");\n",
    "    }\n",
    "}\n",
    "\n",
    "class SamsungS4 extends Phone{\n",
    "    public void showConfig(){\n",
    "        System.out.println(\"Octa Core, Lolipop\");\n",
    "    }\n",
    "}\n",
    "\n",
    "// we can pass the object of subclass and reference of superClass.\n",
    "public static void show(Phone obj){\n",
    "    obj.showConfig();\n",
    "}\n",
    "\n",
    "\n",
    "// inside main\n",
    "Iphone obj1 = new Iphone();\n",
    "SamsungS4 obj2 = new SamsungS4();\n",
    "show(obj1);\n",
    "show(obj2);"
   ]
  },
  {
   "cell_type": "markdown",
   "id": "portable-climb",
   "metadata": {},
   "source": [
    "`Interface`"
   ]
  },
  {
   "cell_type": "markdown",
   "id": "musical-platinum",
   "metadata": {},
   "source": [
    "Class means a block where we define our methods and variables and when we dont know how to define method we use abstract methods and a class which has atleast one abstract method we have abstract class.When we have A & B as 2 abstract classes. Now when we create class C we should define method declared in abstract class A.But the problem is when we go for 2 abstract classes at same time.say A&B.you want all the definitions from A&B.When we use `c extends A,B` (multiple inheritence), Java doesnt support this. So to make Java support this we use Interfaces."
   ]
  },
  {
   "cell_type": "markdown",
   "id": "banner-aaron",
   "metadata": {},
   "source": [
    "Interface and abstract class are similar( In both we  `cannot create object` ) except that<br>\n",
    "`Class` - we can define and declare methods.<br>\n",
    "`Interface` - we can only declare but we cant define methods.<br>\n",
    "\n",
    "When you go for `class and class` it's `extends`.<br>\n",
    "When you go for `class and Interface` it's `implements`.i.e<br>\n",
    "When you go for `Interface and Interface` it's `extends`.<br>\n",
    "\n",
    "`class C implements A,B`<br>\n",
    "Now class C should define each and every method declared in both A&B.\n",
    "\n",
    "To define interface we need to use keyword `interface`<br>\n",
    "\n",
    "In below example Interface declaring the show method and class defining show()"
   ]
  },
  {
   "cell_type": "code",
   "execution_count": 11,
   "id": "settled-cylinder",
   "metadata": {},
   "outputs": [
    {
     "name": "stdout",
     "output_type": "stream",
     "text": [
      "Hello\n",
      "Hi\n"
     ]
    }
   ],
   "source": [
    "interface A{\n",
    "    public void show();\n",
    "}\n",
    "\n",
    "class B implements A{\n",
    "    public void show(){\n",
    "        System.out.println(\"Hello\");\n",
    "    }\n",
    "    \n",
    "    public void display(){\n",
    "        System.out.println(\"Hi\");\n",
    "    }\n",
    "}\n",
    "\n",
    "B obj = new B();\n",
    "obj.show();\n",
    "obj.display();"
   ]
  },
  {
   "cell_type": "markdown",
   "id": "north-adolescent",
   "metadata": {},
   "source": [
    "Now, i want to restrict the user to not be able to use display() method. To create reference i dont need a Constructor.but to create an object I need Constructor. i.e you can pass the reference from Interface and create an object of B that will only have usable methods declared in the interface"
   ]
  },
  {
   "cell_type": "code",
   "execution_count": 17,
   "id": "informal-conviction",
   "metadata": {},
   "outputs": [
    {
     "name": "stdout",
     "output_type": "stream",
     "text": [
      "Hello\n"
     ]
    }
   ],
   "source": [
    "interface A{\n",
    "    public void show();\n",
    "}\n",
    "\n",
    "class B implements A{\n",
    "    public void show(){\n",
    "        System.out.println(\"Hello\");\n",
    "    }\n",
    "    \n",
    "    public void display(){\n",
    "        System.out.println(\"Hi\");\n",
    "    }\n",
    "}\n",
    "\n",
    "A obj = new B();\n",
    "obj.show();"
   ]
  },
  {
   "cell_type": "code",
   "execution_count": 18,
   "id": "unlikely-hungarian",
   "metadata": {},
   "outputs": [
    {
     "ename": "CompilationException",
     "evalue": "",
     "output_type": "error",
     "traceback": [
      "\u001b[1m\u001b[30m|   \u001b[1m\u001b[30m\u001b[0m\u001b[1m\u001b[30m\u001b[41mobj.display\u001b[0m\u001b[1m\u001b[30m();\u001b[0m",
      "\u001b[1m\u001b[31mcannot find symbol\u001b[0m",
      "\u001b[1m\u001b[31m  symbol:   method display()\u001b[0m",
      ""
     ]
    }
   ],
   "source": [
    "obj.display();"
   ]
  },
  {
   "cell_type": "markdown",
   "id": "provincial-scout",
   "metadata": {},
   "source": [
    "`Advantages of Inheritence`\n",
    "\n",
    "1. Helps you to use Multiple Inheritence in Java.\n",
    "2. It provides you Security"
   ]
  },
  {
   "cell_type": "markdown",
   "id": "universal-antibody",
   "metadata": {},
   "source": [
    "`Notes`\n",
    "\n",
    "1. In Interface every method will be abstract.You cannot have a defined method in Interface.\n",
    "2.  `public abstract void show();` Since every method in Interface is abstract we dont need to specify `public abstract`"
   ]
  },
  {
   "cell_type": "markdown",
   "id": "thermal-immune",
   "metadata": {},
   "source": [
    "as show() is a non static method we need an object to call this method.`Abc obj = new Abc();` XX Abc is abstract so an object cannot be created using that.Therefore it throws error `Abc is abstract; cannot be instantiated`. But we can use Abc to create a Reference."
   ]
  },
  {
   "cell_type": "code",
   "execution_count": 36,
   "id": "essential-unemployment",
   "metadata": {},
   "outputs": [
    {
     "name": "stdout",
     "output_type": "stream",
     "text": [
      "in xyz\n"
     ]
    }
   ],
   "source": [
    "// Multiple Inheritence using Interface.\n",
    "interface Abc{\n",
    "    void show();\n",
    "}\n",
    "\n",
    "// interface Mnq{\n",
    "    \n",
    "// }\n",
    "// interface Pqr extends Abc,Mnq{\n",
    "//     void xyz();\n",
    "// }\n",
    "\n",
    "interface Pqr{\n",
    "    void xyz();\n",
    "}\n",
    "\n",
    "class AbcImpl implements Abc,Pqr{\n",
    "    public void show(){\n",
    "        System.out.println(\"in show\");\n",
    "    }\n",
    "    public void xyz(){\n",
    "        System.out.println(\"in xyz\");\n",
    "    }\n",
    "}\n",
    "\n",
    "Pqr obj = new AbcImpl();\n",
    "obj.xyz();"
   ]
  },
  {
   "cell_type": "code",
   "execution_count": 37,
   "id": "hollow-tolerance",
   "metadata": {},
   "outputs": [
    {
     "name": "stdout",
     "output_type": "stream",
     "text": [
      "in show\n"
     ]
    }
   ],
   "source": [
    "interface Abc{\n",
    "    void show();\n",
    "}\n",
    "\n",
    "class AbcImpl implements Abc{\n",
    "    public void show(){\n",
    "        System.out.println(\"in show\");\n",
    "    }\n",
    "}\n",
    "\n",
    "Abc obj = new AbcImpl();\n",
    "obj.show();"
   ]
  },
  {
   "cell_type": "markdown",
   "id": "distinct-multiple",
   "metadata": {},
   "source": [
    "Do we have another way of implementing the same. The sole purpose of AbcImpl class is to  just implement Abc.So lets remove AbcImpl class.\n",
    "\n",
    "There are 2 ways of creating object\n",
    "1. Invention(First created class and then object)\n",
    "2. Discovery(create an object and then i will provide implementation for the class and this classes wont have any name(Anonymous class))\n",
    "\n",
    "We are not implementing any class below. We are Just creating an interface and directly instantiating it by using Anonymous inner class where we can provide our definition."
   ]
  },
  {
   "cell_type": "code",
   "execution_count": 38,
   "id": "velvet-transsexual",
   "metadata": {},
   "outputs": [
    {
     "name": "stdout",
     "output_type": "stream",
     "text": [
      "in show\n"
     ]
    }
   ],
   "source": [
    "interface Abc{\n",
    "    void show();\n",
    "}\n",
    "\n",
    "Abc obj = new Abc(){\n",
    "    public void show(){\n",
    "        System.out.println(\"in show\");\n",
    "    }\n",
    "};\n",
    "obj.show();"
   ]
  },
  {
   "cell_type": "markdown",
   "id": "parallel-stereo",
   "metadata": {},
   "source": [
    "`Types of Interfaces`"
   ]
  },
  {
   "cell_type": "markdown",
   "id": "manufactured-diamond",
   "metadata": {},
   "source": [
    "1. Marker Interface -> without any methods\n",
    "2. SAM -> Single Abstract Method has only one method (called Functional Interface in Java 1.8)\n",
    "3. Normal"
   ]
  },
  {
   "cell_type": "markdown",
   "id": "engaging-translator",
   "metadata": {},
   "source": [
    "`Current Version - Java 1.8 -  Special Feature`"
   ]
  },
  {
   "cell_type": "markdown",
   "id": "indian-nothing",
   "metadata": {},
   "source": [
    "In `SAM` - `Abc obj = new Abc()` the term new Abc is same and whyto declare method that is already declared in interface (Boiler Code) we can remove all this code and simplify this. We call this `Lambda Expression` that is supported in Java 1.8"
   ]
  },
  {
   "cell_type": "code",
   "execution_count": 1,
   "id": "about-taiwan",
   "metadata": {},
   "outputs": [
    {
     "name": "stdout",
     "output_type": "stream",
     "text": [
      "in show\n"
     ]
    }
   ],
   "source": [
    "interface Abc{\n",
    "    void show();\n",
    "}\n",
    "Abc obj = () -> System.out.println(\"in show\");\n",
    "obj.show();"
   ]
  },
  {
   "cell_type": "markdown",
   "id": "caring-fitness",
   "metadata": {},
   "source": [
    "`Interface in Java-8`"
   ]
  },
  {
   "cell_type": "code",
   "execution_count": null,
   "id": "certain-ladder",
   "metadata": {},
   "outputs": [],
   "source": []
  }
 ],
 "metadata": {
  "kernelspec": {
   "display_name": "Java",
   "language": "java",
   "name": "java"
  },
  "language_info": {
   "codemirror_mode": "java",
   "file_extension": ".jshell",
   "mimetype": "text/x-java-source",
   "name": "Java",
   "pygments_lexer": "java",
   "version": "15.0.2+7-27"
  }
 },
 "nbformat": 4,
 "nbformat_minor": 5
}
