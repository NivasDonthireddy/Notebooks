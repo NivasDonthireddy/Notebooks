{
 "cells": [
  {
   "cell_type": "markdown",
   "id": "imposed-senator",
   "metadata": {},
   "source": [
    "@www.youtube.com/telusko\n",
    "\n",
    "`Navin Reddy | Java Complete Tutorial for Beginners |`"
   ]
  },
  {
   "cell_type": "markdown",
   "id": "lesser-kennedy",
   "metadata": {},
   "source": [
    "`Java - Array Introduction`"
   ]
  },
  {
   "cell_type": "markdown",
   "id": "fewer-southeast",
   "metadata": {},
   "source": [
    "Arrays in java are objects and when you print an object it will print the `hashcode` so is the case with arrays as well.In order to print the values we need to specify the index number."
   ]
  },
  {
   "cell_type": "code",
   "execution_count": 33,
   "id": "built-macedonia",
   "metadata": {},
   "outputs": [
    {
     "name": "stdout",
     "output_type": "stream",
     "text": [
      "1 2 3 "
     ]
    }
   ],
   "source": [
    "int a[] = new int[3];\n",
    "a[0]=1;\n",
    "a[1]=2;\n",
    "a[2]=3;\n",
    "\n",
    "for (int i=0;i<3;i++){\n",
    "    System.out.print(a[i]+\" \");\n",
    "}"
   ]
  },
  {
   "cell_type": "markdown",
   "id": "ordered-produce",
   "metadata": {},
   "source": [
    "`Enhanced For Loop`\n",
    "\n",
    "(works with arrays & collections and used only when you need to fetch all the elements of array)"
   ]
  },
  {
   "cell_type": "code",
   "execution_count": 156,
   "id": "unexpected-argument",
   "metadata": {},
   "outputs": [
    {
     "name": "stdout",
     "output_type": "stream",
     "text": [
      "1 2 3 4 5 6 "
     ]
    }
   ],
   "source": [
    "int a[] = {1,2,3,4,5,6};\n",
    "for(int i:a){\n",
    "    System.out.print(i+\" \");\n",
    "}"
   ]
  },
  {
   "cell_type": "markdown",
   "id": "caring-venice",
   "metadata": {},
   "source": [
    "`Properties of Array`"
   ]
  },
  {
   "cell_type": "code",
   "execution_count": 56,
   "id": "iraqi-karma",
   "metadata": {},
   "outputs": [
    {
     "data": {
      "text/plain": [
       "6"
      ]
     },
     "execution_count": 56,
     "metadata": {},
     "output_type": "execute_result"
    }
   ],
   "source": [
    "// Length of array\n",
    "int a[] = {1,2,3,4,5,6};\n",
    "a.length"
   ]
  },
  {
   "cell_type": "markdown",
   "id": "banner-measurement",
   "metadata": {},
   "source": [
    "`Random class - Assigning random values to array`"
   ]
  },
  {
   "cell_type": "code",
   "execution_count": 86,
   "id": "raising-intensity",
   "metadata": {},
   "outputs": [
    {
     "name": "stdout",
     "output_type": "stream",
     "text": [
      "14 24 30 40 26 32 48 24 34 36 44 11 32 5 9 6 46 31 13 17 "
     ]
    }
   ],
   "source": [
    "import java.util.Random;\n",
    "\n",
    "// inside main\n",
    "int a[] = new int[20];\n",
    "\n",
    "Random r = new Random();\n",
    "for (int i=0;i<a.length;i++){\n",
    "    a[i] = r.nextInt(50);\n",
    "}\n",
    "for (int i:a){\n",
    "    System.out.print(i+\" \");\n",
    "}"
   ]
  },
  {
   "cell_type": "markdown",
   "id": "black-exchange",
   "metadata": {},
   "source": [
    "`Array Out of bounds error`"
   ]
  },
  {
   "cell_type": "code",
   "execution_count": 89,
   "id": "mounted-bottom",
   "metadata": {},
   "outputs": [
    {
     "ename": "EvalException",
     "evalue": "Index 21 out of bounds for length 5",
     "output_type": "error",
     "traceback": [
      "\u001b[1m\u001b[31m---------------------------------------------------------------------------\u001b[0m",
      "\u001b[1m\u001b[31mjava.lang.ArrayIndexOutOfBoundsException: Index 21 out of bounds for length 5\u001b[0m",
      "\u001b[1m\u001b[31m\tat .(#103:1)\u001b[0m"
     ]
    }
   ],
   "source": [
    "import java.util.Random;\n",
    "int a[] = new int[5];\n",
    "\n",
    "Random r = new Random();\n",
    "for (int i=0;i<a.length;i++){\n",
    "    a[i] = r.nextInt(50);\n",
    "}\n",
    "a[21]"
   ]
  },
  {
   "cell_type": "markdown",
   "id": "premium-numbers",
   "metadata": {},
   "source": [
    "`Exception Handling in Java`"
   ]
  },
  {
   "cell_type": "code",
   "execution_count": 94,
   "id": "tough-charity",
   "metadata": {},
   "outputs": [
    {
     "name": "stdout",
     "output_type": "stream",
     "text": [
      "Maximum index is 49\n"
     ]
    }
   ],
   "source": [
    "import java.util.Random;\n",
    "int a[] = new int[5];\n",
    "\n",
    "Random r = new Random();\n",
    "for (int i=0;i<a.length;i++){\n",
    "    a[i] = r.nextInt(50);\n",
    "}\n",
    "try{\n",
    "    System.out.println(a[52]);\n",
    "}\n",
    "catch(Exception e){\n",
    "    System.out.println(\"Maximum index is 49\");\n",
    "}"
   ]
  },
  {
   "cell_type": "markdown",
   "id": "moved-standard",
   "metadata": {},
   "source": [
    "`2 Dimensional arrays`"
   ]
  },
  {
   "cell_type": "code",
   "execution_count": 110,
   "id": "ceramic-removal",
   "metadata": {},
   "outputs": [
    {
     "name": "stdout",
     "output_type": "stream",
     "text": [
      "1 2 \n",
      "3 4 \n"
     ]
    }
   ],
   "source": [
    "// int a[][] = new int[2][2];\n",
    "int a[][] = {\n",
    "                {1,2},\n",
    "                {3,4}\n",
    "            };\n",
    "for(int i=0;i<a.length;i++){\n",
    "    for(int j=0;j<a.length;j++){\n",
    "        System.out.print(a[i][j]+\" \");\n",
    "    }\n",
    "    System.out.println();\n",
    "}"
   ]
  },
  {
   "cell_type": "markdown",
   "id": "muslim-reflection",
   "metadata": {},
   "source": [
    "`Enhanced for loop in 2 Dimensions`"
   ]
  },
  {
   "cell_type": "code",
   "execution_count": 130,
   "id": "defined-switch",
   "metadata": {},
   "outputs": [
    {
     "name": "stdout",
     "output_type": "stream",
     "text": [
      "1 2 3 \n",
      "4 5 \n",
      "6 7 8 9 \n"
     ]
    }
   ],
   "source": [
    "for(int i[]:a){\n",
    "    for (int j:i){\n",
    "        System.out.print(j+\" \");\n",
    "    }\n",
    "    System.out.println();\n",
    "}"
   ]
  },
  {
   "cell_type": "markdown",
   "id": "digital-window",
   "metadata": {},
   "source": [
    "`Jagged Arrays` - arrays of unequal dimensions"
   ]
  },
  {
   "cell_type": "code",
   "execution_count": 137,
   "id": "underlying-frontier",
   "metadata": {},
   "outputs": [
    {
     "name": "stdout",
     "output_type": "stream",
     "text": [
      "1 2 3 \n",
      "4 5 \n",
      "6 7 8 9 \n"
     ]
    }
   ],
   "source": [
    "// int a[][] = new int[3][];\n",
    "// a[0] = new int[4];\n",
    "// a[1] = new int[2];\n",
    "// a[2] = new int[4];\n",
    "\n",
    "int a[][] = {\n",
    "    {1,2,3},\n",
    "    {4,5},\n",
    "    {6,7,8,9}\n",
    "};\n",
    "\n",
    "for(int i[]:a){\n",
    "    for (int j:i){\n",
    "        System.out.print(j+\" \");\n",
    "    }\n",
    "    System.out.println();\n",
    "}"
   ]
  },
  {
   "cell_type": "markdown",
   "id": "discrete-mirror",
   "metadata": {},
   "source": [
    "`3 Dimensional array`"
   ]
  },
  {
   "cell_type": "code",
   "execution_count": 155,
   "id": "champion-classic",
   "metadata": {},
   "outputs": [
    {
     "name": "stdout",
     "output_type": "stream",
     "text": [
      "0 0 \n",
      "0 0 \n",
      "\n",
      "0 0 \n",
      "0 0 \n",
      "\n",
      "0 0 \n",
      "0 0 \n",
      "\n"
     ]
    }
   ],
   "source": [
    "int a[] = new int[3];\n",
    "int b[][] = new int[3][2];\n",
    "int c[][][] = new int[3][2][2];\n",
    "\n",
    "// for assigning values we need to use 3 nested for loops\n",
    "\n",
    "for(int i[][]:c){\n",
    "    for(int j[]:i){\n",
    "        for(int k:j){\n",
    "            System.out.print(k+\" \");\n",
    "        }\n",
    "        System.out.println();\n",
    "    }\n",
    "    System.out.println();\n",
    "}"
   ]
  },
  {
   "cell_type": "markdown",
   "id": "alien-fleece",
   "metadata": {},
   "source": [
    "`Varargs` - Variable arguments\n",
    "\n",
    "If you pass a value initially it will search for method with exact signature(no.of arguments) , if it is not there then only it will search for varargs.."
   ]
  },
  {
   "cell_type": "code",
   "execution_count": 180,
   "id": "atmospheric-twins",
   "metadata": {},
   "outputs": [
    {
     "name": "stdout",
     "output_type": "stream",
     "text": [
      "5 from show(int a)"
     ]
    }
   ],
   "source": [
    "class Display{\n",
    "    public void show(int ... a){\n",
    "        for(int i:a){\n",
    "         System.out.print(i+\" \");   \n",
    "        }   \n",
    "    }\n",
    "    \n",
    "    public void show(int a){\n",
    "        System.out.print(a+\" from show(int a)\");\n",
    "    }\n",
    "}\n",
    "\n",
    "//inside main class\n",
    "Display obj1  = new Display();\n",
    "// obj1.show(5,6,7,8,9);\n",
    "obj1.show(5);\n",
    "// obj1.show(5,6,7,8.0); Error wil be displayed.// "
   ]
  },
  {
   "cell_type": "markdown",
   "id": "scheduled-picnic",
   "metadata": {},
   "source": [
    "`Arrays.asList(T ... a)` - refer"
   ]
  },
  {
   "cell_type": "markdown",
   "id": "constitutional-danish",
   "metadata": {},
   "source": [
    "`different ways of calling main method`"
   ]
  },
  {
   "cell_type": "code",
   "execution_count": 194,
   "id": "single-dairy",
   "metadata": {},
   "outputs": [],
   "source": [
    "public static void main(String[] args){\n",
    "    System.out.println(\"Hello\");\n",
    "}\n",
    "\n",
    "// Varargs\n",
    "public static void main(String ... args){\n",
    "    System.out.println(\"Hello\");\n",
    "}\n",
    "\n",
    "// we can change the order of access modifier and static\n",
    "static public void main(String ... args){\n",
    "    System.out.println(\"Hello\");\n",
    "}\n",
    "\n"
   ]
  },
  {
   "cell_type": "code",
   "execution_count": 57,
   "id": "spatial-chester",
   "metadata": {},
   "outputs": [
    {
     "data": {
      "text/plain": [
       "false"
      ]
     },
     "execution_count": 57,
     "metadata": {},
     "output_type": "execute_result"
    }
   ],
   "source": [
    "String str1 = \"Hello\";\n",
    "String str2 = \"Nivas\";\n",
    "\n",
    "str1.length();\n",
    "String str3 = str1.concat(str2);\n",
    "str1.equals(str2);      //case sensitive\n",
    "str1.equalsIgnoreCase(str2);\n",
    "str1.toLowerCase();\n",
    "str2.toUpperCase();\n",
    "str1.charAt(0);\n",
    "str1.substring(0,4);\n",
    "str1.contains(\"Hel0\");     //checks for character sequence in string\n",
    "// str2.replace(\"Nivsd\",\"xs\");"
   ]
  },
  {
   "cell_type": "code",
   "execution_count": 3,
   "id": "compact-cinema",
   "metadata": {},
   "outputs": [
    {
     "data": {
      "text/plain": [
       "true"
      ]
     },
     "execution_count": 3,
     "metadata": {},
     "output_type": "execute_result"
    }
   ],
   "source": [
    "String str1=\"Hello\";\n",
    "String str2=\" World\";\n",
    "String str3 = \"Hello\"+\" World\";\n",
    "String str4 = str1.concat(str2);\n",
    "str3.equals(str4)"
   ]
  },
  {
   "cell_type": "code",
   "execution_count": 70,
   "id": "adopted-functionality",
   "metadata": {},
   "outputs": [
    {
     "ename": "CompilationException",
     "evalue": "",
     "output_type": "error",
     "traceback": [
      "\u001b[1m\u001b[30m|   \u001b[1m\u001b[30mSystem.out.println(\"Sum of even numbers: \" +\u001b[0m\u001b[1m\u001b[30m\u001b[41mcalculateSumOfEvenNumbers\u001b[0m\u001b[1m\u001b[30m(numbers));\u001b[0m",
      "\u001b[1m\u001b[31mcannot find symbol\u001b[0m",
      "\u001b[1m\u001b[31m  symbol:   method calculateSumOfEvenNumbers(int[])\u001b[0m",
      ""
     ]
    }
   ],
   "source": [
    "class Tester {\n",
    "    \n",
    "    public static int calculateSumOfEvenNumbers(int[] numbers){\n",
    "        int sum=0;\n",
    "        for (int i:numbers){\n",
    "            if (i%2==0){\n",
    "                sum = sum+i;\n",
    "            }\n",
    "        }\n",
    "        return sum;\n",
    "    }\n",
    "}\n",
    "// in main method\n",
    "int[] numbers = {68,79,86,99,23,2,41,100};\n",
    "System.out.println(\"Sum of even numbers: \" +calculateSumOfEvenNumbers(numbers));\n"
   ]
  },
  {
   "cell_type": "code",
   "execution_count": null,
   "id": "synthetic-lawrence",
   "metadata": {},
   "outputs": [],
   "source": []
  }
 ],
 "metadata": {
  "kernelspec": {
   "display_name": "Java",
   "language": "java",
   "name": "java"
  },
  "language_info": {
   "codemirror_mode": "java",
   "file_extension": ".jshell",
   "mimetype": "text/x-java-source",
   "name": "Java",
   "pygments_lexer": "java",
   "version": "15.0.2+7-27"
  }
 },
 "nbformat": 4,
 "nbformat_minor": 5
}
