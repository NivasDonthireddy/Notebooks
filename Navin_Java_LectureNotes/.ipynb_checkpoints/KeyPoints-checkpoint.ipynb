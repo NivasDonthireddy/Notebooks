{
 "cells": [
  {
   "cell_type": "markdown",
   "id": "familiar-niagara",
   "metadata": {},
   "source": [
    "`Strings Assignments`"
   ]
  },
  {
   "cell_type": "code",
   "execution_count": 22,
   "id": "accurate-shore",
   "metadata": {},
   "outputs": [
    {
     "ename": "CompilationException",
     "evalue": "",
     "output_type": "error",
     "traceback": [
      "\u001b[1m\u001b[30m|   \u001b[1m\u001b[30m\u001b[0m\u001b[1m\u001b[30m\u001b[41mstr.length\u001b[0m\u001b[1m\u001b[30m\u001b[0m",
      "\u001b[1m\u001b[31mcannot find symbol\u001b[0m",
      "\u001b[1m\u001b[31m  symbol:   variable length\u001b[0m",
      ""
     ]
    }
   ],
   "source": [
    "String str = \"Nivas Donthireddy\";\n",
    "str.length();"
   ]
  },
  {
   "cell_type": "code",
   "execution_count": 20,
   "id": "headed-startup",
   "metadata": {},
   "outputs": [
    {
     "data": {
      "text/plain": [
       "c"
      ]
     },
     "execution_count": 20,
     "metadata": {},
     "output_type": "execute_result"
    }
   ],
   "source": [
    "String.valueOf('c');\n",
    "// to return the String type from char type"
   ]
  },
  {
   "cell_type": "code",
   "execution_count": 4,
   "id": "fabulous-quantum",
   "metadata": {},
   "outputs": [],
   "source": [
    "class Tester{\n",
    "\n",
    "    public static String moveSpecialCharacters(String str){\n",
    "        //Implement your code here and change the return value accordingly\n",
    "        String str1,str2;\n",
    "        String regex1=\"[A-Za-z0-9]\";\n",
    "        for(int i=0;i<str.length;i++)\n",
    "        return null;\n",
    "    }\n",
    "\n",
    "String str = \"He@#$llo!*&\";\n",
    "System.out.println(Tester.moveSpecialCharacters(str));"
   ]
  },
  {
   "cell_type": "code",
   "execution_count": 15,
   "id": "wrong-practice",
   "metadata": {},
   "outputs": [
    {
     "data": {
      "text/plain": [
       "false"
      ]
     },
     "execution_count": 15,
     "metadata": {},
     "output_type": "execute_result"
    }
   ],
   "source": []
  },
  {
   "cell_type": "code",
   "execution_count": null,
   "id": "earlier-analysis",
   "metadata": {},
   "outputs": [],
   "source": []
  }
 ],
 "metadata": {
  "kernelspec": {
   "display_name": "Java",
   "language": "java",
   "name": "java"
  },
  "language_info": {
   "codemirror_mode": "java",
   "file_extension": ".jshell",
   "mimetype": "text/x-java-source",
   "name": "Java",
   "pygments_lexer": "java",
   "version": "15.0.2+7-27"
  }
 },
 "nbformat": 4,
 "nbformat_minor": 5
}
