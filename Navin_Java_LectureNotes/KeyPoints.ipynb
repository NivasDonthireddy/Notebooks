{
 "cells": [
  {
   "cell_type": "markdown",
   "id": "foster-exercise",
   "metadata": {},
   "source": [
    "`Strings Assignments`"
   ]
  },
  {
   "cell_type": "code",
   "execution_count": 24,
   "id": "relative-duncan",
   "metadata": {},
   "outputs": [
    {
     "data": {
      "text/plain": [
       "17"
      ]
     },
     "execution_count": 24,
     "metadata": {},
     "output_type": "execute_result"
    }
   ],
   "source": [
    "String str = \"Nivas Donthireddy\";\n",
    "str.length();\n",
    "// to return the length of the string."
   ]
  },
  {
   "cell_type": "code",
   "execution_count": 38,
   "id": "elder-garage",
   "metadata": {},
   "outputs": [
    {
     "data": {
      "text/plain": [
       "$"
      ]
     },
     "execution_count": 38,
     "metadata": {},
     "output_type": "execute_result"
    }
   ],
   "source": [
    "str.charAt(4);\n",
    "// to return the char at the index"
   ]
  },
  {
   "cell_type": "code",
   "execution_count": 25,
   "id": "anticipated-essence",
   "metadata": {},
   "outputs": [
    {
     "data": {
      "text/plain": [
       "c"
      ]
     },
     "execution_count": 25,
     "metadata": {},
     "output_type": "execute_result"
    }
   ],
   "source": [
    "String.valueOf('c');\n",
    "// to return the String type from char type"
   ]
  },
  {
   "cell_type": "code",
   "execution_count": 79,
   "id": "pediatric-width",
   "metadata": {},
   "outputs": [
    {
     "data": {
      "text/plain": [
       "true"
      ]
     },
     "execution_count": 79,
     "metadata": {},
     "output_type": "execute_result"
    }
   ],
   "source": [
    "str=\"hello\";\n",
    "str.contains(\"h\");\n",
    "// to check for whether the char is present in the string or not."
   ]
  },
  {
   "cell_type": "code",
   "execution_count": 91,
   "id": "grateful-poker",
   "metadata": {},
   "outputs": [
    {
     "data": {
      "text/plain": [
       "he##o wor#d"
      ]
     },
     "execution_count": 91,
     "metadata": {},
     "output_type": "execute_result"
    }
   ],
   "source": [
    "str = \"hello world\";\n",
    "str.replace(\"l\",\"#\");\n",
    "// to replace all the occurances of a old char with new char"
   ]
  },
  {
   "cell_type": "code",
   "execution_count": 93,
   "id": "honey-hazard",
   "metadata": {},
   "outputs": [
    {
     "data": {
      "text/plain": [
       "he#lo world"
      ]
     },
     "execution_count": 93,
     "metadata": {},
     "output_type": "execute_result"
    }
   ],
   "source": [
    "str = \"hello world\";\n",
    "str.replaceFirst(\"l\",\"#\");\n",
    "// to replace only the first occurance of a old char with new charstr = \"hello world\";\n",
    "str.replaceFirst(\"l\",\"#\");"
   ]
  },
  {
   "cell_type": "code",
   "execution_count": 75,
   "id": "electrical-attempt",
   "metadata": {},
   "outputs": [
    {
     "data": {
      "text/plain": [
       "true"
      ]
     },
     "execution_count": 75,
     "metadata": {},
     "output_type": "execute_result"
    }
   ],
   "source": [
    "str=\"hello\";\n",
    "str.contains(\"h\");"
   ]
  },
  {
   "cell_type": "code",
   "execution_count": 32,
   "id": "latter-elephant",
   "metadata": {},
   "outputs": [
    {
     "name": "stdout",
     "output_type": "stream",
     "text": [
      "Hello@#$!*&\n"
     ]
    }
   ],
   "source": [
    "public class Tester{\n",
    "\n",
    "    public static String moveSpecialCharacters(String str){\n",
    "        //Implement your code here and change the return value accordingly\n",
    "        String str1=\"\",str2=\"\";\n",
    "        String regex1=\"[A-Za-z0-9]\";\n",
    "        for(int i=0;i<str.length();i++) {\n",
    "            if(String.valueOf(str.charAt(i)).matches(regex1)) {\n",
    "                str1 = str1+String.valueOf(str.charAt(i));\n",
    "            }\n",
    "            else {\n",
    "                str2 = str2+String.valueOf(str.charAt(i));\n",
    "            }       \n",
    "        }\n",
    "        str = str1+ str2;\n",
    "        return str;\n",
    "    }\n",
    "}\n",
    "\n",
    "String str = \"He@#$llo!*&\";\n",
    "System.out.println(Tester.moveSpecialCharacters(str));"
   ]
  },
  {
   "cell_type": "markdown",
   "id": "general-castle",
   "metadata": {},
   "source": [
    "`A-03`"
   ]
  },
  {
   "cell_type": "code",
   "execution_count": 56,
   "id": "french-disabled",
   "metadata": {},
   "outputs": [
    {
     "name": "stdout",
     "output_type": "stream",
     "text": [
      "lla swoc tae ssarg\n"
     ]
    }
   ],
   "source": [
    "public class Tester {\n",
    "    public static String reverseEachWord(String str){\n",
    "        //Implement your code here and change the return value accordingly\n",
    "        String str1[]=str.split(\" \");\n",
    "        String str1_rev[]= new String[str1.length];\n",
    "        int count = 0;\n",
    "        for(String i:str1) {\n",
    "            String str_rev=\"\";\n",
    "            for(int j=i.length()-1;j>=0;j--) {\n",
    "                str_rev = str_rev + i.charAt(j);\n",
    "            }\n",
    "            str1_rev[count]=str_rev;\n",
    "            count++;\n",
    "        }\n",
    "        String str2_rev=\"\";\n",
    "        for(String i:str1_rev) {\n",
    "            str2_rev = str2_rev+i+\" \";\n",
    "        }\n",
    "        str = str2_rev.substring(0,str.length());\n",
    "        return str;\n",
    "    }\n",
    "}\n",
    "\n",
    "String str = \"all cows eat grass\";\n",
    "System.out.println(Tester.reverseEachWord(str));"
   ]
  },
  {
   "cell_type": "markdown",
   "id": "satisfactory-fisher",
   "metadata": {},
   "source": [
    "`Solving the above same problem using regex;`"
   ]
  },
  {
   "cell_type": "code",
   "execution_count": 59,
   "id": "independent-lotus",
   "metadata": {},
   "outputs": [
    {
     "name": "stdout",
     "output_type": "stream",
     "text": [
      "all cows eat grass,\n"
     ]
    }
   ],
   "source": [
    "public class Tester {\n",
    "    public static String reverseEachWord(String str){\n",
    "        //Implement your code here and change the return value accordingly\n",
    "        \n",
    "        return str;\n",
    "    }\n",
    "}\n",
    "\n",
    "String str = \"all cows eat grass,\";\n",
    "System.out.println(Tester.reverseEachWord(str));"
   ]
  },
  {
   "cell_type": "markdown",
   "id": "selected-theta",
   "metadata": {},
   "source": [
    "`A-04`"
   ]
  },
  {
   "cell_type": "code",
   "execution_count": 60,
   "id": "potential-musician",
   "metadata": {},
   "outputs": [
    {
     "name": "stdout",
     "output_type": "stream",
     "text": [
      "3\n"
     ]
    }
   ],
   "source": [
    "import java.util.Arrays;\n",
    "\n",
    "public class Tester {\n",
    "\n",
    "    public static int findHighestOccurrence(String str){\n",
    "        //Implement your code here and change the return value accordingly\n",
    "        int count[] = new int[str.length()];\n",
    "        int counter;\n",
    "        for(int i=0;i<str.length();i++) {\n",
    "            counter = 0;\n",
    "            char ch = str.charAt(i);\n",
    "            for(int j=0;j<str.length();j++) {\n",
    "                if(ch==str.charAt(j)) {\n",
    "                    counter++;\n",
    "                }\n",
    "            }\n",
    "            count[i] = counter;\n",
    "        }\n",
    "        Arrays.sort(count);\n",
    "        return count[str.length()-1];\n",
    "    }\n",
    "}\n",
    "String str = \"success\";\n",
    "System.out.println(Tester.findHighestOccurrence(str));"
   ]
  },
  {
   "cell_type": "code",
   "execution_count": 89,
   "id": "israeli-spectacular",
   "metadata": {},
   "outputs": [
    {
     "data": {
      "text/plain": [
       "he#lo world"
      ]
     },
     "execution_count": 89,
     "metadata": {},
     "output_type": "execute_result"
    }
   ],
   "source": [
    "str = \"hello world\";\n",
    "str.replaceFirst(\"l\",\"#\");"
   ]
  },
  {
   "cell_type": "code",
   "execution_count": null,
   "id": "organized-conjunction",
   "metadata": {},
   "outputs": [],
   "source": []
  }
 ],
 "metadata": {
  "kernelspec": {
   "display_name": "Java",
   "language": "java",
   "name": "java"
  },
  "language_info": {
   "codemirror_mode": "java",
   "file_extension": ".jshell",
   "mimetype": "text/x-java-source",
   "name": "Java",
   "pygments_lexer": "java",
   "version": "15.0.2+7-27"
  }
 },
 "nbformat": 4,
 "nbformat_minor": 5
}
