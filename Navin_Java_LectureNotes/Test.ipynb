{
 "cells": [
  {
   "cell_type": "code",
   "execution_count": 1,
   "id": "outer-naples",
   "metadata": {},
   "outputs": [
    {
     "ename": "CompilationException",
     "evalue": "",
     "output_type": "error",
     "traceback": [
      "\u001b[1m\u001b[30m|   \u001b[1m\u001b[30mpublic class Order{\u001b[0m",
      "\u001b[1m\u001b[30m|   \u001b[1m\u001b[30m    private int orderId;\u001b[0m",
      "\u001b[1m\u001b[30m|   \u001b[1m\u001b[30m    private double totalPrice;\u001b[0m",
      "\u001b[1m\u001b[30m|   \u001b[1m\u001b[30m    private String status;\u001b[0m",
      "\u001b[1m\u001b[30m|   \u001b[1m\u001b[30m    \u001b[0m",
      "\u001b[1m\u001b[30m|   \u001b[1m\u001b[30m    public Order(int orderId,Food orderedFoods){\u001b[0m",
      "\u001b[1m\u001b[30m|   \u001b[1m\u001b[30m        \u001b[0m",
      "\u001b[1m\u001b[30m|   \u001b[1m\u001b[30m    }\u001b[0m",
      "\u001b[1m\u001b[30m|   \u001b[1m\u001b[30m}\u001b[0m",
      "\u001b[1m\u001b[31mUnresolved dependencies:\u001b[0m",
      "\u001b[1m\u001b[31m   - class Food\u001b[0m"
     ]
    }
   ],
   "source": [
    "public class Order{\n",
    "    private int orderId;\n",
    "    private double totalPrice;\n",
    "    private String status;\n",
    "    \n",
    "    public Order(int orderId,Food orderedFoods){\n",
    "    \n",
    "    }\n",
    "}\n",
    "\n",
    "public class Food{\n",
    "    private String foodName;\n",
    "    private String cuisine;\n",
    "    private String foodType;\n",
    "    private int quantityAvailable;\n",
    "    private double unitPrice;\n",
    "}"
   ]
  },
  {
   "cell_type": "code",
   "execution_count": null,
   "id": "peripheral-spank",
   "metadata": {},
   "outputs": [],
   "source": []
  }
 ],
 "metadata": {
  "kernelspec": {
   "display_name": "Java",
   "language": "java",
   "name": "java"
  },
  "language_info": {
   "codemirror_mode": "java",
   "file_extension": ".jshell",
   "mimetype": "text/x-java-source",
   "name": "Java",
   "pygments_lexer": "java",
   "version": "15.0.2+7-27"
  }
 },
 "nbformat": 4,
 "nbformat_minor": 5
}
