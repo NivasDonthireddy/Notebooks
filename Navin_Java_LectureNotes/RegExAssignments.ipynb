{
 "cells": [
  {
   "cell_type": "markdown",
   "id": "pacific-cincinnati",
   "metadata": {},
   "source": [
    "`@NivasDonthireddy --GithubPages`\n",
    "\n",
    "`Lex - RegEx Assignments`"
   ]
  },
  {
   "cell_type": "markdown",
   "id": "alert-assist",
   "metadata": {},
   "source": [
    "`RegEx - Exercise`"
   ]
  },
  {
   "cell_type": "code",
   "execution_count": 10,
   "id": "challenging-adaptation",
   "metadata": {},
   "outputs": [],
   "source": [
    "class Tester {\n",
    "\n",
    "    public static boolean checkNameValidity(String name) {\n",
    "        //Implement your code here and change the return value accordingly\n",
    "        String regex1 = \"^(?=.{2,32}$)[A-Z][a-zA-Z ]*[a-zA-Z]$\";\n",
    "        return name.matches(regex1);\n",
    "    }\n",
    "    \n",
    "    public static void main(String[] args) {\n",
    "        \n",
    "        //Change the value of name for testing your code with different names\n",
    "        String name = \"roger federer\";\n",
    "        System.out.println(\"The name is \"+ (checkNameValidity(name) ? \"valid!\" : \"invalid!\"));      \n",
    "    }\n",
    "}\n"
   ]
  },
  {
   "cell_type": "markdown",
   "id": "informal-thesaurus",
   "metadata": {},
   "source": [
    "`A-01`"
   ]
  },
  {
   "cell_type": "code",
   "execution_count": 11,
   "id": "favorite-cable",
   "metadata": {},
   "outputs": [],
   "source": [
    "class Tester {\n",
    "    \n",
    "    public static boolean checkPasswordValidity(String password) {\n",
    "        //Implement your code here and change the return value accordingly\n",
    "        String regex1 = \"^(?=.*[0-9])(?=.*[a-z])(?=.*[A-Z])(?=\\\\S+$)(?=.*[!@#$%&*_]).{8,20}$\";\n",
    "        return password.matches(regex1);\n",
    "    }\n",
    "    \n",
    "    public static void main(String[] args) {\n",
    "        \n",
    "        //Change the value of password for testing your code with different passwords\n",
    "        String password = \"P@$sW0rd\";\n",
    "        System.out.println(\"The password is \"+ (checkPasswordValidity(password) ? \"valid!\" : \"invalid!\"));\n",
    "    }\n",
    "    \n",
    "}"
   ]
  },
  {
   "cell_type": "markdown",
   "id": "oriented-pollution",
   "metadata": {},
   "source": [
    "`A-02`"
   ]
  },
  {
   "cell_type": "code",
   "execution_count": 12,
   "id": "understanding-remains",
   "metadata": {},
   "outputs": [],
   "source": [
    "class Tester {\n",
    "\n",
    "    public static boolean checkWebAddressValidity(String webAddress) {\n",
    "        //Implement your code here and change the return value accordingly\n",
    "        String regex1 = \"^(https|http)://(w{3}\\\\.)?[a-zA-Z0-9]+\\\\.(com|org|net)$\";\n",
    "        return webAddress.matches(regex1);\n",
    "    }\n",
    "      \n",
    "    public static void main(String[] args) {\n",
    "        \n",
    "        //Change the value of webAddress for testing your code with different web addresses\n",
    "        String webAddress = \"http://www.company.com\";\n",
    "        System.out.println(\"The web address is \"+ (checkWebAddressValidity(webAddress) ? \"valid!\" : \"invalid!\"));\n",
    "    }\n",
    "}"
   ]
  },
  {
   "cell_type": "markdown",
   "id": "enabling-reunion",
   "metadata": {},
   "source": [
    "`A-03`"
   ]
  },
  {
   "cell_type": "code",
   "execution_count": 13,
   "id": "owned-corpus",
   "metadata": {},
   "outputs": [],
   "source": [
    "class Shipment{\n",
    "\n",
    "    public boolean checkProductNameValidity(String productName) {\n",
    "        //Implement your code here and change the return value accordingly\n",
    "        String regex1 = \"[a-zA-Z]+(\\\\s[a-zA-Z]+){1,2}\";\n",
    "        return productName.matches(regex1); \n",
    "    }\n",
    "\n",
    "    public boolean checkProductIdValidity(String productId) {\n",
    "        //Implement your code here and change the return value accordingly\n",
    "        String regex1 = \"^(?=.{2,20}$)[a-zA-Z0-9]+$\";\n",
    "        return productId.matches(regex1); \n",
    "    }\n",
    "\n",
    "    public boolean checkTrackerIdValidity(String trackerId) {\n",
    "        //Implement your code here and change the return value accordingly\n",
    "        String regex1 = \"^[A-Z]:[A-Z]{4}:[a-z]{3}:[0-9]{2}\";\n",
    "        return trackerId.matches(regex1); \n",
    "    }\n",
    "\n",
    "}\n",
    "\n",
    "class Tester {\n",
    "      \n",
    "    public static void main(String[] args) {\n",
    "            \n",
    "        Shipment shipment = new Shipment();\n",
    "        \n",
    "        //Change the values for testing your code with different values\n",
    "        \n",
    "        String productName = \"Digital Camera\";\n",
    "        System.out.println(\"The product name is \"+ (shipment.checkProductNameValidity(productName) ? \"valid!\" : \"invalid!\"));\n",
    "\n",
    "        String productId = \"DC1911\";\n",
    "        System.out.println(\"The product Id is \"+ (shipment.checkProductIdValidity(productId) ? \"valid!\" : \"invalid!\"));\n",
    "\n",
    "        String trackerId = \"D:CMDC:cmd:23\";\n",
    "        System.out.println(\"The tracker Id is \"+ (shipment.checkTrackerIdValidity(trackerId) ? \"valid!\" : \"invalid!\"));\n",
    "    \n",
    "    }\n",
    "}\n"
   ]
  },
  {
   "cell_type": "markdown",
   "id": "working-wesley",
   "metadata": {},
   "source": [
    "`Lex Recursion Assignments`"
   ]
  },
  {
   "cell_type": "markdown",
   "id": "extraordinary-discount",
   "metadata": {},
   "source": [
    "`A-01`"
   ]
  },
  {
   "cell_type": "code",
   "execution_count": 14,
   "id": "creative-smell",
   "metadata": {},
   "outputs": [
    {
     "data": {
      "text/plain": [
       "3"
      ]
     },
     "execution_count": 14,
     "metadata": {},
     "output_type": "execute_result"
    }
   ],
   "source": [
    "class Tester {\n",
    "    \n",
    "    public static int findFibonacci(int n) {\n",
    "        //Implement your code here and change the return value accordingly\n",
    "        if(n==2 | n==3){\n",
    "            return 1;\n",
    "        }\n",
    "        else if(n==1){\n",
    "            return 0;\n",
    "        }\n",
    "        return findFibonacci(n-1)+findFibonacci(n-2);\n",
    "    }\n",
    "}\n",
    "\n",
    "// inside main\n",
    "Tester.findFibonacci(5);"
   ]
  },
  {
   "cell_type": "markdown",
   "id": "ultimate-samoa",
   "metadata": {},
   "source": [
    "`A-02`"
   ]
  },
  {
   "cell_type": "code",
   "execution_count": 15,
   "id": "official-vacation",
   "metadata": {},
   "outputs": [
    {
     "data": {
      "text/plain": [
       "2.4499999999999997"
      ]
     },
     "execution_count": 15,
     "metadata": {},
     "output_type": "execute_result"
    }
   ],
   "source": [
    "class Tester{\n",
    "    public static double findHPSum(int num){\n",
    "        if(num==1){\n",
    "            return 1.0;\n",
    "        }\n",
    "        return (double)1/num + findHPSum(num-1);\n",
    "    }\n",
    "}\n",
    "\n",
    "// inside main\n",
    "Tester.findHPSum(6);"
   ]
  },
  {
   "cell_type": "markdown",
   "id": "acceptable-rehabilitation",
   "metadata": {},
   "source": [
    "`A-03`"
   ]
  },
  {
   "cell_type": "code",
   "execution_count": 16,
   "id": "tested-tulsa",
   "metadata": {},
   "outputs": [
    {
     "data": {
      "text/plain": [
       "39"
      ]
     },
     "execution_count": 16,
     "metadata": {},
     "output_type": "execute_result"
    }
   ],
   "source": [
    "class Tester {\n",
    "\n",
    "    public static int findGCD(int num1, int num2) {\n",
    "        //Implement your code here and change the return value accordingly\n",
    "        int max = findMax(num1,num2);\n",
    "        int min = findMin(num1,num2);\n",
    "        if(max%min==0){\n",
    "            return min;\n",
    "        }\n",
    "        return findGCD(min-1,max);\n",
    "    }\n",
    "    \n",
    "    public static int findMax(int num1, int num2) {\n",
    "        return (num1 > num2 ? num1 : num2);\n",
    "    }\n",
    "\n",
    "    public static int findMin(int num1, int num2) {\n",
    "        return (num1 < num2 ? num1 : num2);\n",
    "    }\n",
    "}\n",
    "\n",
    "// inside main\n",
    "Tester.findGCD(65,78)"
   ]
  },
  {
   "cell_type": "markdown",
   "id": "scientific-sensitivity",
   "metadata": {},
   "source": [
    "`A-04`"
   ]
  },
  {
   "cell_type": "code",
   "execution_count": 25,
   "id": "intermediate-ready",
   "metadata": {},
   "outputs": [
    {
     "name": "stdout",
     "output_type": "stream",
     "text": [
      "Reversed array\n",
      "6\n",
      "5\n",
      "4\n",
      "3\n",
      "2\n",
      "1\n"
     ]
    }
   ],
   "source": [
    "class Tester {\n",
    "\n",
    "    public static int[] reverseArray(int numbers[], int startIndex, int endIndex) {\n",
    "        //Implement your code here and change the return value accordingly\n",
    "        if(startIndex>=numbers.length/2) {\n",
    "            return numbers;\n",
    "        }\n",
    "        int temp = numbers[startIndex];\n",
    "        numbers[startIndex] = numbers[endIndex];\n",
    "        numbers[endIndex] = temp;\n",
    "\n",
    "        return reverseArray(numbers,startIndex+1,endIndex-1);\n",
    "    }\n",
    "}\n",
    "\n",
    "// inside main\n",
    "int numbers[] = new int[] { 1, 2, 3, 4, 5, 6};\n",
    "int reversedNumbers[] = Tester.reverseArray(numbers, 0, numbers.length - 1);\n",
    "System.out.println(\"Reversed array\");\n",
    "for (int number : reversedNumbers) {\n",
    "    System.out.println(number);\n",
    "}"
   ]
  },
  {
   "cell_type": "markdown",
   "id": "stainless-optics",
   "metadata": {},
   "source": [
    "`A-05`"
   ]
  },
  {
   "cell_type": "code",
   "execution_count": 46,
   "id": "becoming-blanket",
   "metadata": {},
   "outputs": [
    {
     "name": "stdout",
     "output_type": "stream",
     "text": [
      "3\n"
     ]
    }
   ],
   "source": [
    "class Tester {\n",
    "\n",
    "    public static int countSubstring(String inputString, String substring, int count) {\n",
    "        //Implement your code here and change the return value accordingly\n",
    "        if(inputString.contains(substring)){\n",
    "            count++;\n",
    "        }\n",
    "        else{\n",
    "            return count;\n",
    "        }\n",
    "        inputString = inputString.replaceFirst(substring,\"\");\n",
    "        return countSubstring(inputString,substring,count);\n",
    "    }  \n",
    "}\n",
    "int count = Tester.countSubstring(\"I felt happy because I saw the others were Happy and because I knew I should feel happy, but I was not really happy\",\"happy\", 0);\n",
    "System.out.println(count);"
   ]
  }
 ],
 "metadata": {
  "kernelspec": {
   "display_name": "Java",
   "language": "java",
   "name": "java"
  },
  "language_info": {
   "codemirror_mode": "java",
   "file_extension": ".jshell",
   "mimetype": "text/x-java-source",
   "name": "Java",
   "pygments_lexer": "java",
   "version": "15.0.2+7-27"
  }
 },
 "nbformat": 4,
 "nbformat_minor": 5
}
