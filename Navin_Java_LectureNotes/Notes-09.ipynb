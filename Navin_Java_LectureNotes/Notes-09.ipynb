{
 "cells": [
  {
   "cell_type": "markdown",
   "id": "sixth-spider",
   "metadata": {},
   "source": [
    "@www.youtube.com/telusko\n",
    "\n",
    "`Navin Reddy | Java Complete Tutorial for Beginners |`"
   ]
  },
  {
   "cell_type": "markdown",
   "id": "liquid-calculation",
   "metadata": {},
   "source": [
    "`String Operations`"
   ]
  },
  {
   "cell_type": "markdown",
   "id": "bibliographic-reviewer",
   "metadata": {},
   "source": [
    "`Concatenation of 2 strings`"
   ]
  },
  {
   "cell_type": "code",
   "execution_count": null,
   "id": "interesting-rates",
   "metadata": {},
   "outputs": [],
   "source": [
    "import java.util.Scanner;\n",
    "String s1,s2;\n",
    "Scanner sc = new Scanner(System.in);\n",
    "System.out.println(\"Enter 2 string values\");\n",
    "s1 = sc.nextLine();\n",
    "s2 = sc.nextLine();\n",
    "\n",
    "String s3 = s1.concat(s2);\n",
    "System.out.println(s3);"
   ]
  },
  {
   "cell_type": "code",
   "execution_count": null,
   "id": "adult-parker",
   "metadata": {},
   "outputs": [],
   "source": [
    "String s4 = s1+s2;\n",
    "System.out.println(s4);"
   ]
  },
  {
   "cell_type": "markdown",
   "id": "behind-concern",
   "metadata": {},
   "source": [
    "`Length of string`"
   ]
  },
  {
   "cell_type": "code",
   "execution_count": null,
   "id": "acute-checkout",
   "metadata": {},
   "outputs": [],
   "source": [
    "int l1 = s1.length();\n",
    "int l2 = s2.length();\n",
    "System.out.println(l1+\" & \"+l2);"
   ]
  },
  {
   "cell_type": "markdown",
   "id": "higher-wagon",
   "metadata": {},
   "source": [
    "`Converting to UpperCase`"
   ]
  },
  {
   "cell_type": "code",
   "execution_count": null,
   "id": "working-holiday",
   "metadata": {},
   "outputs": [],
   "source": [
    "s1.toUpperCase();"
   ]
  },
  {
   "cell_type": "markdown",
   "id": "particular-differential",
   "metadata": {},
   "source": [
    "`toString method`"
   ]
  },
  {
   "cell_type": "code",
   "execution_count": null,
   "id": "needed-utilization",
   "metadata": {},
   "outputs": [],
   "source": [
    "class Student{\n",
    "    int rollno;\n",
    "    String sname;\n",
    "    \n",
    "    public Student(int rollno,String sname){\n",
    "        this.rollno = rollno;\n",
    "        this.sname = sname;\n",
    "    }\n",
    "}\n",
    "\n",
    "Student s1 = new Student(32,\"Nivas\");\n",
    "// System.out.println(s1.rollno+\" \"+s1.sname);\n",
    "s1"
   ]
  },
  {
   "cell_type": "markdown",
   "id": "aware-bobby",
   "metadata": {},
   "source": [
    "The above we got is because of toString() method that is being called whenever and object is printed. Every class in java extends object class.and in object class we have this toString() method declared and defined. returns  `getClass().getName() + \"@\" + Integer.toHexString(hashCode);` hash code is in binary format so converting it into Hexadecimal format by using toHexString method.\n",
    "\n",
    "What if I override the toString() method by defining the method in the class. Not neccessary to write @Override."
   ]
  },
  {
   "cell_type": "code",
   "execution_count": null,
   "id": "verified-trade",
   "metadata": {},
   "outputs": [],
   "source": [
    "class Student{\n",
    "    int rollno;\n",
    "    String sname;\n",
    "    \n",
    "    public Student(int rollno,String sname){\n",
    "        this.rollno = rollno;\n",
    "        this.sname = sname;\n",
    "    }\n",
    "    \n",
    "    @Override\n",
    "    public String toString(){\n",
    "        return rollno+\" : \"+sname;\n",
    "    }\n",
    "}\n",
    "\n",
    "Student s1 = new Student(32,\"Nivas\");\n",
    "// System.out.println(s1.rollno+\" \"+s1.sname);\n",
    "s1"
   ]
  },
  {
   "cell_type": "code",
   "execution_count": null,
   "id": "unlike-wallet",
   "metadata": {},
   "outputs": [],
   "source": []
  }
 ],
 "metadata": {
  "kernelspec": {
   "display_name": "Java",
   "language": "java",
   "name": "java"
  },
  "language_info": {
   "codemirror_mode": "java",
   "file_extension": ".jshell",
   "mimetype": "text/x-java-source",
   "name": "Java",
   "pygments_lexer": "java",
   "version": "15.0.2+7-27"
  }
 },
 "nbformat": 4,
 "nbformat_minor": 5
}
