{
 "cells": [
  {
   "cell_type": "markdown",
   "id": "recreational-diana",
   "metadata": {},
   "source": [
    "`Pattern Printing`"
   ]
  },
  {
   "cell_type": "code",
   "execution_count": 14,
   "id": "interpreted-career",
   "metadata": {},
   "outputs": [
    {
     "name": "stdout",
     "output_type": "stream",
     "text": [
      "* \n",
      "* * \n",
      "* * * \n",
      "* * * * \n"
     ]
    }
   ],
   "source": [
    "for (int i=1;i<=4;i++){\n",
    "    for (int j=1;j<=i;j++){\n",
    "        System.out.print(\"* \");\n",
    "    }\n",
    "    System.out.println();\n",
    "}"
   ]
  },
  {
   "cell_type": "code",
   "execution_count": 15,
   "id": "american-indian",
   "metadata": {},
   "outputs": [
    {
     "name": "stdout",
     "output_type": "stream",
     "text": [
      "      * \n",
      "    * * \n",
      "  * * * \n",
      "* * * * \n"
     ]
    }
   ],
   "source": [
    "for (int i=4;i>=1;i--){\n",
    "    for (int j=1;j<=4;j++){\n",
    "        if(j>=i){\n",
    "            System.out.print(\"* \");\n",
    "        }\n",
    "        else{\n",
    "            System.out.print(\"  \");\n",
    "        }\n",
    "    }\n",
    "    System.out.println();\n",
    "}"
   ]
  },
  {
   "cell_type": "markdown",
   "id": "ceramic-father",
   "metadata": {},
   "source": [
    "<hr>"
   ]
  },
  {
   "cell_type": "markdown",
   "id": "focused-start",
   "metadata": {},
   "source": [
    "`Java Array Programs`"
   ]
  },
  {
   "cell_type": "markdown",
   "id": "rational-computer",
   "metadata": {},
   "source": [
    "`Notes`"
   ]
  },
  {
   "cell_type": "markdown",
   "id": "innocent-authentication",
   "metadata": {},
   "source": [
    "1. `Arrays.fill(visited,false);` -> fill the visited array with false."
   ]
  },
  {
   "cell_type": "markdown",
   "id": "skilled-transportation",
   "metadata": {},
   "source": [
    "`1. Program to copy all elements of one array into another array`"
   ]
  },
  {
   "cell_type": "code",
   "execution_count": 17,
   "id": "informal-shadow",
   "metadata": {},
   "outputs": [
    {
     "name": "stdout",
     "output_type": "stream",
     "text": [
      "Elements of arr1: \n",
      "1 2 3 4 5 \n",
      "Elements of arr2: \n",
      "1 2 3 4 5 "
     ]
    }
   ],
   "source": [
    "int[] arr1 = {1,2,3,4,5};\n",
    "int arr1[] = {1,2,3,4,5};\n",
    "// Both declarations are valid\n",
    "int arr2[] = new int[arr1.length];\n",
    "\n",
    "for(int i=0;i<arr1.length;i++){\n",
    "    arr2[i]=arr1[i];\n",
    "}\n",
    "\n",
    "// printing the array elements\n",
    "System.out.println(\"Elements of arr1: \");\n",
    "for(int i:arr1){\n",
    "    System.out.print(i+\" \");\n",
    "}\n",
    "\n",
    "System.out.println();\n",
    "\n",
    "System.out.println(\"Elements of arr2: \");\n",
    "for(int i:arr2){\n",
    "    System.out.print(i+\" \");\n",
    "}"
   ]
  },
  {
   "cell_type": "markdown",
   "id": "sophisticated-commodity",
   "metadata": {},
   "source": [
    "`2. Program to find the frequency of each element in the array`"
   ]
  },
  {
   "cell_type": "code",
   "execution_count": 48,
   "id": "progressive-column",
   "metadata": {},
   "outputs": [
    {
     "name": "stdout",
     "output_type": "stream",
     "text": [
      "10 3\n",
      "20 4\n",
      "5 1\n"
     ]
    }
   ],
   "source": [
    "int arr[] = new int[]{ 10, 20, 20, 10, 10, 20, 5, 20 };\n",
    "boolean visited[] = new boolean[arr1.length];\n",
    "Arrays.fill(visited,false);\n",
    "\n",
    "for(int i=0;i<arr.length;i++){\n",
    "    if (visited[i] == true){\n",
    "        continue;\n",
    "    }\n",
    "    int count=1;\n",
    "    for(int j=i+1;j<arr.length;j++){\n",
    "        if(arr[i]==arr[j]){\n",
    "            count++;\n",
    "            visited[j]=true;\n",
    "        }\n",
    "    }\n",
    "    System.out.println(arr[i]+ \" \"+count);\n",
    "}\n"
   ]
  },
  {
   "cell_type": "markdown",
   "id": "assumed-february",
   "metadata": {},
   "source": [
    "`3. Program to left rotate the elements of an array`"
   ]
  },
  {
   "cell_type": "code",
   "execution_count": 104,
   "id": "tutorial-nature",
   "metadata": {},
   "outputs": [
    {
     "name": "stdout",
     "output_type": "stream",
     "text": [
      "1 2 3 4 5 \n",
      "3 4 5 1 2 "
     ]
    }
   ],
   "source": [
    "// Long version using 2 arrays\n",
    "int arr1[]={1,2,3,4,5};\n",
    "for(int i:arr1){\n",
    "    System.out.print(i+\" \");\n",
    "}\n",
    "System.out.println();\n",
    "\n",
    "int arr2[]=new int[arr1.length];\n",
    "for(int n=1;n<=2;n++){\n",
    "    for(int i =1;i<=arr1.length;i++){\n",
    "        if(i==arr1.length){\n",
    "            arr2[i-1] = arr1[i-arr1.length];\n",
    "        }\n",
    "        else{\n",
    "            arr2[i-1]=arr1[i];\n",
    "        }\n",
    "\n",
    "    }\n",
    "    for (int i=0;i<arr1.length;i++){\n",
    "        arr1[i] = arr2[i];\n",
    "    }\n",
    "}\n",
    "\n",
    "for(int i:arr2){\n",
    "    System.out.print(i+\" \");\n",
    "}"
   ]
  },
  {
   "cell_type": "code",
   "execution_count": 107,
   "id": "heated-repair",
   "metadata": {},
   "outputs": [
    {
     "name": "stdout",
     "output_type": "stream",
     "text": [
      "1 2 3 4 5 \n",
      "4 5 1 2 3 "
     ]
    }
   ],
   "source": [
    "// Simplified version without taking help of another array\n",
    "int arr1[]={1,2,3,4,5};\n",
    "for(int i:arr1){\n",
    "    System.out.print(i+\" \");\n",
    "}\n",
    "System.out.println();\n",
    "\n",
    "for(int n=1;n<=3;n++){\n",
    "    int i,first;\n",
    "    first = arr1[0];\n",
    "    for(i = 0;i<arr1.length-1;i++){\n",
    "        arr1[i]=arr1[i+1];\n",
    "    }\n",
    "    arr1[i]=first;\n",
    "}\n",
    "\n",
    "for(int i:arr1){\n",
    "    System.out.print(i+\" \");\n",
    "}"
   ]
  },
  {
   "cell_type": "markdown",
   "id": "excess-edition",
   "metadata": {},
   "source": [
    "`4. Program to print the duplicate elements of an array`"
   ]
  },
  {
   "cell_type": "code",
   "execution_count": 116,
   "id": "impossible-cologne",
   "metadata": {},
   "outputs": [
    {
     "name": "stdout",
     "output_type": "stream",
     "text": [
      "2 3 8 "
     ]
    }
   ],
   "source": [
    "int arr[] = {1, 2, 3, 4, 2, 7, 8, 8, 3};\n",
    "for (int i=0;i<arr.length;i++){\n",
    "    for (int j=i+1;j<arr.length;j++){\n",
    "        if(arr[i]==arr[j]){\n",
    "            System.out.print(arr[j]+\" \");\n",
    "        }\n",
    "    }\n",
    "}"
   ]
  },
  {
   "cell_type": "markdown",
   "id": "talented-columbus",
   "metadata": {},
   "source": [
    "`5. Program to print the elements of an array`"
   ]
  },
  {
   "cell_type": "code",
   "execution_count": 119,
   "id": "outstanding-edward",
   "metadata": {},
   "outputs": [
    {
     "name": "stdout",
     "output_type": "stream",
     "text": [
      "1 2 3 4 2 7 8 8 3 "
     ]
    }
   ],
   "source": [
    "int arr[] = {1, 2, 3, 4, 2, 7, 8, 8, 3};\n",
    "for(int i:arr){\n",
    "    System.out.print(i+\" \");\n",
    "}"
   ]
  },
  {
   "cell_type": "markdown",
   "id": "productive-sport",
   "metadata": {},
   "source": [
    "`6. Program to print the elements of an array present on even position`"
   ]
  },
  {
   "cell_type": "code",
   "execution_count": 2,
   "id": "intelligent-painting",
   "metadata": {},
   "outputs": [
    {
     "name": "stdout",
     "output_type": "stream",
     "text": [
      "2 4 "
     ]
    }
   ],
   "source": [
    "int arr[] = {1,2,3,4,5};\n",
    "for(int i=1;i<arr.length;i=i+2){\n",
    "        System.out.print(arr[i]+\" \");\n",
    "}"
   ]
  },
  {
   "cell_type": "markdown",
   "id": "prerequisite-delhi",
   "metadata": {},
   "source": [
    "`7. Program to print the elements of an array present on odd position`"
   ]
  },
  {
   "cell_type": "code",
   "execution_count": 4,
   "id": "worse-atlanta",
   "metadata": {},
   "outputs": [
    {
     "name": "stdout",
     "output_type": "stream",
     "text": [
      "1 3 5 "
     ]
    }
   ],
   "source": [
    "int arr[] = {1,2,3,4,5};\n",
    "for(int i=0;i<arr.length;i=i+2){\n",
    "        System.out.print(arr[i]+\" \");\n",
    "}"
   ]
  },
  {
   "cell_type": "markdown",
   "id": "tracked-seeker",
   "metadata": {},
   "source": [
    "`8. Program to print the largest element in an array`"
   ]
  },
  {
   "cell_type": "code",
   "execution_count": 6,
   "id": "surgical-course",
   "metadata": {},
   "outputs": [
    {
     "data": {
      "text/plain": [
       "75"
      ]
     },
     "execution_count": 6,
     "metadata": {},
     "output_type": "execute_result"
    }
   ],
   "source": [
    "// using sort\n",
    "int arr[]={25, 11, 7, 75, 56};\n",
    "Arrays.sort(arr);\n",
    "arr[arr.length-1];"
   ]
  },
  {
   "cell_type": "code",
   "execution_count": null,
   "id": "wanted-presentation",
   "metadata": {},
   "outputs": [],
   "source": [
    "int arr[]={25, 11, 7, 75, 56};\n",
    "for (int i=0;i<arr.length;i++){\n",
    "    int max=arr[i];\n",
    "    for (int j=i+1;j<arr.length;j++){\n",
    "        \n",
    "    }\n",
    "}"
   ]
  }
 ],
 "metadata": {
  "kernelspec": {
   "display_name": "Java",
   "language": "java",
   "name": "java"
  },
  "language_info": {
   "codemirror_mode": "java",
   "file_extension": ".jshell",
   "mimetype": "text/x-java-source",
   "name": "Java",
   "pygments_lexer": "java",
   "version": "15.0.2+7-27"
  }
 },
 "nbformat": 4,
 "nbformat_minor": 5
}
