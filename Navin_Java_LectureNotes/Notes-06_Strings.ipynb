{
 "cells": [
  {
   "cell_type": "markdown",
   "id": "distant-granny",
   "metadata": {},
   "source": [
    "@www.youtube.com/telusko\n",
    "\n",
    "`Navin Reddy | Java Complete Tutorial for Beginners |`"
   ]
  },
  {
   "cell_type": "markdown",
   "id": "awful-crazy",
   "metadata": {},
   "source": [
    "`Java - Strings Introduction`"
   ]
  },
  {
   "cell_type": "markdown",
   "id": "uniform-venice",
   "metadata": {},
   "source": [
    "[<u>Jump to Examples</u>](#another_cell)"
   ]
  },
  {
   "cell_type": "code",
   "execution_count": 8,
   "id": "checked-quality",
   "metadata": {},
   "outputs": [
    {
     "data": {
      "text/plain": [
       "xs"
      ]
     },
     "execution_count": 8,
     "metadata": {},
     "output_type": "execute_result"
    }
   ],
   "source": [
    "String str1 = \"Hello\";\n",
    "String str2 = \"Nivas\";\n",
    "\n",
    "str1.length();\n",
    "String str3 = str1.concat(str2);\n",
    "str1.equals(str2);      //case sensitive\n",
    "str1.equalsIgnoreCase(str2);\n",
    "str1.toLowerCase();\n",
    "str2.toUpperCase();\n",
    "str1.charAt(0);\n",
    "str1.substring(0,4);\n",
    "str1.contains(\"Hel0\");\n",
    "str2.replace(\"Nivas\",\"xs\");"
   ]
  },
  {
   "cell_type": "code",
   "execution_count": 3,
   "id": "leading-contractor",
   "metadata": {},
   "outputs": [
    {
     "data": {
      "text/plain": [
       "true"
      ]
     },
     "execution_count": 3,
     "metadata": {},
     "output_type": "execute_result"
    }
   ],
   "source": [
    "String str1=\"Hello\";\n",
    "String str2=\" World\";\n",
    "String str3 = \"Hello\"+\" World\";\n",
    "String str4 = str1.concat(str2);\n",
    "str3.equals(str4)"
   ]
  },
  {
   "cell_type": "code",
   "execution_count": 24,
   "id": "stylish-handy",
   "metadata": {},
   "outputs": [
    {
     "data": {
      "text/plain": [
       "17"
      ]
     },
     "execution_count": 24,
     "metadata": {},
     "output_type": "execute_result"
    }
   ],
   "source": [
    "String str = \"Nivas Donthireddy\";\n",
    "str.length();\n",
    "// to return the length of the string."
   ]
  },
  {
   "cell_type": "code",
   "execution_count": 38,
   "id": "suitable-sympathy",
   "metadata": {},
   "outputs": [
    {
     "data": {
      "text/plain": [
       "$"
      ]
     },
     "execution_count": 38,
     "metadata": {},
     "output_type": "execute_result"
    }
   ],
   "source": [
    "str.charAt(4);\n",
    "// to return the char at the index"
   ]
  },
  {
   "cell_type": "code",
   "execution_count": 25,
   "id": "married-outdoors",
   "metadata": {},
   "outputs": [
    {
     "data": {
      "text/plain": [
       "c"
      ]
     },
     "execution_count": 25,
     "metadata": {},
     "output_type": "execute_result"
    }
   ],
   "source": [
    "String.valueOf('c');\n",
    "// to return the String type from char type"
   ]
  },
  {
   "cell_type": "code",
   "execution_count": 79,
   "id": "nominated-ranking",
   "metadata": {},
   "outputs": [
    {
     "data": {
      "text/plain": [
       "true"
      ]
     },
     "execution_count": 79,
     "metadata": {},
     "output_type": "execute_result"
    }
   ],
   "source": [
    "str=\"hello\";\n",
    "str.contains(\"h\");\n",
    "// to check for whether the char is present in the string or not."
   ]
  },
  {
   "cell_type": "code",
   "execution_count": 91,
   "id": "antique-backup",
   "metadata": {},
   "outputs": [
    {
     "data": {
      "text/plain": [
       "he##o wor#d"
      ]
     },
     "execution_count": 91,
     "metadata": {},
     "output_type": "execute_result"
    }
   ],
   "source": [
    "str = \"hello world\";\n",
    "str.replace(\"l\",\"#\");\n",
    "// to replace all the occurances of a old char with new char"
   ]
  },
  {
   "cell_type": "code",
   "execution_count": 3,
   "id": "presidential-final",
   "metadata": {},
   "outputs": [
    {
     "data": {
      "text/plain": [
       "he#lo world"
      ]
     },
     "execution_count": 3,
     "metadata": {},
     "output_type": "execute_result"
    }
   ],
   "source": [
    "String str = \"hello world\";\n",
    "str.replaceFirst(\"l\",\"#\");\n",
    "// to replace only the first occurance of a old char with new charstr = \"hello world\";"
   ]
  },
  {
   "cell_type": "code",
   "execution_count": 20,
   "id": "steady-amendment",
   "metadata": {},
   "outputs": [
    {
     "data": {
      "text/plain": [
       "2"
      ]
     },
     "execution_count": 20,
     "metadata": {},
     "output_type": "execute_result"
    }
   ],
   "source": [
    "String str = \"Nivvas\";\n",
    "str.indexOf(\"v\");\n",
    "// returns the first index of the occurance "
   ]
  },
  {
   "cell_type": "code",
   "execution_count": 26,
   "id": "premium-unknown",
   "metadata": {},
   "outputs": [
    {
     "name": "stdout",
     "output_type": "stream",
     "text": [
      " 0\n",
      " 13\n",
      "-13\n"
     ]
    }
   ],
   "source": [
    "String str1 = \"Nivvas\";\n",
    "String str2 = \"Nivvas\";\n",
    "String str3 = \"Aivas\";\n",
    "System.out.println(\" \"+str1.compareTo(str2));\n",
    "System.out.println(\" \"+str1.compareTo(str3));\n",
    "System.out.println(str3.compareTo(str1));\n",
    "\n",
    "// compares two strings in the dictionary order. If str1 comes before str3 then str1.compareTo(str3) will give positive."
   ]
  },
  {
   "cell_type": "markdown",
   "id": "mysterious-setup",
   "metadata": {},
   "source": [
    "`trim()` - method only removes the leading and trailing whitespace. It doesn't remove whitespace the appear in the middle."
   ]
  },
  {
   "cell_type": "code",
   "execution_count": 27,
   "id": "round-southwest",
   "metadata": {},
   "outputs": [
    {
     "name": "stdout",
     "output_type": "stream",
     "text": [
      "Learn   Java Programming\n",
      "Learn\n",
      "Java Programming\n"
     ]
    }
   ],
   "source": [
    "String str1 = \"     Learn   Java Programming \";\n",
    "String str2 = \"Learn\\nJava Programming\\n\\n   \";\n",
    "\n",
    "System.out.println(str1.trim());\n",
    "System.out.println(str2.trim());"
   ]
  },
  {
   "cell_type": "markdown",
   "id": "automotive-country",
   "metadata": {},
   "source": [
    "`String.format()`\n",
    "\n",
    "https://www.programiz.com/java-programming/library/string/format"
   ]
  },
  {
   "attachments": {
    "b185420a-53cc-45e8-ac69-ad7a77efd343.png": {
     "image/png": "[encoded data removed]"
    }
   },
   "cell_type": "markdown",
   "id": "interesting-niagara",
   "metadata": {},
   "source": [
    "`Commonly used format specifiers`\n",
    "\n",
    "![image.png](attachment:b185420a-53cc-45e8-ac69-ad7a77efd343.png)"
   ]
  },
  {
   "cell_type": "markdown",
   "id": "large-organic",
   "metadata": {},
   "source": [
    "`split()-`  `string.split(String regex, int limit)`  ---limit controls the number of resulting substrings"
   ]
  },
  {
   "cell_type": "code",
   "execution_count": 31,
   "id": "undefined-domain",
   "metadata": {},
   "outputs": [
    {
     "name": "stdout",
     "output_type": "stream",
     "text": [
      "result when limit is -2 = [a, bc, de, fg, h]\n",
      "result when limit is 0 = [a, bc, de, fg, h]\n",
      "result when limit is 2 = [a, bc:de:fg:h]\n",
      "result when limit is 4 = [a, bc, de, fg:h]\n",
      "result when limit is 10 = [a, bc, de, fg, h]\n"
     ]
    }
   ],
   "source": [
    "// importing Arrays to convert array to string\n",
    "import java.util.Arrays;\n",
    "\n",
    "String vowels = \"a:bc:de:fg:h\";\n",
    "\n",
    "// splitting array at \":\"\n",
    "\n",
    "// limit is -2; array contins all substrings\n",
    "String[] result = vowels.split(\":\", -2);\n",
    "System.out.println(\"result when limit is -2 = \" + Arrays.toString(result));\n",
    "\n",
    "// limit is 0; array contains all substrings\n",
    "result = vowels.split(\":\", 0);\n",
    "System.out.println(\"result when limit is 0 = \" + Arrays.toString(result));\n",
    "\n",
    "// limit is 2; array contains a maximum of 2 substrings\n",
    "result = vowels.split(\":\", 2);\n",
    "System.out.println(\"result when limit is 2 = \" + Arrays.toString(result));\n",
    "\n",
    "// limit is 4; array contains a maximum of 4 substrings\n",
    "result = vowels.split(\":\", 4);\n",
    "System.out.println(\"result when limit is 4 = \" + Arrays.toString(result));\n",
    "\n",
    "// limit is 10; array contains a maximum of 10 substrings\n",
    "result = vowels.split(\":\", 10);\n",
    "System.out.println(\"result when limit is 10 = \" + Arrays.toString(result));"
   ]
  },
  {
   "cell_type": "markdown",
   "id": "pleasant-roommate",
   "metadata": {},
   "source": [
    "`Arrays.toString()`  -- find the mystery"
   ]
  },
  {
   "cell_type": "code",
   "execution_count": 51,
   "id": "tough-salvation",
   "metadata": {},
   "outputs": [
    {
     "name": "stdout",
     "output_type": "stream",
     "text": [
      "[Ljava.lang.String;@5b3feb3e\n",
      "[Nivas, Donthireddy]\n"
     ]
    }
   ],
   "source": [
    "import java.util.Arrays;\n",
    "String str_arr[];\n",
    "String str = \"Nivas Donthireddy\";\n",
    "str_arr = str.split(\"\\\\s\");\n",
    "System.out.println(str_arr);\n",
    "System.out.println(Arrays.toString(str_arr));"
   ]
  },
  {
   "cell_type": "markdown",
   "id": "demographic-spencer",
   "metadata": {},
   "source": [
    "`Arrays.equals(String str1,String str2)`"
   ]
  },
  {
   "cell_type": "code",
   "execution_count": 96,
   "id": "later-devil",
   "metadata": {},
   "outputs": [
    {
     "data": {
      "text/plain": [
       "false"
      ]
     },
     "execution_count": 96,
     "metadata": {},
     "output_type": "execute_result"
    }
   ],
   "source": [
    "import java.util.Arrays;\n",
    "String str1=\"Brag\";  \n",
    "String str2=\"Grab\";\n",
    "char string1[] = str1.toCharArray();\n",
    "char string2[] = str2.toCharArray();\n",
    "Arrays.equals(string1,string2);"
   ]
  },
  {
   "cell_type": "markdown",
   "id": "painted-positive",
   "metadata": {},
   "source": [
    "<hr>"
   ]
  },
  {
   "cell_type": "markdown",
   "id": "consecutive-pathology",
   "metadata": {},
   "source": [
    "`String Example Problems`\n",
    "<a id='another_cell'></a>"
   ]
  },
  {
   "cell_type": "markdown",
   "id": "sustained-words",
   "metadata": {},
   "source": [
    "`1. Program to count the Total number of characters in a string`"
   ]
  },
  {
   "cell_type": "code",
   "execution_count": 103,
   "id": "exact-publication",
   "metadata": {},
   "outputs": [
    {
     "data": {
      "text/plain": [
       "19"
      ]
     },
     "execution_count": 103,
     "metadata": {},
     "output_type": "execute_result"
    }
   ],
   "source": [
    "String str = \"The best of both worlds\";\n",
    "(str.replace(\" \",\"\")).length();"
   ]
  },
  {
   "cell_type": "markdown",
   "id": "silent-stanford",
   "metadata": {},
   "source": [
    "`2. Program to count the total number of vowels and consonants in a string`\n"
   ]
  },
  {
   "cell_type": "code",
   "execution_count": 104,
   "id": "noticed-champion",
   "metadata": {},
   "outputs": [
    {
     "name": "stdout",
     "output_type": "stream",
     "text": [
      "No. of vowels: 10\n",
      "No. of Consonants: 17\n"
     ]
    }
   ],
   "source": [
    "String str = \"This is a really simple sentence\";\n",
    "String regex = \"[aeiouAEIOU]\";\n",
    "int consonant_count=0;\n",
    "int vowel_count =0;\n",
    "for(int i=0;i<str.length();i++){\n",
    "    if(String.valueOf(str.charAt(i)).matches(regex)){\n",
    "        vowel_count++;\n",
    "    }\n",
    "    else if(!String.valueOf(str.charAt(i)).matches(\" \")){\n",
    "        consonant_count++;\n",
    "    }\n",
    "}\n",
    "System.out.println(\"No. of vowels: \"+vowel_count);\n",
    "System.out.println(\"No. of Consonants: \"+consonant_count);"
   ]
  },
  {
   "cell_type": "markdown",
   "id": "adjacent-segment",
   "metadata": {},
   "source": [
    "`3. Program to determine whether two strings are the anagram`"
   ]
  },
  {
   "cell_type": "code",
   "execution_count": 105,
   "id": "republican-literacy",
   "metadata": {},
   "outputs": [
    {
     "name": "stdout",
     "output_type": "stream",
     "text": [
      "abgr\n",
      "abgr\n",
      "Anagrams\n"
     ]
    },
    {
     "data": {
      "text/plain": [
       "[C@4b0e5b1a"
      ]
     },
     "execution_count": 105,
     "metadata": {},
     "output_type": "execute_result"
    }
   ],
   "source": [
    "String str1=\"Brag\";  \n",
    "String str2=\"Grab\";\n",
    "str1 = str1.toLowerCase();\n",
    "str2 = str2.toLowerCase();\n",
    "char string1[] = str1.toCharArray();\n",
    "char string2[] = str2.toCharArray();\n",
    "\n",
    "Arrays.sort(string1);\n",
    "Arrays.sort(string2);\n",
    "System.out.println(string1);\n",
    "System.out.println(string2);\n",
    "if(Arrays.equals(string1, string2)) {\n",
    "    System.out.println(\"Anagrams\");\n",
    "}\n",
    "else {\n",
    "    System.out.println(\"Not Anagrams\");\n",
    "}\n",
    "string2;"
   ]
  },
  {
   "cell_type": "markdown",
   "id": "revolutionary-notebook",
   "metadata": {},
   "source": [
    "`4. Java Program to divide a string in 'N' equal parts`"
   ]
  },
  {
   "cell_type": "code",
   "execution_count": 106,
   "id": "portable-mouth",
   "metadata": {},
   "outputs": [
    {
     "name": "stdout",
     "output_type": "stream",
     "text": [
      "aaaa\n",
      "bbbb\n",
      "cccc\n"
     ]
    }
   ],
   "source": [
    "int n=3;\n",
    "String str = \"aaaabbbbcccc\"; \n",
    "String str_arr[] = new String[n];\n",
    "int temp=0;\n",
    "if(str.length()%n==0){\n",
    "    int val = str.length()/n;\n",
    "    for(int i=0;i<str.length();i+=val){\n",
    "        str_arr[temp] = str.substring(i,i+val);\n",
    "        temp++;\n",
    "    }\n",
    "}\n",
    "else {\n",
    "    System.out.println(\"String cannot be divided into equal parts\");\n",
    "}\n",
    "for(String i:str_arr) {\n",
    "    System.out.println(i);\n",
    "}"
   ]
  },
  {
   "cell_type": "markdown",
   "id": "matched-phone",
   "metadata": {},
   "source": [
    "`5. Program to find all subsets of a string`"
   ]
  },
  {
   "cell_type": "code",
   "execution_count": 139,
   "id": "endangered-nicholas",
   "metadata": {},
   "outputs": [
    {
     "name": "stdout",
     "output_type": "stream",
     "text": [
      "N NI NIV NIVA NIVAS I IV IVA IVAS V VA VAS A AS S "
     ]
    }
   ],
   "source": [
    "String str = \"NIVAS\";\n",
    "int n= str.length();\n",
    "int temp=0;\n",
    "String arr_str[] = new String[(n*(n+1)/2)];\n",
    "for(int i=0;i<n;i++) {\n",
    "    for(int j=i;j<n;j++) {\n",
    "        arr_str[temp] = str.substring(i, j+1);\n",
    "        temp++;\n",
    "    }\n",
    "}\n",
    "\n",
    "for(String i:arr_str) {\n",
    "    System.out.print(i+\" \");\n",
    "}"
   ]
  },
  {
   "cell_type": "markdown",
   "id": "therapeutic-nutrition",
   "metadata": {},
   "source": [
    "`6. Program to find the longest repeating sequence in a string`"
   ]
  },
  {
   "cell_type": "markdown",
   "id": "instrumental-heating",
   "metadata": {},
   "source": [
    "`7. Program to remove all the whitespaces in a string`"
   ]
  },
  {
   "cell_type": "code",
   "execution_count": 140,
   "id": "becoming-ownership",
   "metadata": {},
   "outputs": [
    {
     "name": "stdout",
     "output_type": "stream",
     "text": [
      "NivasDonthireddy\n"
     ]
    }
   ],
   "source": [
    "String str = \" Ni v as D o\\n n thi reddy \";\n",
    "str = str.replaceAll(\"\\\\s+\",\"\");\n",
    "System.out.println(str);"
   ]
  },
  {
   "cell_type": "markdown",
   "id": "declared-butter",
   "metadata": {},
   "source": [
    "9) Java Program to find all the permutations of a string\n",
    "11) Java Program to replace lower-case characters with upper-case and vice-versa\n",
    "12) Java Program to replace the spaces of a string with a specific character\n",
    "13) Java Program to determine whether a given string is palindrome\n",
    "14) Java Program to determine whether one string is a rotation of another\n",
    "15) Java Program to find maximum and minimum occurring character in a string\n",
    "16) Java Program to find Reverse of the string\n",
    "17) Java program to find the duplicate characters in a string\n",
    "18) Java program to find the duplicate words in a string\n",
    "19) Java Program to find the frequency of characters\n",
    "20) Java Program to find the largest and smallest word in a string\n",
    "21) Java Program to find the most repeated word in a text file\n",
    "22) Java Program to find the number of the words in the given text file\n",
    "23) Java Program to separate the Individual Characters from a String\n",
    "24) Java Program to swap two string variables without using third or temp variable.\n",
    "25) Java Program to print smallest and biggest possible palindrome word in a given string"
   ]
  },
  {
   "cell_type": "markdown",
   "id": "german-metabolism",
   "metadata": {},
   "source": [
    "`8. Program to remove all the white spaces from a string`"
   ]
  },
  {
   "cell_type": "code",
   "execution_count": null,
   "id": "quarterly-slide",
   "metadata": {},
   "outputs": [],
   "source": []
  }
 ],
 "metadata": {
  "kernelspec": {
   "display_name": "Java",
   "language": "java",
   "name": "java"
  },
  "language_info": {
   "codemirror_mode": "java",
   "file_extension": ".jshell",
   "mimetype": "text/x-java-source",
   "name": "Java",
   "pygments_lexer": "java",
   "version": "15.0.2+7-27"
  }
 },
 "nbformat": 4,
 "nbformat_minor": 5
}
