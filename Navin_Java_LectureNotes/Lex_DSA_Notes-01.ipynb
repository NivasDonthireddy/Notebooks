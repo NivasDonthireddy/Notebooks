{
 "cells": [
  {
   "cell_type": "markdown",
   "id": "israeli-deficit",
   "metadata": {},
   "source": [
    "`@nivasdonthireddy GITHUB PAGES`\n",
    "\n",
    "`Notes` - `Lex Learnings`"
   ]
  },
  {
   "cell_type": "code",
   "execution_count": 9,
   "id": "wanted-villa",
   "metadata": {},
   "outputs": [
    {
     "data": {
      "text/plain": [
       "-2147483648"
      ]
     },
     "execution_count": 9,
     "metadata": {},
     "output_type": "execute_result"
    }
   ],
   "source": [
    "Integer.MIN_VALUE"
   ]
  },
  {
   "cell_type": "code",
   "execution_count": 10,
   "id": "sustained-relevance",
   "metadata": {},
   "outputs": [
    {
     "data": {
      "text/plain": [
       "2147483647"
      ]
     },
     "execution_count": 10,
     "metadata": {},
     "output_type": "execute_result"
    }
   ],
   "source": [
    "Integer.MAX_VALUE"
   ]
  },
  {
   "cell_type": "code",
   "execution_count": 11,
   "id": "touched-corps",
   "metadata": {},
   "outputs": [
    {
     "data": {
      "text/plain": [
       "4.9E-324"
      ]
     },
     "execution_count": 11,
     "metadata": {},
     "output_type": "execute_result"
    }
   ],
   "source": [
    "Double.MIN_VALUE"
   ]
  },
  {
   "cell_type": "code",
   "execution_count": 12,
   "id": "radio-looking",
   "metadata": {},
   "outputs": [
    {
     "data": {
      "text/plain": [
       "32767"
      ]
     },
     "execution_count": 12,
     "metadata": {},
     "output_type": "execute_result"
    }
   ],
   "source": [
    "Short.MAX_VALUE"
   ]
  },
  {
   "attachments": {
    "37a4dc7e-b148-4f55-a34f-9d096daa8818.png": {
     "image/png": "[encoded data removed]"
    }
   },
   "cell_type": "markdown",
   "id": "functioning-emission",
   "metadata": {},
   "source": [
    "`Class Diagram of LinkedLists`\n",
    "\n",
    "![image.png](attachment:37a4dc7e-b148-4f55-a34f-9d096daa8818.png)"
   ]
  },
  {
   "cell_type": "code",
   "execution_count": null,
   "id": "frequent-ballot",
   "metadata": {},
   "outputs": [],
   "source": []
  }
 ],
 "metadata": {
  "kernelspec": {
   "display_name": "Java",
   "language": "java",
   "name": "java"
  },
  "language_info": {
   "codemirror_mode": "java",
   "file_extension": ".jshell",
   "mimetype": "text/x-java-source",
   "name": "Java",
   "pygments_lexer": "java",
   "version": "15.0.2+7-27"
  }
 },
 "nbformat": 4,
 "nbformat_minor": 5
}
