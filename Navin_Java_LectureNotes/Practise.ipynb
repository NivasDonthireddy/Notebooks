{
 "cells": [
  {
   "cell_type": "markdown",
   "id": "educational-signature",
   "metadata": {},
   "source": [
    "@NivasDonthireddy\n",
    "\n",
    "https://www.javacodeexamples.com/java-for-loop-quiz-online-test"
   ]
  },
  {
   "cell_type": "markdown",
   "id": "industrial-reggae",
   "metadata": {},
   "source": [
    "`1. For Loops - Practise`"
   ]
  },
  {
   "cell_type": "code",
   "execution_count": 1,
   "id": "invalid-jackson",
   "metadata": {},
   "outputs": [
    {
     "ename": "CompilationException",
     "evalue": "",
     "output_type": "error",
     "traceback": [
      "\u001b[1m\u001b[30m|   \u001b[1m\u001b[30mSystem.out.println(\u001b[0m\u001b[1m\u001b[30m\u001b[41mi\u001b[0m\u001b[1m\u001b[30m);\u001b[0m",
      "\u001b[1m\u001b[31mcannot find symbol\u001b[0m",
      "\u001b[1m\u001b[31m  symbol:   variable i\u001b[0m",
      ""
     ]
    }
   ],
   "source": [
    "for(int i = 0 ; i < 10; i++){\n",
    "}\n",
    "System.out.println(i);"
   ]
  },
  {
   "cell_type": "code",
   "execution_count": 13,
   "id": "linear-texas",
   "metadata": {},
   "outputs": [
    {
     "name": "stdout",
     "output_type": "stream",
     "text": [
      "10\n"
     ]
    }
   ],
   "source": [
    "int i=0;\n",
    "for(i=0; i < 10; i++){\n",
    "}\n",
    "System.out.println(i);"
   ]
  },
  {
   "cell_type": "markdown",
   "id": "considered-olive",
   "metadata": {},
   "source": [
    "The increment/decrement part of the loop (third part) is executed after every iteration of the loop body. However, since there is a break statement in the loop, control goes out of the loop and i stays at 0."
   ]
  },
  {
   "cell_type": "code",
   "execution_count": 23,
   "id": "solved-guest",
   "metadata": {},
   "outputs": [
    {
     "name": "stdout",
     "output_type": "stream",
     "text": [
      "3\n"
     ]
    }
   ],
   "source": [
    "int i = 0;\n",
    "for(i = 0; i < 3 ; i++){\n",
    "    continue;\n",
    "}\n",
    "System.out.println(i);"
   ]
  },
  {
   "cell_type": "code",
   "execution_count": 32,
   "id": "hungarian-cholesterol",
   "metadata": {},
   "outputs": [
    {
     "name": "stdout",
     "output_type": "stream",
     "text": [
      "abcde"
     ]
    }
   ],
   "source": [
    "for(int i = 0; i < 5; i++){\n",
    "    System.out.print( (char)('a' + i) );\n",
    "}"
   ]
  },
  {
   "cell_type": "markdown",
   "id": "adaptive-wednesday",
   "metadata": {},
   "source": [
    "<span style=\"background:yellow\">Refer this question</span>"
   ]
  },
  {
   "cell_type": "code",
   "execution_count": 50,
   "id": "broke-clarity",
   "metadata": {},
   "outputs": [
    {
     "name": "stdout",
     "output_type": "stream",
     "text": [
      "abc"
     ]
    }
   ],
   "source": [
    "for(char c = 'a' ; c < 'd'; c++){\n",
    "    System.out.print(c);\n",
    "}"
   ]
  },
  {
   "cell_type": "code",
   "execution_count": 57,
   "id": "emotional-proceeding",
   "metadata": {},
   "outputs": [
    {
     "name": "stdout",
     "output_type": "stream",
     "text": [
      "ABC"
     ]
    }
   ],
   "source": [
    "for(int i = 65; i < 68 ; i++){\n",
    "    System.out.print((char)i);\n",
    "}"
   ]
  },
  {
   "cell_type": "code",
   "execution_count": 58,
   "id": "creative-settle",
   "metadata": {},
   "outputs": [
    {
     "name": "stdout",
     "output_type": "stream",
     "text": [
      "024"
     ]
    }
   ],
   "source": [
    "for(int i = 0; i < 5 ; i++){\n",
    "    System.out.print(i++);\n",
    "}"
   ]
  },
  {
   "cell_type": "code",
   "execution_count": 2,
   "id": "infectious-twins",
   "metadata": {},
   "outputs": [
    {
     "name": "stdout",
     "output_type": "stream",
     "text": [
      "0 3, 1 2, 2 1, "
     ]
    }
   ],
   "source": [
    "for(int a = 0, b = 3; a < 3 && b > 0; a++, b--){\n",
    "    System.out.print(a + \" \" + b + \", \");\n",
    "}"
   ]
  },
  {
   "cell_type": "markdown",
   "id": "federal-movie",
   "metadata": {},
   "source": [
    "<span style=\"background:yellow\">Refer this question</span>"
   ]
  },
  {
   "cell_type": "markdown",
   "id": "forty-charter",
   "metadata": {},
   "source": [
    "for(;;){}"
   ]
  },
  {
   "cell_type": "code",
   "execution_count": 3,
   "id": "secure-polls",
   "metadata": {},
   "outputs": [
    {
     "name": "stdout",
     "output_type": "stream",
     "text": [
      "10 9 8 7 6 5 4 3 2 1 "
     ]
    }
   ],
   "source": [
    "int i = 10;\n",
    "for(; i > 0;){\n",
    "    System.out.print(i + \" \");\n",
    "    i--;\n",
    "}"
   ]
  },
  {
   "cell_type": "markdown",
   "id": "animal-privacy",
   "metadata": {},
   "source": [
    "<span style=\"background:yellow\">Refer this question</span>"
   ]
  },
  {
   "cell_type": "code",
   "execution_count": 12,
   "id": "tutorial-greene",
   "metadata": {},
   "outputs": [
    {
     "name": "stdout",
     "output_type": "stream",
     "text": [
      "3 0, "
     ]
    }
   ],
   "source": [
    "int i = 0, j = 3;\n",
    "for(;i < 3 && j > 0;i++, j--);\n",
    "{\n",
    "    System.out.print(i + \" \" + j + \", \");\n",
    "}"
   ]
  },
  {
   "cell_type": "code",
   "execution_count": 15,
   "id": "controlling-pantyhose",
   "metadata": {},
   "outputs": [
    {
     "name": "stdout",
     "output_type": "stream",
     "text": [
      "3 6 9 "
     ]
    }
   ],
   "source": [
    "for( int i=1;i<=10;i++ ){\n",
    "    if( i % 3 == 0 )\n",
    "        System.out.print(i+\" \");\n",
    "}"
   ]
  },
  {
   "cell_type": "markdown",
   "id": "identified-command",
   "metadata": {},
   "source": [
    "<span style=\"background:yellow\">Refer this question</span>"
   ]
  },
  {
   "cell_type": "code",
   "execution_count": 19,
   "id": "labeled-shannon",
   "metadata": {},
   "outputs": [
    {
     "name": "stdout",
     "output_type": "stream",
     "text": [
      "1 0, 2 0, 2 1, "
     ]
    }
   ],
   "source": [
    "for(int i = 0; i < 3; i++){\n",
    "    for(int j = 0; j < i; j++){\n",
    "        System.out.print(i + \" \" + j + \", \");\n",
    "    }\n",
    "}"
   ]
  },
  {
   "cell_type": "code",
   "execution_count": 21,
   "id": "satisfied-howard",
   "metadata": {},
   "outputs": [],
   "source": [
    "outer:\n",
    "for(int i = 0; i < 3; i++){\n",
    "    inner:\n",
    "    for(int j = 0; j < 3; j++){\n",
    "        if(i == j)\n",
    "            break outer;\n",
    "\n",
    "        System.out.print(i + \" \" + j + \", \");\n",
    "    }\n",
    "}"
   ]
  },
  {
   "cell_type": "code",
   "execution_count": 22,
   "id": "velvet-juvenile",
   "metadata": {},
   "outputs": [
    {
     "name": "stdout",
     "output_type": "stream",
     "text": [
      "1 0, 2 0, 2 1, "
     ]
    }
   ],
   "source": [
    "outer:\n",
    "for(int i = 0; i < 3; i++){\n",
    "    inner:\n",
    "    for(int j = 0; j < 3; j++){\n",
    "        if(i == j)\n",
    "            continue outer;\t\t\t\t\n",
    "        System.out.print(i + \" \" + j + \", \");\n",
    "    }\n",
    "}"
   ]
  },
  {
   "cell_type": "markdown",
   "id": "thick-average",
   "metadata": {},
   "source": [
    "<span style=\"background:yellow\">Refer this question</span>"
   ]
  },
  {
   "cell_type": "code",
   "execution_count": 5,
   "id": "lined-showcase",
   "metadata": {},
   "outputs": [
    {
     "name": "stdout",
     "output_type": "stream",
     "text": [
      "90 80 70 60 50 "
     ]
    }
   ],
   "source": [
    "int i = 100;\n",
    "for(; i > 50 ;){\n",
    "    i -= 10;\n",
    "    System.out.print(i + \" \");\n",
    "}"
   ]
  },
  {
   "cell_type": "code",
   "execution_count": 6,
   "id": "following-nightmare",
   "metadata": {},
   "outputs": [
    {
     "ename": "CompilationException",
     "evalue": "",
     "output_type": "error",
     "traceback": [
      "\u001b[1m\u001b[30m|   \u001b[1m\u001b[30mfor(int i=100; i < \u001b[0m\u001b[1m\u001b[30m\u001b[41m\u001b[0m\u001b[1m\u001b[30m= 0; i -= 10 ){\u001b[0m",
      "\u001b[1m\u001b[31millegal start of expression\u001b[0m",
      ""
     ]
    }
   ],
   "source": [
    "for(i=0;i>1;i++){\n",
    "    System.out.println(\"hi\");\n",
    "}\n"
   ]
  },
  {
   "cell_type": "markdown",
   "id": "reported-polymer",
   "metadata": {},
   "source": [
    "<hr>"
   ]
  },
  {
   "cell_type": "code",
   "execution_count": 23,
   "id": "alleged-paste",
   "metadata": {},
   "outputs": [
    {
     "name": "stdout",
     "output_type": "stream",
     "text": [
      "Minimum value of j should be 10 -- please check again\n",
      "Bye\n"
     ]
    }
   ],
   "source": [
    "int i,j;\n",
    "i=8;\n",
    "j=11;\n",
    "try{\n",
    "    if(j>10){\n",
    "        throw new ArithmeticException();\n",
    "//         We are forcing an error\n",
    "    }\n",
    "    System.out.println(\"j is \"+j+\" <10 -- criteria satisfied\");\n",
    "}\n",
    "\n",
    "catch(ArithmeticException e){\n",
    "    System.out.println(\"Minimum value of j should be 10 -- please check again\");\n",
    "}\n",
    "\n",
    "catch(Exception e){\n",
    "    System.out.println(\"Unknown Exception\");\n",
    "}\n",
    "\n",
    "finally{\n",
    "    System.out.println(\"Bye\");\n",
    "}"
   ]
  },
  {
   "cell_type": "code",
   "execution_count": 96,
   "id": "ceramic-alignment",
   "metadata": {},
   "outputs": [
    {
     "ename": "CompilationException",
     "evalue": "",
     "output_type": "error",
     "traceback": [
      "\u001b[1m\u001b[30m|   \u001b[1m\u001b[30mA obj = \u001b[0m\u001b[1m\u001b[30m\u001b[41mnew B()\u001b[0m\u001b[1m\u001b[30m;\u001b[0m",
      "\u001b[1m\u001b[31mB is abstract; cannot be instantiated\u001b[0m",
      ""
     ]
    }
   ],
   "source": [
    "abstract class A{\n",
    "    int i=10;\n",
    "    public abstract void login();\n",
    "}\n",
    "\n",
    "abstract class B extends A{\n",
    "    public void show(){\n",
    "        System.out.println(\"Nivas\");\n",
    "    }\n",
    "}"
   ]
  },
  {
   "cell_type": "code",
   "execution_count": 1,
   "id": "dental-investing",
   "metadata": {},
   "outputs": [
    {
     "name": "stdout",
     "output_type": "stream",
     "text": [
      "Adding an element to the linked list\n"
     ]
    }
   ],
   "source": [
    "class Node {\n",
    "    private String data;\n",
    "    private Node next;\n",
    "\n",
    "    public Node(String data){\n",
    "        this.data=data;\n",
    "    }\n",
    "    public void setData(String data){\n",
    "        this.data = data;\n",
    "    }\n",
    "    public void setNext(Node node){\n",
    "        this.next = node;\n",
    "    }\n",
    "    public String getData(){\n",
    "        return this.data;\n",
    "    }\n",
    "    public Node getNext(){\n",
    "        return this.next;\n",
    "    }\n",
    "}\n",
    "\n",
    "class LinkedList {\n",
    "\n",
    "    private Node head;\n",
    "    private Node tail;\n",
    "\n",
    "    public Node getHead(){\n",
    "        return this.head;\n",
    "    }\n",
    "    public Node getTail(){\n",
    "        return this.tail;\n",
    "    }\n",
    "    public void addAtEnd(String data){\n",
    "        //Create a new node\n",
    "        Node node = new Node(data);\n",
    "\n",
    "        //Check if the list is empty, \n",
    "        //if yes, make the node as the head and the tail\n",
    "        if(this.head == null)\n",
    "            this.head=this.tail=node;\n",
    "        else{\n",
    "            //If the list is not empty, add the element at the end\n",
    "            this.tail.setNext(node);\n",
    "            //Make the new node as the tail\n",
    "            this.tail=node;\n",
    "        }\n",
    "\n",
    "    }\n",
    "}\n",
    "\n",
    "LinkedList list = new LinkedList();\n",
    "list.addAtEnd(\"Milan\");\n",
    "list.addAtEnd(\"Venice\");\n",
    "list.addAtEnd(\"Munich\");\n",
    "list.addAtEnd(\"Vienna\");\n",
    "System.out.println(\"Adding an element to the linked list\");"
   ]
  },
  {
   "cell_type": "code",
   "execution_count": 16,
   "id": "circular-civilian",
   "metadata": {},
   "outputs": [
    {
     "data": {
      "text/plain": [
       "Mouse"
      ]
     },
     "execution_count": 16,
     "metadata": {},
     "output_type": "execute_result"
    }
   ],
   "source": [
    "class Computer{\n",
    "    String ComponentName;\n",
    "    int ComponentCount;\n",
    "    \n",
    "    public Computer(String ComponentName,int ComponentCount){\n",
    "        this.ComponentName = ComponentName;\n",
    "        this.ComponentCount = ComponentCount;\n",
    "    }\n",
    "    \n",
    "    public String getComponentName(){\n",
    "        return ComponentName;\n",
    "    }\n",
    "}\n",
    "\n",
    "Computer com1 = new Computer(\"Mouse\",3);\n",
    "com1.getComponentName();"
   ]
  },
  {
   "cell_type": "code",
   "execution_count": 24,
   "id": "collective-while",
   "metadata": {},
   "outputs": [
    {
     "data": {
      "text/plain": [
       "11"
      ]
     },
     "execution_count": 24,
     "metadata": {},
     "output_type": "execute_result"
    }
   ],
   "source": [
    "public static int getMonth(String month) {\n",
    "    int monthNum=0;\n",
    "    switch(month) {\n",
    "    case(\"Jan\"):\n",
    "        monthNum = 1;\n",
    "        break;\n",
    "    case(\"Feb\"):\n",
    "        monthNum = 2;\n",
    "        break;\n",
    "    case(\"Mar\"):\n",
    "        monthNum = 3;\n",
    "        break;\n",
    "    case(\"Apr\"):\n",
    "        monthNum = 4;\n",
    "        break;\n",
    "    case(\"May\"):\n",
    "        monthNum = 5;\n",
    "        break;\n",
    "    case(\"Jun\"):\n",
    "        monthNum = 6;\n",
    "        break;\n",
    "    case(\"Jul\"):\n",
    "        monthNum = 7;\n",
    "        break;\n",
    "    case(\"Aug\"):\n",
    "        monthNum = 8;\n",
    "        break;\n",
    "    case(\"Sep\"):\n",
    "        monthNum = 9;\n",
    "        break;\n",
    "    case(\"Oct\"):\n",
    "        monthNum = 10;\n",
    "        break;\n",
    "    case(\"Nov\"):\n",
    "        monthNum = 11;\n",
    "        break;\n",
    "    case(\"Dec\"):\n",
    "        monthNum = 12;\n",
    "        break;\n",
    "    default:\n",
    "        monthNum = 0;\n",
    "        break;\n",
    "\n",
    "    }\n",
    "\n",
    "    return monthNum;\n",
    "}\n",
    "\n",
    "getMonth(\"Nov\");"
   ]
  },
  {
   "cell_type": "code",
   "execution_count": 16,
   "id": "welcome-victoria",
   "metadata": {},
   "outputs": [
    {
     "data": {
      "text/plain": [
       "false"
      ]
     },
     "execution_count": 16,
     "metadata": {},
     "output_type": "execute_result"
    }
   ],
   "source": [
    "String regex = \"^((\\b[a-zA-Z]{2,40}\\b)\\s*){2,}$\";\n",
    "String str = \"nivas\";\n",
    "str.matches(regex);"
   ]
  },
  {
   "cell_type": "markdown",
   "id": "velvet-enemy",
   "metadata": {},
   "source": [
    "Reference ekkadi nunchi anedhi chaala important anamaata....."
   ]
  },
  {
   "cell_type": "code",
   "execution_count": 39,
   "id": "arabic-pizza",
   "metadata": {},
   "outputs": [
    {
     "name": "stdout",
     "output_type": "stream",
     "text": [
      "String constructor"
     ]
    }
   ],
   "source": [
    "class One{\n",
    "\n",
    "    public One(int x){\n",
    "        System.out.print(\"int constructor\");\n",
    "    }\n",
    "\n",
    "    public One(char c){\n",
    "        System.out.print(\"char constructor\");\n",
    "    }\n",
    "\n",
    "    public One(String str){\n",
    "        System.out.print(\"String constructor\");\n",
    "    }\n",
    "}\n",
    "\n",
    "String ch = \"c\";\n",
    "One one = new One(ch);"
   ]
  },
  {
   "cell_type": "code",
   "execution_count": 5,
   "id": "about-enemy",
   "metadata": {},
   "outputs": [
    {
     "data": {
      "text/plain": [
       "P"
      ]
     },
     "execution_count": 5,
     "metadata": {},
     "output_type": "execute_result"
    }
   ],
   "source": [
    "String customer = \"NivasP\";\n",
    "customer.charAt(customer.length()-1);"
   ]
  },
  {
   "cell_type": "code",
   "execution_count": 11,
   "id": "distant-avenue",
   "metadata": {},
   "outputs": [
    {
     "data": {
      "text/plain": [
       "20.0"
      ]
     },
     "execution_count": 11,
     "metadata": {},
     "output_type": "execute_result"
    }
   ],
   "source": [
    "int i = 10;\n",
    "\n",
    "float j = 10;\n",
    "\n",
    "float sum = i+j;\n",
    "sum;"
   ]
  },
  {
   "cell_type": "code",
   "execution_count": 18,
   "id": "norman-arctic",
   "metadata": {},
   "outputs": [
    {
     "data": {
      "text/plain": [
       "20"
      ]
     },
     "execution_count": 18,
     "metadata": {},
     "output_type": "execute_result"
    }
   ],
   "source": [
    "double f = 20;\n",
    "int i = 10;\n",
    "i = (int)f;\n",
    "i"
   ]
  },
  {
   "cell_type": "code",
   "execution_count": 42,
   "id": "australian-offense",
   "metadata": {},
   "outputs": [],
   "source": [
    "public class Stack {\n",
    "\tprivate int top;\n",
    "\tprivate int maxSize;\n",
    "\tprivate String[] arr;\n",
    "\t\n",
    "\tpublic Stack(int maxSize) {\n",
    "\t\tthis.top = -1;\n",
    "\t\tthis.maxSize = maxSize;\n",
    "\t\tthis.arr = new String[maxSize];\n",
    "\t}\n",
    "\t\n",
    "\tpublic int getMaxSize() {\n",
    "\t\treturn this.maxSize;\n",
    "\t}\n",
    "\t\n",
    "\tpublic boolean isFull() {\n",
    "\t\tif (top >= maxSize-1) \n",
    "\t\t\treturn true;\n",
    "\t\treturn false;\n",
    "\t}\n",
    "\t\n",
    "\tpublic boolean push(String data) {\n",
    "\t\tif(isFull()) \n",
    "\t\t\treturn false;\n",
    "\t\telse {\n",
    "\t\t\tarr[++top] = data;\n",
    "\t\t\treturn true;\n",
    "\t\t}\n",
    "\t}\n",
    "\t\n",
    "\tpublic boolean isEmpty() {\n",
    "\t\tif (top < 0) \n",
    "\t\t\treturn true;\n",
    "\t\treturn false;\n",
    "\t}\n",
    "\t\n",
    "\tpublic String peek() {\n",
    "\t\tif (isEmpty()) \n",
    "\t\t\treturn null;\n",
    "\t\treturn arr[top];\n",
    "\t}\n",
    "\t\n",
    "\tpublic String pop() {\n",
    "\t\tif (isEmpty()) \n",
    "\t\t\treturn null; \n",
    "\t\treturn arr[top--];\n",
    "\t}\n",
    "\t\n",
    "\tpublic void display() {\n",
    "\t\tif (isEmpty()) \n",
    "\t\t\tSystem.out.println(\"Stack is empty!\");\n",
    "\t\telse {\n",
    "\t\t\tSystem.out.println(\"Displaying Stack elements:\");\n",
    "\t\t\tfor (int ind = top; ind >=0; ind--) \n",
    "\t\t\t\tSystem.out.println(arr[ind]);\n",
    "\t\t}\n",
    "\t}\n",
    "}\n"
   ]
  },
  {
   "cell_type": "code",
   "execution_count": 43,
   "id": "committed-movie",
   "metadata": {},
   "outputs": [],
   "source": [
    "public class Queue {\n",
    "\tprivate int front, rear, maxSize;\n",
    "\tprivate String[] arr;\n",
    "\t\n",
    "\tQueue(int maxSize) {\n",
    "\t\tthis.maxSize = maxSize;\n",
    "\t\tthis.front = 0;\n",
    "\t\tthis.rear = -1;\n",
    "\t\tthis.arr = new String[maxSize];\n",
    "\t}\n",
    "\t\n",
    "\tpublic int getMaxSize() {\n",
    "\t\treturn this.maxSize;\n",
    "\t}\n",
    "\t\n",
    "\tpublic boolean isFull() {\n",
    "\t\tif (rear == maxSize-1)\n",
    "\t\t\treturn true;\n",
    "\t\treturn false;\n",
    "\t}\n",
    "\t\n",
    "\tpublic boolean enqueue(String data) {\n",
    "\t\tif(isFull()) \n",
    "\t\t\treturn false;\n",
    "\t\telse {\n",
    "\t\t\tarr[++rear] = data;\n",
    "\t\t\treturn true;\n",
    "\t\t}\n",
    "\t}\n",
    "\t\n",
    "\tpublic boolean isEmpty() {\n",
    "\t\tif (front > rear) \n",
    "\t\t\treturn true;\n",
    "\t\treturn false;\n",
    "\t}\n",
    "\t\n",
    "\tpublic String dequeue() {\n",
    "\t\tif (isEmpty())\n",
    "\t\t\treturn null;\n",
    "\t\telse \n",
    "\t\t\treturn arr[front++];\n",
    "\t}\n",
    "\t\n",
    "\tpublic void display() {\n",
    "\t\tif (isEmpty()) \n",
    "\t\t\tSystem.out.println(\"Queue is empty!\");\n",
    "\t\telse {\n",
    "\t\t\tSystem.out.println(\"Displaying Queue elements:\");\n",
    "\t\t\tfor (int ind = front; ind <= rear; ind++)\n",
    "\t\t\t\tSystem.out.println(arr[ind]);\n",
    "\t\t}\n",
    "\t}\n",
    "}"
   ]
  },
  {
   "cell_type": "code",
   "execution_count": 44,
   "id": "piano-alfred",
   "metadata": {},
   "outputs": [
    {
     "name": "stdout",
     "output_type": "stream",
     "text": [
      "Displaying Stack elements:\n",
      "3P1\n",
      "2P2\n",
      "1P3\n"
     ]
    }
   ],
   "source": [
    "// inside main\n",
    "Stack inStrStack = new Stack(3);\n",
    "inStrStack.push(\"1P3\");\n",
    "inStrStack.push(\"2P2\");\n",
    "inStrStack.push(\"3P1\");\n",
    "inStrStack.display();\n",
    "Queue outStrQueue = new Queue(inStrStack.getMaxSize());"
   ]
  },
  {
   "cell_type": "code",
   "execution_count": 45,
   "id": "completed-grounds",
   "metadata": {},
   "outputs": [],
   "source": [
    "for(int i = 0;i<inStrStack.getMaxSize();i++){\n",
    "    \n",
    "}"
   ]
  },
  {
   "cell_type": "code",
   "execution_count": 46,
   "id": "charitable-siemens",
   "metadata": {},
   "outputs": [
    {
     "name": "stdout",
     "output_type": "stream",
     "text": [
      "Queue is empty!\n"
     ]
    }
   ],
   "source": [
    "outStrQueue.display();"
   ]
  },
  {
   "cell_type": "code",
   "execution_count": 47,
   "id": "superb-trade",
   "metadata": {},
   "outputs": [
    {
     "data": {
      "text/plain": [
       "true"
      ]
     },
     "execution_count": 47,
     "metadata": {},
     "output_type": "execute_result"
    }
   ],
   "source": [
    "inStrStack.peek().charAt(2)=='1';\n",
    "outStrQueue.enqueue(inStrStack.peek());"
   ]
  },
  {
   "cell_type": "code",
   "execution_count": 48,
   "id": "appropriate-likelihood",
   "metadata": {},
   "outputs": [
    {
     "name": "stdout",
     "output_type": "stream",
     "text": [
      "Displaying Queue elements:\n",
      "3P1\n"
     ]
    }
   ],
   "source": [
    "outStrQueue.display();"
   ]
  },
  {
   "cell_type": "code",
   "execution_count": null,
   "id": "satisfied-number",
   "metadata": {},
   "outputs": [],
   "source": []
  }
 ],
 "metadata": {
  "kernelspec": {
   "display_name": "Java",
   "language": "java",
   "name": "java"
  },
  "language_info": {
   "codemirror_mode": "java",
   "file_extension": ".jshell",
   "mimetype": "text/x-java-source",
   "name": "Java",
   "pygments_lexer": "java",
   "version": "15.0.2+7-27"
  }
 },
 "nbformat": 4,
 "nbformat_minor": 5
}
